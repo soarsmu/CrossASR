{
 "cells": [
  {
   "cell_type": "markdown",
   "metadata": {},
   "source": [
    "# Guided Test Case Generation System Notebook"
   ]
  },
  {
   "cell_type": "code",
   "execution_count": 1,
   "metadata": {},
   "outputs": [],
   "source": [
    "# Basic libraries\n",
    "import os, sys\n",
    "import numpy as np\n",
    "import re\n",
    "import string\n",
    "from datetime import datetime\n",
    "import math\n",
    "import pandas as pd\n",
    "\n",
    "import utils, constant\n",
    "\n",
    "import matplotlib.pyplot as plt\n",
    "import seaborn as sns\n",
    "%matplotlib inline\n",
    "\n",
    "\n",
    "\n",
    "# Speech\n",
    "import soundfile as sf # pip install pysoundfile\n",
    "import python_speech_features as speech_lib # pip install python_speech_features\n",
    "\n",
    "\n",
    "# Machine learning\n",
    "import nltk\n",
    "import xgboost\n",
    "from sklearn.utils import shuffle\n",
    "from sklearn.base import clone as clone_model\n",
    "from sklearn.utils import resample\n",
    "from sklearn.naive_bayes import GaussianNB\n",
    "from sklearn.neural_network import MLPClassifier\n",
    "from sklearn.linear_model import LogisticRegression\n",
    "from sklearn.svm import SVC\n",
    "from sklearn.naive_bayes import MultinomialNB\n",
    "from sklearn.tree import DecisionTreeClassifier\n",
    "from sklearn.neighbors import KNeighborsClassifier\n",
    "from sklearn.ensemble import RandomForestClassifier\n",
    "from sklearn.ensemble import AdaBoostClassifier\n",
    "from sklearn.ensemble import BaggingClassifier\n",
    "from sklearn.ensemble import ExtraTreesClassifier\n",
    "from sklearn.metrics import classification_report, confusion_matrix, accuracy_score, precision_score, recall_score, f1_score\n",
    "\n",
    "import joblib\n",
    "\n",
    "import tensorflow as tf\n",
    "\n",
    "\n",
    "%load_ext autoreload\n",
    "%autoreload 2\n",
    "np.set_printoptions(precision=4)"
   ]
  },
  {
   "cell_type": "markdown",
   "metadata": {},
   "source": [
    "### Read Data"
   ]
  },
  {
   "cell_type": "code",
   "execution_count": 2,
   "metadata": {},
   "outputs": [],
   "source": [
    "DEEPSPEECH = \"deepspeech\"\n",
    "ALEXA = \"alexa\"\n",
    "GCLOUD = \"gcloud\"\n",
    "CHROMESPEECH = \"gspeech\"\n",
    "WIT = \"wit\"\n",
    "WAV2LETTER = \"wav2letter\"\n",
    "PADDLEDEEPSPEECH = \"paddledeepspeech\"\n",
    "SR = [DEEPSPEECH, WIT, WAV2LETTER, PADDLEDEEPSPEECH]\n",
    "\n",
    "df = utils.read_data(\"training_data/\" + WIT + \".txt\")"
   ]
  },
  {
   "cell_type": "code",
   "execution_count": 3,
   "metadata": {},
   "outputs": [
    {
     "data": {
      "text/html": [
       "<div>\n",
       "<style scoped>\n",
       "    .dataframe tbody tr th:only-of-type {\n",
       "        vertical-align: middle;\n",
       "    }\n",
       "\n",
       "    .dataframe tbody tr th {\n",
       "        vertical-align: top;\n",
       "    }\n",
       "\n",
       "    .dataframe thead th {\n",
       "        text-align: right;\n",
       "    }\n",
       "</style>\n",
       "<table border=\"1\" class=\"dataframe\">\n",
       "  <thead>\n",
       "    <tr style=\"text-align: right;\">\n",
       "      <th></th>\n",
       "      <th>sentence</th>\n",
       "      <th>label</th>\n",
       "    </tr>\n",
       "  </thead>\n",
       "  <tbody>\n",
       "    <tr>\n",
       "      <th>0</th>\n",
       "      <td>had laid before her a pair of alternatives now...</td>\n",
       "      <td>-1</td>\n",
       "    </tr>\n",
       "    <tr>\n",
       "      <th>1</th>\n",
       "      <td>property erects a kind of barrier you can do a...</td>\n",
       "      <td>-1</td>\n",
       "    </tr>\n",
       "    <tr>\n",
       "      <th>2</th>\n",
       "      <td>i mean of course if you'll take a companion so...</td>\n",
       "      <td>-1</td>\n",
       "    </tr>\n",
       "    <tr>\n",
       "      <th>3</th>\n",
       "      <td>she'd keep people off very well i think</td>\n",
       "      <td>1</td>\n",
       "    </tr>\n",
       "    <tr>\n",
       "      <th>4</th>\n",
       "      <td>that it's a great deal better you should remai...</td>\n",
       "      <td>1</td>\n",
       "    </tr>\n",
       "    <tr>\n",
       "      <th>5</th>\n",
       "      <td>she had a great regard for what was usually de...</td>\n",
       "      <td>-1</td>\n",
       "    </tr>\n",
       "    <tr>\n",
       "      <th>6</th>\n",
       "      <td>when she sat in her damp waterproof and sketch...</td>\n",
       "      <td>-1</td>\n",
       "    </tr>\n",
       "    <tr>\n",
       "      <th>7</th>\n",
       "      <td>and her imagination constantly anticipated the...</td>\n",
       "      <td>-1</td>\n",
       "    </tr>\n",
       "    <tr>\n",
       "      <th>8</th>\n",
       "      <td>but was never over inquisitive as regards the ...</td>\n",
       "      <td>-1</td>\n",
       "    </tr>\n",
       "    <tr>\n",
       "      <th>9</th>\n",
       "      <td>so little surface offered so limited a face to...</td>\n",
       "      <td>-1</td>\n",
       "    </tr>\n",
       "  </tbody>\n",
       "</table>\n",
       "</div>"
      ],
      "text/plain": [
       "                                            sentence  label\n",
       "0  had laid before her a pair of alternatives now...     -1\n",
       "1  property erects a kind of barrier you can do a...     -1\n",
       "2  i mean of course if you'll take a companion so...     -1\n",
       "3            she'd keep people off very well i think      1\n",
       "4  that it's a great deal better you should remai...      1\n",
       "5  she had a great regard for what was usually de...     -1\n",
       "6  when she sat in her damp waterproof and sketch...     -1\n",
       "7  and her imagination constantly anticipated the...     -1\n",
       "8  but was never over inquisitive as regards the ...     -1\n",
       "9  so little surface offered so limited a face to...     -1"
      ]
     },
     "execution_count": 3,
     "metadata": {},
     "output_type": "execute_result"
    }
   ],
   "source": [
    "df.head(10)"
   ]
  },
  {
   "cell_type": "markdown",
   "metadata": {},
   "source": [
    "#### Change the label"
   ]
  },
  {
   "cell_type": "code",
   "execution_count": 4,
   "metadata": {},
   "outputs": [],
   "source": [
    "succes_test_case = np.where(df[\"label\"] == constant.NON_BUG_LABEL)[0]\n",
    "undetermined_case = np.where(df[\"label\"] == constant.UNDETERMINED_LABEL)[0]"
   ]
  },
  {
   "cell_type": "code",
   "execution_count": 5,
   "metadata": {},
   "outputs": [
    {
     "name": "stderr",
     "output_type": "stream",
     "text": [
      "/Users/mhilmiasyrofi/env/lib/python3.7/site-packages/ipykernel_launcher.py:1: SettingWithCopyWarning: \n",
      "A value is trying to be set on a copy of a slice from a DataFrame\n",
      "\n",
      "See the caveats in the documentation: https://pandas.pydata.org/pandas-docs/stable/user_guide/indexing.html#returning-a-view-versus-a-copy\n",
      "  \"\"\"Entry point for launching an IPython kernel.\n",
      "/Users/mhilmiasyrofi/env/lib/python3.7/site-packages/ipykernel_launcher.py:2: SettingWithCopyWarning: \n",
      "A value is trying to be set on a copy of a slice from a DataFrame\n",
      "\n",
      "See the caveats in the documentation: https://pandas.pydata.org/pandas-docs/stable/user_guide/indexing.html#returning-a-view-versus-a-copy\n",
      "  \n"
     ]
    }
   ],
   "source": [
    "df[\"label\"][succes_test_case] = constant.DETERMINED_LABEL\n",
    "df[\"label\"][undetermined_case] = constant.UNDETERMINED_LABEL"
   ]
  },
  {
   "cell_type": "code",
   "execution_count": 6,
   "metadata": {},
   "outputs": [
    {
     "data": {
      "text/html": [
       "<div>\n",
       "<style scoped>\n",
       "    .dataframe tbody tr th:only-of-type {\n",
       "        vertical-align: middle;\n",
       "    }\n",
       "\n",
       "    .dataframe tbody tr th {\n",
       "        vertical-align: top;\n",
       "    }\n",
       "\n",
       "    .dataframe thead th {\n",
       "        text-align: right;\n",
       "    }\n",
       "</style>\n",
       "<table border=\"1\" class=\"dataframe\">\n",
       "  <thead>\n",
       "    <tr style=\"text-align: right;\">\n",
       "      <th></th>\n",
       "      <th>sentence</th>\n",
       "      <th>label</th>\n",
       "    </tr>\n",
       "  </thead>\n",
       "  <tbody>\n",
       "    <tr>\n",
       "      <th>0</th>\n",
       "      <td>had laid before her a pair of alternatives now...</td>\n",
       "      <td>-1</td>\n",
       "    </tr>\n",
       "    <tr>\n",
       "      <th>1</th>\n",
       "      <td>property erects a kind of barrier you can do a...</td>\n",
       "      <td>-1</td>\n",
       "    </tr>\n",
       "    <tr>\n",
       "      <th>2</th>\n",
       "      <td>i mean of course if you'll take a companion so...</td>\n",
       "      <td>-1</td>\n",
       "    </tr>\n",
       "    <tr>\n",
       "      <th>3</th>\n",
       "      <td>she'd keep people off very well i think</td>\n",
       "      <td>1</td>\n",
       "    </tr>\n",
       "    <tr>\n",
       "      <th>4</th>\n",
       "      <td>that it's a great deal better you should remai...</td>\n",
       "      <td>1</td>\n",
       "    </tr>\n",
       "    <tr>\n",
       "      <th>5</th>\n",
       "      <td>she had a great regard for what was usually de...</td>\n",
       "      <td>-1</td>\n",
       "    </tr>\n",
       "    <tr>\n",
       "      <th>6</th>\n",
       "      <td>when she sat in her damp waterproof and sketch...</td>\n",
       "      <td>-1</td>\n",
       "    </tr>\n",
       "    <tr>\n",
       "      <th>7</th>\n",
       "      <td>and her imagination constantly anticipated the...</td>\n",
       "      <td>-1</td>\n",
       "    </tr>\n",
       "    <tr>\n",
       "      <th>8</th>\n",
       "      <td>but was never over inquisitive as regards the ...</td>\n",
       "      <td>-1</td>\n",
       "    </tr>\n",
       "    <tr>\n",
       "      <th>9</th>\n",
       "      <td>so little surface offered so limited a face to...</td>\n",
       "      <td>-1</td>\n",
       "    </tr>\n",
       "  </tbody>\n",
       "</table>\n",
       "</div>"
      ],
      "text/plain": [
       "                                            sentence  label\n",
       "0  had laid before her a pair of alternatives now...     -1\n",
       "1  property erects a kind of barrier you can do a...     -1\n",
       "2  i mean of course if you'll take a companion so...     -1\n",
       "3            she'd keep people off very well i think      1\n",
       "4  that it's a great deal better you should remai...      1\n",
       "5  she had a great regard for what was usually de...     -1\n",
       "6  when she sat in her damp waterproof and sketch...     -1\n",
       "7  and her imagination constantly anticipated the...     -1\n",
       "8  but was never over inquisitive as regards the ...     -1\n",
       "9  so little surface offered so limited a face to...     -1"
      ]
     },
     "execution_count": 6,
     "metadata": {},
     "output_type": "execute_result"
    }
   ],
   "source": [
    "df.head(10)"
   ]
  },
  {
   "cell_type": "markdown",
   "metadata": {},
   "source": [
    "### Data distribution"
   ]
  },
  {
   "cell_type": "code",
   "execution_count": 7,
   "metadata": {},
   "outputs": [
    {
     "data": {
      "image/png": "[encoded data removed]",
      "text/plain": [
       "<Figure size 432x432 with 1 Axes>"
      ]
     },
     "metadata": {},
     "output_type": "display_data"
    }
   ],
   "source": [
    "df[\"label\"].value_counts().plot(kind = 'pie', explode = [0.1, 0.1], figsize = (6, 6), autopct = '%1.1f%%', shadow = True)\n",
    "plt.ylabel(\"Data Distibution\")\n",
    "plt.legend([\"Undetermined Case\", \"Determined Case\"])\n",
    "plt.show()"
   ]
  },
  {
   "cell_type": "markdown",
   "metadata": {},
   "source": [
    "we need to handle imbalance data"
   ]
  },
  {
   "cell_type": "markdown",
   "metadata": {},
   "source": [
    "### Handle Imbalance Data"
   ]
  },
  {
   "cell_type": "code",
   "execution_count": 8,
   "metadata": {},
   "outputs": [
    {
     "name": "stdout",
     "output_type": "stream",
     "text": [
      "Resample Size: 7573\n"
     ]
    }
   ],
   "source": [
    "RESAMPLE_SIZE = utils.get_resample_size(df)\n",
    "print(\"Resample Size: %d\" % RESAMPLE_SIZE)\n",
    "\n",
    "sample = utils.resample_to_fix_number(df, RESAMPLE_SIZE)\n",
    "# sample[\"label\"].value_counts().plot(kind = 'pie', explode = [0.1, 0.1, 0.1], figsize = (6, 6), autopct = '%1.1f%%', shadow = True)\n",
    "# plt.ylabel(\"Data Distibution\")\n",
    "# plt.legend([\"Undetermined Label\", \"Non-Bug\", \"Bug\"])\n",
    "# plt.show()"
   ]
  },
  {
   "cell_type": "markdown",
   "metadata": {},
   "source": [
    "### Feature Extraction"
   ]
  },
  {
   "cell_type": "code",
   "execution_count": 9,
   "metadata": {},
   "outputs": [],
   "source": [
    "from gensim.models import Word2Vec\n",
    "\n",
    "corpus_sentence = pd.read_csv('corpus-sentence.txt', sep=\",\", header=None)\n",
    "corpus_sentence.columns = [\"sentence\"]\n",
    "tokenized_corpus = list(corpus_sentence['sentence'].apply(utils.text_process))\n",
    "\n",
    "w2v_model = Word2Vec(\n",
    "    sentences=tokenized_corpus,\n",
    "    size=constant.EMBEDDING_SIZE,\n",
    "    min_count=1,\n",
    "    window=5,\n",
    "    workers=constant.NUM_CORES,\n",
    "    seed=1337\n",
    ")\n",
    "\n",
    "w2v_model.save(\"model/word2vec.model\")\n",
    "\n",
    "# Show that similar words to 'program' print\n",
    "# w2v_model.wv.most_similar(positive='program')"
   ]
  },
  {
   "cell_type": "code",
   "execution_count": 10,
   "metadata": {},
   "outputs": [],
   "source": [
    "# Encode the documents using the new embedding\n",
    "encoded_docs = [[w2v_model.wv[word] for word in sentence] for sentence in tokenized_corpus]"
   ]
  },
  {
   "cell_type": "markdown",
   "metadata": {},
   "source": [
    "### Length variation on each sentence"
   ]
  },
  {
   "cell_type": "code",
   "execution_count": 11,
   "metadata": {},
   "outputs": [
    {
     "name": "stdout",
     "output_type": "stream",
     "text": [
      "42\n",
      "40\n"
     ]
    }
   ],
   "source": [
    "print(len(encoded_docs[0]))\n",
    "print(len(encoded_docs[1])) \n",
    "# print(encoded_docs[0]) "
   ]
  },
  {
   "cell_type": "code",
   "execution_count": 12,
   "metadata": {},
   "outputs": [
    {
     "data": {
      "text/plain": [
       "75"
      ]
     },
     "execution_count": 12,
     "metadata": {},
     "output_type": "execute_result"
    }
   ],
   "source": [
    "def max_length_sentence_from_corpus(encoded_docs):\n",
    "    max = 0\n",
    "    for encoded_sentence in encoded_docs :\n",
    "        if (len(encoded_sentence) > max) :\n",
    "            max = len(encoded_sentence)\n",
    "    return max\n",
    "\n",
    "\n",
    "MAX_LENGTH = max_length_sentence_from_corpus(encoded_docs)\n",
    "MAX_LENGTH"
   ]
  },
  {
   "cell_type": "code",
   "execution_count": 13,
   "metadata": {},
   "outputs": [],
   "source": [
    "# because the length of each sentence is various \n",
    "# and we use non-sequential machine learning model\n",
    "# we need to make padding for each sentences\n",
    "def create_padding_on_sentence(encoded_docs) :\n",
    "    padded_posts = []\n",
    "\n",
    "    for post in encoded_docs:\n",
    "\n",
    "        # Pad short posts with alternating min/max\n",
    "        if len(post) < MAX_LENGTH:\n",
    "\n",
    "            padding_size = MAX_LENGTH - len(post)\n",
    "\n",
    "            for _ in range(0, padding_size) :\n",
    "                post.append(np.zeros((constant.EMBEDDING_SIZE)))\n",
    "\n",
    "\n",
    "        # Shorten long posts or those odd number length posts we padded to MAX_LENGTH\n",
    "        if len(post) > MAX_LENGTH:\n",
    "            post = post[:MAX_LENGTH]\n",
    "\n",
    "        # Add the post to our new list of padded posts\n",
    "        padded_posts.append(post)\n",
    "    \n",
    "    return padded_posts"
   ]
  },
  {
   "cell_type": "code",
   "execution_count": 14,
   "metadata": {},
   "outputs": [],
   "source": [
    "def flatten_docs(padded_docs) :\n",
    "    flatten = []\n",
    "    for sentence in padded_docs:\n",
    "        ps = []\n",
    "        for word in sentence :\n",
    "            for feature in word :\n",
    "                ps.append(feature)\n",
    "        flatten.append(ps)\n",
    "    return np.asarray(flatten)"
   ]
  },
  {
   "cell_type": "code",
   "execution_count": 121,
   "metadata": {},
   "outputs": [],
   "source": [
    "temp_data = utils.shuffle_data(df)"
   ]
  },
  {
   "cell_type": "code",
   "execution_count": 122,
   "metadata": {},
   "outputs": [
    {
     "data": {
      "text/html": [
       "<div>\n",
       "<style scoped>\n",
       "    .dataframe tbody tr th:only-of-type {\n",
       "        vertical-align: middle;\n",
       "    }\n",
       "\n",
       "    .dataframe tbody tr th {\n",
       "        vertical-align: top;\n",
       "    }\n",
       "\n",
       "    .dataframe thead th {\n",
       "        text-align: right;\n",
       "    }\n",
       "</style>\n",
       "<table border=\"1\" class=\"dataframe\">\n",
       "  <thead>\n",
       "    <tr style=\"text-align: right;\">\n",
       "      <th></th>\n",
       "      <th>sentence</th>\n",
       "      <th>label</th>\n",
       "    </tr>\n",
       "  </thead>\n",
       "  <tbody>\n",
       "    <tr>\n",
       "      <th>0</th>\n",
       "      <td>the last of them that we encountered the surfa...</td>\n",
       "      <td>-1</td>\n",
       "    </tr>\n",
       "    <tr>\n",
       "      <th>1</th>\n",
       "      <td>always he replied shaking his head sorrowfully...</td>\n",
       "      <td>-1</td>\n",
       "    </tr>\n",
       "    <tr>\n",
       "      <th>2</th>\n",
       "      <td>show the diversity of the english humor as ass...</td>\n",
       "      <td>-1</td>\n",
       "    </tr>\n",
       "    <tr>\n",
       "      <th>3</th>\n",
       "      <td>he continued to follow the path to the glade b...</td>\n",
       "      <td>-1</td>\n",
       "    </tr>\n",
       "    <tr>\n",
       "      <th>4</th>\n",
       "      <td>scarcely had she closed the door upon herself ...</td>\n",
       "      <td>-1</td>\n",
       "    </tr>\n",
       "  </tbody>\n",
       "</table>\n",
       "</div>"
      ],
      "text/plain": [
       "                                            sentence  label\n",
       "0  the last of them that we encountered the surfa...     -1\n",
       "1  always he replied shaking his head sorrowfully...     -1\n",
       "2  show the diversity of the english humor as ass...     -1\n",
       "3  he continued to follow the path to the glade b...     -1\n",
       "4  scarcely had she closed the door upon herself ...     -1"
      ]
     },
     "execution_count": 122,
     "metadata": {},
     "output_type": "execute_result"
    }
   ],
   "source": [
    "temp_data.head()"
   ]
  },
  {
   "cell_type": "code",
   "execution_count": 123,
   "metadata": {},
   "outputs": [],
   "source": [
    "def word_length(sentence):\n",
    "    return [len(sentence.split(\" \"))]"
   ]
  },
  {
   "cell_type": "code",
   "execution_count": 124,
   "metadata": {},
   "outputs": [],
   "source": [
    "temp_data[\"char_length\"] = temp_data[\"sentence\"].apply(len)\n",
    "temp_data[\"word_length\"] = temp_data[\"sentence\"].apply(word_length)"
   ]
  },
  {
   "cell_type": "code",
   "execution_count": 125,
   "metadata": {},
   "outputs": [
    {
     "data": {
      "text/html": [
       "<div>\n",
       "<style scoped>\n",
       "    .dataframe tbody tr th:only-of-type {\n",
       "        vertical-align: middle;\n",
       "    }\n",
       "\n",
       "    .dataframe tbody tr th {\n",
       "        vertical-align: top;\n",
       "    }\n",
       "\n",
       "    .dataframe thead th {\n",
       "        text-align: right;\n",
       "    }\n",
       "</style>\n",
       "<table border=\"1\" class=\"dataframe\">\n",
       "  <thead>\n",
       "    <tr style=\"text-align: right;\">\n",
       "      <th></th>\n",
       "      <th>sentence</th>\n",
       "      <th>label</th>\n",
       "      <th>char_length</th>\n",
       "      <th>word_length</th>\n",
       "    </tr>\n",
       "  </thead>\n",
       "  <tbody>\n",
       "    <tr>\n",
       "      <th>0</th>\n",
       "      <td>the last of them that we encountered the surfa...</td>\n",
       "      <td>-1</td>\n",
       "      <td>204</td>\n",
       "      <td>[38]</td>\n",
       "    </tr>\n",
       "    <tr>\n",
       "      <th>1</th>\n",
       "      <td>always he replied shaking his head sorrowfully...</td>\n",
       "      <td>-1</td>\n",
       "      <td>175</td>\n",
       "      <td>[28]</td>\n",
       "    </tr>\n",
       "    <tr>\n",
       "      <th>2</th>\n",
       "      <td>show the diversity of the english humor as ass...</td>\n",
       "      <td>-1</td>\n",
       "      <td>175</td>\n",
       "      <td>[29]</td>\n",
       "    </tr>\n",
       "    <tr>\n",
       "      <th>3</th>\n",
       "      <td>he continued to follow the path to the glade b...</td>\n",
       "      <td>-1</td>\n",
       "      <td>193</td>\n",
       "      <td>[38]</td>\n",
       "    </tr>\n",
       "    <tr>\n",
       "      <th>4</th>\n",
       "      <td>scarcely had she closed the door upon herself ...</td>\n",
       "      <td>-1</td>\n",
       "      <td>182</td>\n",
       "      <td>[29]</td>\n",
       "    </tr>\n",
       "  </tbody>\n",
       "</table>\n",
       "</div>"
      ],
      "text/plain": [
       "                                            sentence  label  char_length  \\\n",
       "0  the last of them that we encountered the surfa...     -1          204   \n",
       "1  always he replied shaking his head sorrowfully...     -1          175   \n",
       "2  show the diversity of the english humor as ass...     -1          175   \n",
       "3  he continued to follow the path to the glade b...     -1          193   \n",
       "4  scarcely had she closed the door upon herself ...     -1          182   \n",
       "\n",
       "  word_length  \n",
       "0        [38]  \n",
       "1        [28]  \n",
       "2        [29]  \n",
       "3        [38]  \n",
       "4        [29]  "
      ]
     },
     "execution_count": 125,
     "metadata": {},
     "output_type": "execute_result"
    }
   ],
   "source": [
    "temp_data.head()"
   ]
  },
  {
   "cell_type": "code",
   "execution_count": 126,
   "metadata": {},
   "outputs": [],
   "source": [
    "def get_extra_feature(data):\n",
    "#     char_length = data.apply(len)\n",
    "    w_length = data.apply(word_length)\n",
    "#     print(w_length)\n",
    "    return list(w_length)\n",
    "\n",
    "def add_extra_feature(feature, extra):\n",
    "    \n",
    "    return np.concatenate((extra, feature), axis=1)"
   ]
  },
  {
   "cell_type": "code",
   "execution_count": 127,
   "metadata": {},
   "outputs": [],
   "source": [
    "def extract_feature(docs) :\n",
    "    tokenized_sentences = docs.apply(utils.text_process)\n",
    "    encoded_docs = [[w2v_model.wv[word] for word in sentence] for sentence in tokenized_sentences]\n",
    "    padded_docs = create_padding_on_sentence(encoded_docs)\n",
    "    flatten_array = flatten_docs(padded_docs)\n",
    "    extra_feature = get_extra_feature(docs)\n",
    "    flatten_array = add_extra_feature(flatten_array, extra_feature)\n",
    "    return flatten_array"
   ]
  },
  {
   "cell_type": "code",
   "execution_count": 128,
   "metadata": {},
   "outputs": [
    {
     "data": {
      "text/plain": [
       "'the last of them that we encountered the surface was now fine enough smooth as a floor and without a sign of sastrugi if our progress was nevertheless slow and difficult this was due to the wretched going'"
      ]
     },
     "execution_count": 128,
     "metadata": {},
     "output_type": "execute_result"
    }
   ],
   "source": [
    "temp_data[\"sentence\"][0]"
   ]
  },
  {
   "cell_type": "code",
   "execution_count": 129,
   "metadata": {},
   "outputs": [],
   "source": [
    "flatten_array = extract_feature(temp_data['sentence'])"
   ]
  },
  {
   "cell_type": "code",
   "execution_count": 130,
   "metadata": {},
   "outputs": [
    {
     "data": {
      "text/plain": [
       "array([ 3.8000e+01,  9.1499e-01,  1.0488e+00, -3.3199e+00, -1.0622e+00,\n",
       "       -5.0032e-01, -3.5296e-01,  1.0811e+00, -1.3763e+00, -1.0620e+00,\n",
       "       -1.8930e+00, -2.3609e+00,  2.0838e+00, -3.1907e-01, -9.5570e-02,\n",
       "        2.3309e+00, -3.3463e+00, -1.1873e+00, -2.2024e+00, -1.0583e+00,\n",
       "       -3.0309e+00, -2.1238e+00, -4.2881e-01, -6.0573e-01, -3.8431e+00,\n",
       "        1.6606e+00,  2.0060e+00,  3.7124e+00, -1.0579e-01, -2.5053e+00,\n",
       "       -1.7392e+00, -1.4948e+00,  1.9143e+00,  8.8052e-01, -6.4328e-01,\n",
       "        2.1560e+00, -2.6821e+00, -4.0295e-01,  2.6648e+00, -2.1187e+00,\n",
       "       -4.2035e+00,  7.8708e-01, -1.2688e-01,  1.5675e+00,  1.7239e-01,\n",
       "       -1.5757e+00, -2.8371e+00, -4.7542e+00,  5.2630e-01, -9.7150e-01,\n",
       "       -1.6188e+00,  1.7936e+00,  1.5399e+00, -1.0921e+00,  6.9692e-01,\n",
       "       -1.9543e+00, -3.0442e+00, -9.5960e-01,  2.6359e+00, -2.2675e+00,\n",
       "       -2.6536e+00,  1.4603e+00,  5.0349e-01, -2.9453e+00,  1.7341e+00,\n",
       "        2.6178e+00, -7.0892e+00,  1.7087e+00, -4.8851e-01,  3.3518e+00,\n",
       "       -1.7084e+00, -1.6893e+00, -2.8129e+00, -4.4389e+00,  4.8243e+00,\n",
       "        8.8551e-01, -4.0362e+00,  2.6007e+00,  8.1366e-01,  4.2356e-01,\n",
       "        1.0572e-01,  1.7486e-02, -4.1446e-02, -4.5146e-01,  3.0017e-01,\n",
       "       -1.2291e-01, -7.6415e-01, -7.4889e-02, -4.6202e-01, -3.5613e-01,\n",
       "        3.4367e-01, -2.3365e-01,  9.1499e-01,  1.0488e+00, -3.3199e+00,\n",
       "       -1.0622e+00, -5.0032e-01, -3.5296e-01,  1.0811e+00, -1.3763e+00,\n",
       "       -1.0620e+00, -1.8930e+00, -2.3609e+00,  2.0838e+00, -3.1907e-01,\n",
       "        4.3397e-01, -4.5538e-01, -1.1682e+00,  8.1338e-01, -9.0440e-01,\n",
       "       -1.0861e-01, -1.3162e-02, -1.0295e+00, -3.0369e-02, -7.0345e-01,\n",
       "       -9.9974e-01,  8.0965e-01, -3.3600e-01,  3.3748e+00, -2.5137e-01,\n",
       "        2.0446e+00, -2.5723e+00, -5.8013e+00, -1.7778e+00, -1.3010e+00,\n",
       "       -2.2104e+00, -2.9250e+00, -1.9585e+00, -7.7560e-01, -9.0248e-02,\n",
       "        1.7155e+00, -6.7628e-01,  8.2829e-01, -9.8651e-01,  1.8763e-01,\n",
       "       -1.4812e+00,  1.4771e+00, -1.4287e+00, -3.5390e+00,  3.2437e-01,\n",
       "        1.7387e+00, -3.4875e+00,  2.2811e-01,  1.9540e+00,  9.9089e-01,\n",
       "       -5.4994e-01, -1.1273e+00,  7.0165e-01, -1.9050e+00,  1.1661e+00,\n",
       "        4.4393e-01, -2.0265e+00, -7.4256e-02,  4.7047e-02, -1.6257e+00,\n",
       "        1.0631e+00,  1.2189e-01, -1.2221e+00,  2.0378e-01,  1.8406e-01,\n",
       "        3.0091e-01, -1.2651e+00,  1.9407e+00, -7.8865e-01, -3.6936e+00,\n",
       "        7.2010e-01,  1.3060e+00, -2.2799e+00,  1.5215e+00,  2.9397e+00,\n",
       "        5.4240e-01, -6.9953e-01, -9.3299e-01,  6.5352e-01, -7.6763e-01,\n",
       "        1.9537e-01,  1.9119e-01, -1.2267e+00, -4.1459e-01, -8.5579e-01,\n",
       "       -1.0985e+00,  9.5595e-01, -7.3103e-01, -7.6018e-01,  5.8243e-01,\n",
       "       -2.1593e-01,  2.0128e+00, -3.2216e+00,  4.5810e+00, -5.2429e-01,\n",
       "       -1.1484e+00, -9.3288e-01, -1.6025e-01, -3.3318e+00,  9.8459e-01,\n",
       "        2.9913e+00,  1.6255e+00,  2.9676e-01, -2.5933e+00, -1.8277e+00,\n",
       "       -8.2131e-01,  2.0615e+00,  1.7932e+00, -1.6300e+00, -3.1229e+00,\n",
       "       -3.1861e-01, -1.7224e+00,  2.9924e+00,  1.4235e+00,  7.3752e-01,\n",
       "       -4.7215e-01, -2.6108e+00,  1.2321e+00, -1.5182e+00, -7.4350e-01,\n",
       "       -1.2670e-01, -2.0177e+00, -1.6215e+00, -1.8071e+00, -1.6057e+00,\n",
       "        6.2392e-01, -7.3683e-01, -1.8463e-01,  2.7099e-01, -8.5576e-01,\n",
       "        1.2684e+00, -7.3887e-01,  1.0801e+00, -7.7664e-01, -2.3031e+00,\n",
       "       -1.0445e+00, -1.1532e+00, -2.2873e+00,  2.7749e-01, -7.2871e-01,\n",
       "        2.5022e-01,  1.7126e-01,  4.3857e-01, -8.9304e-01, -8.1675e-01,\n",
       "        1.6521e+00, -2.7637e+00, -2.7814e+00,  1.8107e+00,  2.1697e-02,\n",
       "       -1.7372e+00,  1.2459e+00, -1.5825e+00,  1.6255e+00,  2.9676e-01,\n",
       "       -2.5933e+00, -1.8277e+00, -8.2131e-01,  2.0615e+00,  1.7932e+00,\n",
       "       -1.6300e+00, -3.1229e+00, -3.1861e-01, -1.7224e+00,  2.9924e+00,\n",
       "        1.4235e+00,  4.7896e-01, -7.4083e-01, -7.9085e-01, -1.2755e-01,\n",
       "       -1.1773e+00,  2.4313e-01, -4.0353e-01, -1.3814e+00,  2.7671e-02,\n",
       "       -5.3353e-01, -8.5590e-01,  8.9481e-01, -2.7981e-01,  3.7124e+00,\n",
       "       -1.0579e-01, -2.5053e+00, -1.7392e+00, -1.4948e+00,  1.9143e+00,\n",
       "        8.8052e-01, -6.4328e-01,  2.1560e+00, -2.6821e+00, -4.0295e-01,\n",
       "        2.6648e+00, -2.1187e+00, -1.9882e-02, -7.1414e-02, -5.1320e-02,\n",
       "        7.6504e-02, -1.2584e-01, -3.3986e-02,  6.9370e-02, -1.1894e-01,\n",
       "       -3.6416e-02, -1.0818e-01, -5.9336e-02,  1.4369e-01, -4.9317e-02,\n",
       "       -1.7576e+00,  1.2690e+00, -8.8533e-01, -6.0145e-01, -4.6607e-01,\n",
       "        4.4141e+00, -1.9957e+00, -4.2497e+00,  2.1305e+00,  1.1868e+00,\n",
       "       -3.3989e+00,  5.1697e-01,  3.1334e+00,  8.5410e-01,  3.0352e-01,\n",
       "       -1.5056e+00,  1.3430e+00,  2.6504e+00,  2.6068e-01,  1.5695e+00,\n",
       "       -2.6601e+00,  2.6795e+00, -3.1700e+00, -1.4094e+00,  3.7139e+00,\n",
       "        1.3113e+00,  2.3517e-01, -4.0598e-01, -6.1442e-01,  8.8997e-02,\n",
       "       -8.3330e-01,  1.0896e-01, -1.8880e-01, -9.8907e-01, -1.9678e-01,\n",
       "       -7.3904e-01, -8.5810e-01,  1.0371e+00, -1.4479e-01,  3.3748e+00,\n",
       "       -2.5137e-01,  2.0446e+00, -2.5723e+00, -5.8013e+00, -1.7778e+00,\n",
       "       -1.3010e+00, -2.2104e+00, -2.9250e+00, -1.9585e+00, -7.7560e-01,\n",
       "       -9.0248e-02,  1.7155e+00,  3.0668e-01, -1.0654e-01, -1.5568e-01,\n",
       "       -4.7156e-02, -7.2485e-01,  6.0437e-01, -3.3557e-01, -1.0849e+00,\n",
       "        3.0056e-02, -4.2339e-01, -1.1288e+00,  6.1112e-01, -2.1282e-01,\n",
       "        1.5682e-01, -2.5667e-01, -2.1634e-01, -2.9511e-02, -8.6080e-01,\n",
       "        4.8481e-01,  3.1199e-01, -1.4880e+00, -3.1704e-01, -2.7770e-01,\n",
       "       -1.1314e+00,  6.8377e-01, -1.0200e-01, -1.8463e-01,  2.7099e-01,\n",
       "       -8.5576e-01,  1.2684e+00, -7.3887e-01,  1.0801e+00, -7.7664e-01,\n",
       "       -2.3031e+00, -1.0445e+00, -1.1532e+00, -2.2873e+00,  2.7749e-01,\n",
       "       -7.2871e-01, -1.4903e-01, -7.8841e-01,  2.2700e-01, -7.3709e-01,\n",
       "       -8.0581e-01,  3.9202e-01, -7.6844e-02, -1.8267e+00,  5.6755e-01,\n",
       "       -1.6880e-01, -9.6552e-01,  1.2925e+00,  4.2793e-01,  5.0859e-01,\n",
       "        6.7684e-01, -3.0201e+00, -3.9468e+00, -1.8521e-01,  1.1121e+00,\n",
       "        4.5780e-01, -2.6670e+00,  9.5543e-01, -8.2180e-02, -2.0052e+00,\n",
       "        2.9004e+00,  2.5388e+00,  3.3748e+00, -2.5137e-01,  2.0446e+00,\n",
       "       -2.5723e+00, -5.8013e+00, -1.7778e+00, -1.3010e+00, -2.2104e+00,\n",
       "       -2.9250e+00, -1.9585e+00, -7.7560e-01, -9.0248e-02,  1.7155e+00,\n",
       "        2.2290e-01, -6.1537e-01, -8.9852e-01,  4.0456e-02, -7.4670e-01,\n",
       "        8.8844e-01, -5.6482e-01, -1.6645e+00,  4.9917e-01, -4.7641e-01,\n",
       "       -1.2059e+00,  1.2272e+00, -9.1581e-02, -2.9104e+00,  3.2905e+00,\n",
       "       -5.3136e-01, -1.5440e+00, -1.8323e+00,  8.5595e-01, -1.5862e-01,\n",
       "       -5.7542e+00,  3.0939e+00,  1.4323e+00, -9.0086e-01,  2.8949e-03,\n",
       "       -2.0412e+00,  9.1499e-01,  1.0488e+00, -3.3199e+00, -1.0622e+00,\n",
       "       -5.0032e-01, -3.5296e-01,  1.0811e+00, -1.3763e+00, -1.0620e+00,\n",
       "       -1.8930e+00, -2.3609e+00,  2.0838e+00, -3.1907e-01,  3.0287e-01,\n",
       "       -3.3409e-01, -3.2350e-01,  1.8584e-02, -6.6166e-01,  6.3173e-01,\n",
       "        7.5196e-02, -1.0209e+00, -8.7439e-02, -2.7374e-01, -8.5143e-01,\n",
       "        6.2471e-01, -1.4638e-01, -1.1143e+00,  9.5453e-01, -2.0023e+00,\n",
       "        1.5836e+00,  1.0771e-01,  8.4419e-01,  5.4944e-01, -5.1895e+00,\n",
       "        1.2569e+00,  1.7779e+00, -3.0064e+00, -1.8274e-01,  3.1259e+00,\n",
       "        0.0000e+00,  0.0000e+00,  0.0000e+00,  0.0000e+00,  0.0000e+00,\n",
       "        0.0000e+00,  0.0000e+00,  0.0000e+00,  0.0000e+00,  0.0000e+00,\n",
       "        0.0000e+00,  0.0000e+00,  0.0000e+00,  0.0000e+00,  0.0000e+00,\n",
       "        0.0000e+00,  0.0000e+00,  0.0000e+00,  0.0000e+00,  0.0000e+00,\n",
       "        0.0000e+00,  0.0000e+00,  0.0000e+00,  0.0000e+00,  0.0000e+00,\n",
       "        0.0000e+00,  0.0000e+00,  0.0000e+00,  0.0000e+00,  0.0000e+00,\n",
       "        0.0000e+00,  0.0000e+00,  0.0000e+00,  0.0000e+00,  0.0000e+00,\n",
       "        0.0000e+00,  0.0000e+00,  0.0000e+00,  0.0000e+00,  0.0000e+00,\n",
       "        0.0000e+00,  0.0000e+00,  0.0000e+00,  0.0000e+00,  0.0000e+00,\n",
       "        0.0000e+00,  0.0000e+00,  0.0000e+00,  0.0000e+00,  0.0000e+00,\n",
       "        0.0000e+00,  0.0000e+00,  0.0000e+00,  0.0000e+00,  0.0000e+00,\n",
       "        0.0000e+00,  0.0000e+00,  0.0000e+00,  0.0000e+00,  0.0000e+00,\n",
       "        0.0000e+00,  0.0000e+00,  0.0000e+00,  0.0000e+00,  0.0000e+00,\n",
       "        0.0000e+00,  0.0000e+00,  0.0000e+00,  0.0000e+00,  0.0000e+00,\n",
       "        0.0000e+00,  0.0000e+00,  0.0000e+00,  0.0000e+00,  0.0000e+00,\n",
       "        0.0000e+00,  0.0000e+00,  0.0000e+00,  0.0000e+00,  0.0000e+00,\n",
       "        0.0000e+00,  0.0000e+00,  0.0000e+00,  0.0000e+00,  0.0000e+00,\n",
       "        0.0000e+00,  0.0000e+00,  0.0000e+00,  0.0000e+00,  0.0000e+00,\n",
       "        0.0000e+00,  0.0000e+00,  0.0000e+00,  0.0000e+00,  0.0000e+00,\n",
       "        0.0000e+00,  0.0000e+00,  0.0000e+00,  0.0000e+00,  0.0000e+00,\n",
       "        0.0000e+00,  0.0000e+00,  0.0000e+00,  0.0000e+00,  0.0000e+00,\n",
       "        0.0000e+00,  0.0000e+00,  0.0000e+00,  0.0000e+00,  0.0000e+00,\n",
       "        0.0000e+00,  0.0000e+00,  0.0000e+00,  0.0000e+00,  0.0000e+00,\n",
       "        0.0000e+00,  0.0000e+00,  0.0000e+00,  0.0000e+00,  0.0000e+00,\n",
       "        0.0000e+00,  0.0000e+00,  0.0000e+00,  0.0000e+00,  0.0000e+00,\n",
       "        0.0000e+00,  0.0000e+00,  0.0000e+00,  0.0000e+00,  0.0000e+00,\n",
       "        0.0000e+00,  0.0000e+00,  0.0000e+00,  0.0000e+00,  0.0000e+00,\n",
       "        0.0000e+00,  0.0000e+00,  0.0000e+00,  0.0000e+00,  0.0000e+00,\n",
       "        0.0000e+00,  0.0000e+00,  0.0000e+00,  0.0000e+00,  0.0000e+00,\n",
       "        0.0000e+00,  0.0000e+00,  0.0000e+00,  0.0000e+00,  0.0000e+00,\n",
       "        0.0000e+00,  0.0000e+00,  0.0000e+00,  0.0000e+00,  0.0000e+00,\n",
       "        0.0000e+00,  0.0000e+00,  0.0000e+00,  0.0000e+00,  0.0000e+00,\n",
       "        0.0000e+00,  0.0000e+00,  0.0000e+00,  0.0000e+00,  0.0000e+00,\n",
       "        0.0000e+00,  0.0000e+00,  0.0000e+00,  0.0000e+00,  0.0000e+00,\n",
       "        0.0000e+00,  0.0000e+00,  0.0000e+00,  0.0000e+00,  0.0000e+00,\n",
       "        0.0000e+00,  0.0000e+00,  0.0000e+00,  0.0000e+00,  0.0000e+00,\n",
       "        0.0000e+00,  0.0000e+00,  0.0000e+00,  0.0000e+00,  0.0000e+00,\n",
       "        0.0000e+00,  0.0000e+00,  0.0000e+00,  0.0000e+00,  0.0000e+00,\n",
       "        0.0000e+00,  0.0000e+00,  0.0000e+00,  0.0000e+00,  0.0000e+00,\n",
       "        0.0000e+00,  0.0000e+00,  0.0000e+00,  0.0000e+00,  0.0000e+00,\n",
       "        0.0000e+00,  0.0000e+00,  0.0000e+00,  0.0000e+00,  0.0000e+00,\n",
       "        0.0000e+00,  0.0000e+00,  0.0000e+00,  0.0000e+00,  0.0000e+00,\n",
       "        0.0000e+00,  0.0000e+00,  0.0000e+00,  0.0000e+00,  0.0000e+00,\n",
       "        0.0000e+00,  0.0000e+00,  0.0000e+00,  0.0000e+00,  0.0000e+00,\n",
       "        0.0000e+00,  0.0000e+00,  0.0000e+00,  0.0000e+00,  0.0000e+00,\n",
       "        0.0000e+00,  0.0000e+00,  0.0000e+00,  0.0000e+00,  0.0000e+00,\n",
       "        0.0000e+00,  0.0000e+00,  0.0000e+00,  0.0000e+00,  0.0000e+00,\n",
       "        0.0000e+00,  0.0000e+00,  0.0000e+00,  0.0000e+00,  0.0000e+00,\n",
       "        0.0000e+00,  0.0000e+00,  0.0000e+00,  0.0000e+00,  0.0000e+00,\n",
       "        0.0000e+00,  0.0000e+00,  0.0000e+00,  0.0000e+00,  0.0000e+00,\n",
       "        0.0000e+00,  0.0000e+00,  0.0000e+00,  0.0000e+00,  0.0000e+00,\n",
       "        0.0000e+00,  0.0000e+00,  0.0000e+00,  0.0000e+00,  0.0000e+00,\n",
       "        0.0000e+00,  0.0000e+00,  0.0000e+00,  0.0000e+00,  0.0000e+00,\n",
       "        0.0000e+00,  0.0000e+00,  0.0000e+00,  0.0000e+00,  0.0000e+00,\n",
       "        0.0000e+00,  0.0000e+00,  0.0000e+00,  0.0000e+00,  0.0000e+00,\n",
       "        0.0000e+00,  0.0000e+00,  0.0000e+00,  0.0000e+00,  0.0000e+00,\n",
       "        0.0000e+00,  0.0000e+00,  0.0000e+00,  0.0000e+00,  0.0000e+00,\n",
       "        0.0000e+00,  0.0000e+00,  0.0000e+00,  0.0000e+00,  0.0000e+00,\n",
       "        0.0000e+00,  0.0000e+00,  0.0000e+00,  0.0000e+00,  0.0000e+00,\n",
       "        0.0000e+00,  0.0000e+00,  0.0000e+00,  0.0000e+00,  0.0000e+00,\n",
       "        0.0000e+00,  0.0000e+00,  0.0000e+00,  0.0000e+00,  0.0000e+00,\n",
       "        0.0000e+00,  0.0000e+00,  0.0000e+00,  0.0000e+00,  0.0000e+00,\n",
       "        0.0000e+00,  0.0000e+00,  0.0000e+00,  0.0000e+00,  0.0000e+00,\n",
       "        0.0000e+00,  0.0000e+00,  0.0000e+00,  0.0000e+00,  0.0000e+00,\n",
       "        0.0000e+00,  0.0000e+00,  0.0000e+00,  0.0000e+00,  0.0000e+00,\n",
       "        0.0000e+00,  0.0000e+00,  0.0000e+00,  0.0000e+00,  0.0000e+00,\n",
       "        0.0000e+00,  0.0000e+00,  0.0000e+00,  0.0000e+00,  0.0000e+00,\n",
       "        0.0000e+00,  0.0000e+00,  0.0000e+00,  0.0000e+00,  0.0000e+00,\n",
       "        0.0000e+00,  0.0000e+00,  0.0000e+00,  0.0000e+00,  0.0000e+00,\n",
       "        0.0000e+00,  0.0000e+00,  0.0000e+00,  0.0000e+00,  0.0000e+00,\n",
       "        0.0000e+00,  0.0000e+00,  0.0000e+00,  0.0000e+00,  0.0000e+00,\n",
       "        0.0000e+00,  0.0000e+00,  0.0000e+00,  0.0000e+00,  0.0000e+00,\n",
       "        0.0000e+00,  0.0000e+00,  0.0000e+00,  0.0000e+00,  0.0000e+00,\n",
       "        0.0000e+00,  0.0000e+00,  0.0000e+00,  0.0000e+00,  0.0000e+00,\n",
       "        0.0000e+00,  0.0000e+00,  0.0000e+00,  0.0000e+00,  0.0000e+00,\n",
       "        0.0000e+00,  0.0000e+00,  0.0000e+00,  0.0000e+00,  0.0000e+00,\n",
       "        0.0000e+00,  0.0000e+00,  0.0000e+00,  0.0000e+00,  0.0000e+00,\n",
       "        0.0000e+00,  0.0000e+00,  0.0000e+00,  0.0000e+00,  0.0000e+00,\n",
       "        0.0000e+00,  0.0000e+00,  0.0000e+00,  0.0000e+00,  0.0000e+00,\n",
       "        0.0000e+00,  0.0000e+00,  0.0000e+00,  0.0000e+00,  0.0000e+00,\n",
       "        0.0000e+00,  0.0000e+00,  0.0000e+00,  0.0000e+00,  0.0000e+00,\n",
       "        0.0000e+00,  0.0000e+00,  0.0000e+00,  0.0000e+00,  0.0000e+00,\n",
       "        0.0000e+00,  0.0000e+00,  0.0000e+00,  0.0000e+00,  0.0000e+00,\n",
       "        0.0000e+00,  0.0000e+00,  0.0000e+00,  0.0000e+00,  0.0000e+00,\n",
       "        0.0000e+00,  0.0000e+00,  0.0000e+00,  0.0000e+00,  0.0000e+00,\n",
       "        0.0000e+00,  0.0000e+00,  0.0000e+00,  0.0000e+00,  0.0000e+00,\n",
       "        0.0000e+00,  0.0000e+00,  0.0000e+00,  0.0000e+00,  0.0000e+00,\n",
       "        0.0000e+00,  0.0000e+00,  0.0000e+00,  0.0000e+00,  0.0000e+00,\n",
       "        0.0000e+00,  0.0000e+00,  0.0000e+00,  0.0000e+00,  0.0000e+00,\n",
       "        0.0000e+00,  0.0000e+00,  0.0000e+00,  0.0000e+00,  0.0000e+00,\n",
       "        0.0000e+00,  0.0000e+00,  0.0000e+00,  0.0000e+00,  0.0000e+00,\n",
       "        0.0000e+00,  0.0000e+00,  0.0000e+00,  0.0000e+00,  0.0000e+00,\n",
       "        0.0000e+00,  0.0000e+00,  0.0000e+00,  0.0000e+00,  0.0000e+00,\n",
       "        0.0000e+00,  0.0000e+00,  0.0000e+00,  0.0000e+00,  0.0000e+00,\n",
       "        0.0000e+00,  0.0000e+00,  0.0000e+00,  0.0000e+00,  0.0000e+00,\n",
       "        0.0000e+00,  0.0000e+00,  0.0000e+00,  0.0000e+00,  0.0000e+00,\n",
       "        0.0000e+00])"
      ]
     },
     "execution_count": 130,
     "metadata": {},
     "output_type": "execute_result"
    }
   ],
   "source": [
    "flatten_array[0]"
   ]
  },
  {
   "cell_type": "code",
   "execution_count": 131,
   "metadata": {},
   "outputs": [],
   "source": [
    "# https://www.kaggle.com/reiinakano/basic-nlp-bag-of-words-tf-idf-word2vec-lstm\n",
    "\n",
    "from sklearn.model_selection import cross_val_score\n",
    "from sklearn.model_selection import StratifiedKFold\n",
    "from sklearn.model_selection import train_test_split\n",
    "\n",
    "def evaluate_features(X, y, clf=None):\n",
    "    \"\"\"General helper function for evaluating effectiveness of passed features in ML model\n",
    "    \n",
    "    Prints out Log loss, accuracy, and confusion matrix with 3-fold stratified cross-validation\n",
    "    \n",
    "    Args:\n",
    "        X (array-like): Features array. Shape (n_samples, n_features)\n",
    "        \n",
    "        y (array-like): Labels array. Shape (n_samples,)\n",
    "        \n",
    "        clf: Classifier to use. If None, default Log reg is use.\n",
    "    \"\"\"\n",
    "    if clf is None:\n",
    "        clf = RandomForestClassifier(n_estimators=31, random_state=111)\n",
    "\n",
    "    \n",
    "    score = cross_val_score(clf, X, y, cv=StratifiedKFold(n_splits=5, random_state=8,shuffle=True), n_jobs=4, verbose=2)\n",
    "    return np.mean(score)"
   ]
  },
  {
   "cell_type": "code",
   "execution_count": 132,
   "metadata": {},
   "outputs": [
    {
     "name": "stderr",
     "output_type": "stream",
     "text": [
      "[Parallel(n_jobs=4)]: Using backend LokyBackend with 4 concurrent workers.\n",
      "[Parallel(n_jobs=4)]: Done   5 out of   5 | elapsed:   54.7s finished\n"
     ]
    },
    {
     "data": {
      "text/plain": [
       "0.7681068774390221"
      ]
     },
     "execution_count": 132,
     "metadata": {},
     "output_type": "execute_result"
    }
   ],
   "source": [
    "evaluate_features(flatten_array, temp_data[\"label\"])"
   ]
  },
  {
   "cell_type": "markdown",
   "metadata": {},
   "source": [
    "## Experiment"
   ]
  },
  {
   "cell_type": "markdown",
   "metadata": {},
   "source": [
    "### Prepare Model"
   ]
  },
  {
   "cell_type": "code",
   "execution_count": 133,
   "metadata": {},
   "outputs": [],
   "source": [
    "N_JOBS = 4\n",
    "\n",
    "svc = SVC(kernel='sigmoid', gamma=1.0)\n",
    "knc = KNeighborsClassifier(n_neighbors=10)\n",
    "mnb = MultinomialNB(alpha=0.2)\n",
    "dtc = DecisionTreeClassifier(min_samples_split=7, random_state=111)\n",
    "lrc = LogisticRegression(solver='lbfgs', n_jobs=N_JOBS)\n",
    "rfc = RandomForestClassifier(n_estimators=31, random_state=111, n_jobs=N_JOBS)\n",
    "abc = AdaBoostClassifier(n_estimators=31, random_state=111)\n",
    "bc = BaggingClassifier(n_estimators=10, random_state=111, n_jobs=N_JOBS)\n",
    "etc = ExtraTreesClassifier(n_estimators=10, random_state=111, n_jobs=N_JOBS)\n",
    "xgb = xgboost.XGBClassifier(max_depth=50, n_estimators=80, learning_rate=0.1, colsample_bytree=.7, gamma=0, reg_alpha=4, objective='binary:logistic', eta=0.3, silent=1, subsample=0.8)"
   ]
  },
  {
   "cell_type": "code",
   "execution_count": 134,
   "metadata": {},
   "outputs": [],
   "source": [
    "clfs = {'KN' : knc, 'DT': dtc, 'LR': lrc, 'RF': rfc, 'AdaBoost': abc, 'BgC': bc, 'ETC': etc }"
   ]
  },
  {
   "cell_type": "markdown",
   "metadata": {},
   "source": [
    "### Model Evaluation"
   ]
  },
  {
   "cell_type": "code",
   "execution_count": 135,
   "metadata": {},
   "outputs": [],
   "source": [
    "feature = extract_feature(df[\"sentence\"])\n",
    "label = df[\"label\"]"
   ]
  },
  {
   "cell_type": "markdown",
   "metadata": {},
   "source": [
    "#### Performance"
   ]
  },
  {
   "cell_type": "code",
   "execution_count": 136,
   "metadata": {},
   "outputs": [],
   "source": [
    "# for clf_name, clf in clfs.items() :\n",
    "#     accuracy = evaluate_features(feature, label, clf)\n",
    "\n",
    "#     print('Average accuracy %s: %.2f' % (clf_name, accuracy))"
   ]
  },
  {
   "cell_type": "markdown",
   "metadata": {},
   "source": [
    "### Trying Model in the First Batch"
   ]
  },
  {
   "cell_type": "code",
   "execution_count": 137,
   "metadata": {},
   "outputs": [],
   "source": [
    "def train_classifier(clf, feature_train, labels_train):    \n",
    "    clf.fit(feature_train, labels_train)\n",
    "    \n",
    "def predict_labels(clf, features):\n",
    "    return clf.predict(features)\n",
    "\n",
    "# intersection between 2 sets\n",
    "def intersection(lst1, lst2): \n",
    "    lst3 = [value for value in lst1 if value in lst2] \n",
    "    return lst3"
   ]
  },
  {
   "cell_type": "code",
   "execution_count": 138,
   "metadata": {},
   "outputs": [],
   "source": [
    "FIRST_BATCH_SIZE = math.ceil(len(df[\"label\"]) * 3 / 4 )\n",
    "BATCH_SIZE = math.ceil(len(df[\"label\"]) / 2 / 3)\n",
    "MAX_SIZE = len(df[\"label\"])\n",
    "\n",
    "df = utils.shuffle_data(df)\n",
    "\n",
    "curr_df = df[:FIRST_BATCH_SIZE]\n",
    "RESAMPLE_SIZE = utils.get_resample_size(curr_df)\n",
    "curr_df = utils.resample_to_fix_number(curr_df, RESAMPLE_SIZE)\n",
    "feature = extract_feature(curr_df[\"sentence\"])\n",
    "label = curr_df[\"label\"]"
   ]
  },
  {
   "cell_type": "code",
   "execution_count": 139,
   "metadata": {},
   "outputs": [],
   "source": [
    "models = {}\n",
    "# selected_clfs = [\"SVC\", \"KN\", \"NB\", \"DT\", \"LR\", \"RF\", \"AdaBoost\", \"BgC\", \"ETC\", \"XGB\"]\n",
    "# selected_clfs = [\"SVC\", \"KN\", \"NB\", \"DT\", \"LR\", \"AdaBoost\", \"XGB\"]\n",
    "# selected_clfs = [\"AdaBoost\"]\n",
    "selected_clfs = [\"KN\", \"DT\", \"LR\", \"RF\", \"AdaBoost\", \"ETC\"]\n",
    "for k in selected_clfs :\n",
    "    model = clone_model(clfs[k])\n",
    "    train_classifier(model, feature, label)\n",
    "    models[k] = model\n",
    "    \n",
    "# for clf in models.keys() :\n",
    "#     filename = \"model/\" + clf + \".sav\"\n",
    "#     joblib.dump(models[clf], filename)"
   ]
  },
  {
   "cell_type": "markdown",
   "metadata": {},
   "source": [
    "### Trying Model for the Next Batch until Finish"
   ]
  },
  {
   "cell_type": "code",
   "execution_count": 141,
   "metadata": {},
   "outputs": [
    {
     "name": "stdout",
     "output_type": "stream",
     "text": [
      "Classifier: KN\n",
      "               True  Positive   TP  Precision  Recall    F1\n",
      "21405 - 26162  1182      1514  527       0.35    0.45  0.39\n",
      "26162 - 28539   630       747  280       0.37    0.44  0.40\n",
      "Actual Fail Test Case: 1812\n",
      "Predicted Fail Test Case: 2261\n",
      "Correctly Predicted Fail Test Case: 807\n",
      "Precision: 0.36\n",
      "Recall: 0.44\n",
      "F1: 0.40\n",
      "\n",
      "\n",
      "Classifier: DT\n",
      "               True  Positive   TP  Precision  Recall    F1\n",
      "21405 - 26162  1182      1985  599       0.30    0.51  0.38\n",
      "26162 - 28539   630       990  284       0.29    0.45  0.35\n",
      "Actual Fail Test Case: 1812\n",
      "Predicted Fail Test Case: 2975\n",
      "Correctly Predicted Fail Test Case: 883\n",
      "Precision: 0.30\n",
      "Recall: 0.48\n",
      "F1: 0.36\n",
      "\n",
      "\n",
      "Classifier: LR\n",
      "               True  Positive   TP  Precision  Recall    F1\n",
      "21405 - 26162  1182      1992  744       0.37    0.63  0.47\n",
      "26162 - 28539   630       956  374       0.39    0.59  0.47\n",
      "Actual Fail Test Case: 1812\n",
      "Predicted Fail Test Case: 2948\n",
      "Correctly Predicted Fail Test Case: 1118\n",
      "Precision: 0.38\n",
      "Recall: 0.61\n",
      "F1: 0.47\n",
      "\n",
      "\n",
      "Classifier: RF\n",
      "               True  Positive   TP  Precision  Recall    F1\n",
      "21405 - 26162  1182      1293  558       0.43    0.47  0.45\n",
      "26162 - 28539   630       623  277       0.44    0.44  0.44\n",
      "Actual Fail Test Case: 1812\n",
      "Predicted Fail Test Case: 1916\n",
      "Correctly Predicted Fail Test Case: 835\n",
      "Precision: 0.44\n",
      "Recall: 0.45\n",
      "F1: 0.44\n",
      "\n",
      "\n",
      "Classifier: AdaBoost\n",
      "               True  Positive   TP  Precision  Recall    F1\n",
      "21405 - 26162  1182      1787  657       0.37    0.56  0.45\n",
      "26162 - 28539   630       929  373       0.40    0.59  0.48\n",
      "Actual Fail Test Case: 1812\n",
      "Predicted Fail Test Case: 2716\n",
      "Correctly Predicted Fail Test Case: 1030\n",
      "Precision: 0.38\n",
      "Recall: 0.57\n",
      "F1: 0.46\n",
      "\n",
      "\n",
      "Classifier: ETC\n",
      "               True  Positive   TP  Precision  Recall    F1\n",
      "21405 - 26162  1182      1086  475       0.44    0.40  0.42\n",
      "26162 - 28539   630       541  235       0.43    0.37  0.40\n",
      "Actual Fail Test Case: 1812\n",
      "Predicted Fail Test Case: 1627\n",
      "Correctly Predicted Fail Test Case: 710\n",
      "Precision: 0.44\n",
      "Recall: 0.38\n",
      "F1: 0.41\n",
      "\n",
      "\n"
     ]
    }
   ],
   "source": [
    "performance_writer = open(\n",
    "        \"performance/2_label_derived_word2vec_\" + str(datetime.now()) + \".txt\", \"w+\")\n",
    "\n",
    "\n",
    "for key_clf, model in models.items() :\n",
    "    # classify the selected data\n",
    "    training_data = df[:FIRST_BATCH_SIZE]\n",
    "\n",
    "    lower_bound = FIRST_BATCH_SIZE\n",
    "\n",
    "    columns = [\"True\", \"Positive\", \"TP\", \"Precision\", \"Recall\", \"F1\"]\n",
    "    index = []\n",
    "    performance_data = []\n",
    "\n",
    "    while (lower_bound < MAX_SIZE) :\n",
    "        # set the upper bound size\n",
    "        upper_bound = lower_bound + BATCH_SIZE\n",
    "        if (upper_bound > MAX_SIZE) :\n",
    "            upper_bound = MAX_SIZE\n",
    "        batch = str(lower_bound) + \" - \" + str(upper_bound)\n",
    "        index.append(batch)\n",
    "            \n",
    "            \n",
    "        # get the data to be selected\n",
    "        current_data = df[lower_bound:upper_bound]\n",
    "\n",
    "        # get the feature and label\n",
    "        current_feature = extract_feature(current_data[\"sentence\"])\n",
    "        \n",
    "        # predict the current data\n",
    "        prediction = predict_labels(model, current_feature)\n",
    "\n",
    "        d = {\n",
    "             \"sentence\": current_data[\"sentence\"].values,\n",
    "             \"label\" : current_data[\"label\"].values,\n",
    "             \"prediction\" : prediction\n",
    "            }\n",
    "\n",
    "\n",
    "        df_per_batch = pd.DataFrame(data=d)\n",
    "\n",
    "        \n",
    "        predicted_determined = np.where(df_per_batch[\"prediction\"] == constant.DETERMINED_LABEL)[0]\n",
    "        actual_determined = np.where(df_per_batch[\"label\"] == constant.DETERMINED_LABEL)[0]\n",
    "        \n",
    "        correctly_predicted_determined = utils.intersection(predicted_determined, actual_determined)\n",
    "        \n",
    "        \n",
    "        precision = 0\n",
    "        if (len(predicted_determined) != 0) :\n",
    "            precision = round(len(correctly_predicted_determined)/len(predicted_determined), 2)\n",
    "        recall = 0\n",
    "        if (len(actual_determined) != 0) :\n",
    "            recall = round(len(correctly_predicted_determined)/len(actual_determined), 2)\n",
    "        precision_add_recall = precision + recall\n",
    "        f1 = 0\n",
    "        if precision_add_recall != 0 :\n",
    "            f1 = round( 2 * precision * recall / (precision_add_recall), 2)\n",
    "        performance_data.append(\n",
    "            [len(actual_determined), \n",
    "             len(predicted_determined), \n",
    "             len(correctly_predicted_determined), \n",
    "             precision, recall, f1])\n",
    "        \n",
    "        # add the predicted data to previous data\n",
    "        if (len(correctly_predicted_determined) > 0) :\n",
    "            added_data = current_data.iloc[correctly_predicted_determined,:]\n",
    "            training_data.append(added_data)\n",
    "\n",
    "            # handle imbalance data\n",
    "            RESAMPLE_SIZE = utils.get_resample_size(training_data)\n",
    "            training_data = utils.resample_to_fix_number(training_data, RESAMPLE_SIZE)\n",
    "\n",
    "            # re-extract feature\n",
    "            current_feature = extract_feature(training_data[\"sentence\"])\n",
    "            current_label = training_data[\"label\"]\n",
    "\n",
    "            # re-train the model \n",
    "            train_classifier(model, current_feature, current_label)\n",
    "\n",
    "        # update the lower bound\n",
    "        lower_bound = upper_bound\n",
    "\n",
    "    performance = pd.DataFrame(performance_data, index=index, columns=columns)\n",
    "    \n",
    "    print(\"Classifier: \" + key_clf) \n",
    "    print(performance)\n",
    "    actual_determined =  int(performance[\"True\"].sum(axis=0))\n",
    "    predicted_determined = int(performance[\"Positive\"].sum(axis=0))\n",
    "    correctly_predicted_determined = int(performance[\"TP\"].sum(axis=0))\n",
    "    precision = round(performance[\"Precision\"].mean(), 2)\n",
    "    recall = round(performance[\"Recall\"].mean(), 2)\n",
    "    f1 = round(performance[\"F1\"].mean(), 2)\n",
    "    \n",
    "    print(\"Actual Fail Test Case: %d\" % (actual_determined))\n",
    "    print(\"Predicted Fail Test Case: %d\" % (predicted_determined))\n",
    "    print(\"Correctly Predicted Fail Test Case: %d\" % (correctly_predicted_determined))\n",
    "    print(\"Precision: %.2f\" % (precision))\n",
    "    print(\"Recall: %.2f\" % (recall))\n",
    "    print(\"F1: %.2f\" % (f1))\n",
    "    print(\"\\n\")\n",
    "    \n",
    "    performance_writer.write(\"Classifier: %s\" % (key_clf))\n",
    "    performance_writer.write(\"\\n\" + str(performance))\n",
    "    performance_writer.write(\"\\nActual Fail Test Case: %d\" % (actual_determined))\n",
    "    performance_writer.write(\"\\nPredicted Fail Test Case: %d\" % (predicted_determined))\n",
    "    performance_writer.write(\"\\nCorrectly Predicted Fail Test Case: %d\" % (correctly_predicted_determined))\n",
    "    performance_writer.write(\"\\nPrecision: %.2f\" % (precision))\n",
    "    performance_writer.write(\"\\nRecall: %.2f\" % (recall))\n",
    "    performance_writer.write(\"\\nF1: %.2f\" % (f1))\n",
    "    performance_writer.write(\"\\n\\n\")\n",
    "\n",
    "performance_writer.close()"
   ]
  },
  {
   "cell_type": "code",
   "execution_count": null,
   "metadata": {},
   "outputs": [],
   "source": []
  }
 ],
 "metadata": {
  "kernelspec": {
   "display_name": "Python 3",
   "language": "python",
   "name": "python3"
  },
  "language_info": {
   "codemirror_mode": {
    "name": "ipython",
    "version": 3
   },
   "file_extension": ".py",
   "mimetype": "text/x-python",
   "name": "python",
   "nbconvert_exporter": "python",
   "pygments_lexer": "ipython3",
   "version": "3.7.3"
  }
 },
 "nbformat": 4,
 "nbformat_minor": 4
}
