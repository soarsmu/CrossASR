{
 "cells": [
  {
   "cell_type": "markdown",
   "metadata": {},
   "source": [
    "# Guided Test Case Generation System Notebook"
   ]
  },
  {
   "cell_type": "code",
   "execution_count": 81,
   "metadata": {},
   "outputs": [],
   "source": [
    "import re\n",
    "import string\n",
    "\n",
    "import numpy as np\n",
    "import pandas as pd\n",
    "import matplotlib.pyplot as plt\n",
    "import seaborn as sns\n",
    "%matplotlib inline\n",
    "\n",
    "import nltk\n",
    "from sklearn.utils import shuffle\n"
   ]
  },
  {
   "cell_type": "markdown",
   "metadata": {},
   "source": [
    "### Read Data"
   ]
  },
  {
   "cell_type": "code",
   "execution_count": 82,
   "metadata": {},
   "outputs": [],
   "source": [
    "df = pd.read_csv('training_data/wav2letter.txt', sep=\",\", header=None)\n",
    "df.columns = [\"sentence\", \"label\"]\n",
    "df = shuffle(df)\n",
    "df = df.reset_index(drop=True)\n",
    "\n",
    "BUG_LABEL = 1\n",
    "NON_BUG_LABEL = 0"
   ]
  },
  {
   "cell_type": "code",
   "execution_count": 83,
   "metadata": {},
   "outputs": [
    {
     "data": {
      "text/html": [
       "<div>\n",
       "<style scoped>\n",
       "    .dataframe tbody tr th:only-of-type {\n",
       "        vertical-align: middle;\n",
       "    }\n",
       "\n",
       "    .dataframe tbody tr th {\n",
       "        vertical-align: top;\n",
       "    }\n",
       "\n",
       "    .dataframe thead tr th {\n",
       "        text-align: left;\n",
       "    }\n",
       "\n",
       "    .dataframe thead tr:last-of-type th {\n",
       "        text-align: right;\n",
       "    }\n",
       "</style>\n",
       "<table border=\"1\" class=\"dataframe\">\n",
       "  <thead>\n",
       "    <tr>\n",
       "      <th></th>\n",
       "      <th colspan=\"4\" halign=\"left\">sentence</th>\n",
       "    </tr>\n",
       "    <tr>\n",
       "      <th></th>\n",
       "      <th>count</th>\n",
       "      <th>unique</th>\n",
       "      <th>top</th>\n",
       "      <th>freq</th>\n",
       "    </tr>\n",
       "    <tr>\n",
       "      <th>label</th>\n",
       "      <th></th>\n",
       "      <th></th>\n",
       "      <th></th>\n",
       "      <th></th>\n",
       "    </tr>\n",
       "  </thead>\n",
       "  <tbody>\n",
       "    <tr>\n",
       "      <th>0</th>\n",
       "      <td>178277</td>\n",
       "      <td>177465</td>\n",
       "      <td>not written in the book of the chronicles of the</td>\n",
       "      <td>11</td>\n",
       "    </tr>\n",
       "    <tr>\n",
       "      <th>1</th>\n",
       "      <td>1857</td>\n",
       "      <td>1856</td>\n",
       "      <td>ladies and gentlemen i am ordered by miss wood...</td>\n",
       "      <td>2</td>\n",
       "    </tr>\n",
       "  </tbody>\n",
       "</table>\n",
       "</div>"
      ],
      "text/plain": [
       "      sentence                                                                \n",
       "         count  unique                                                top freq\n",
       "label                                                                         \n",
       "0       178277  177465   not written in the book of the chronicles of the   11\n",
       "1         1857    1856  ladies and gentlemen i am ordered by miss wood...    2"
      ]
     },
     "execution_count": 83,
     "metadata": {},
     "output_type": "execute_result"
    }
   ],
   "source": [
    "df.groupby(\"label\").describe()"
   ]
  },
  {
   "cell_type": "markdown",
   "metadata": {},
   "source": [
    "### Data distribution"
   ]
  },
  {
   "cell_type": "code",
   "execution_count": 84,
   "metadata": {},
   "outputs": [
    {
     "data": {
      "image/png": "[encoded data removed]",
      "text/plain": [
       "<Figure size 432x432 with 1 Axes>"
      ]
     },
     "metadata": {},
     "output_type": "display_data"
    }
   ],
   "source": [
    "df[\"label\"].value_counts().plot(kind = 'pie', explode = [0, 0.1], figsize = (6, 6), autopct = '%1.1f%%', shadow = True)\n",
    "plt.ylabel(\"Bug vs No-Bug\")\n",
    "plt.legend([\"Non-Bug\", \"Bug\"])\n",
    "plt.show()"
   ]
  },
  {
   "cell_type": "markdown",
   "metadata": {},
   "source": [
    "we need to handle imbalance data"
   ]
  },
  {
   "cell_type": "markdown",
   "metadata": {},
   "source": [
    "## Experiment"
   ]
  },
  {
   "cell_type": "code",
   "execution_count": 85,
   "metadata": {},
   "outputs": [],
   "source": [
    "FIRST_BATCH_SIZE = 15000\n",
    "BATCH_SIZE = 1000\n",
    "MAX_SIZE = len(df[\"label\"])\n",
    "\n",
    "data = df[:FIRST_BATCH_SIZE].copy()"
   ]
  },
  {
   "cell_type": "markdown",
   "metadata": {},
   "source": [
    "### Handle Imbalance Data\n",
    "\n",
    "Upsample the small data"
   ]
  },
  {
   "cell_type": "code",
   "execution_count": 86,
   "metadata": {},
   "outputs": [],
   "source": [
    "from sklearn.utils import resample\n",
    "\n",
    "def upsampleImbalanceData(df):\n",
    "    # Separate majority and minority classes\n",
    "    df_majority = df[df.label==NON_BUG_LABEL]\n",
    "    df_minority = df[df.label==BUG_LABEL]\n",
    "\n",
    "    # Upsample minority class\n",
    "    df_minority_upsampled = resample(df_minority, \n",
    "                                     replace=True,     # sample with replacement\n",
    "                                     n_samples=len(df_majority),    # to match majority class\n",
    "                                     random_state=123) # reproducible results\n",
    "\n",
    "    # Combine majority class with upsampled minority class\n",
    "    df_upsampled = pd.concat([df_majority, df_minority_upsampled])\n",
    "\n",
    "    # Display new class counts\n",
    "    df_upsampled.label.value_counts()\n",
    "\n",
    "    return df_upsampled.copy()"
   ]
  },
  {
   "cell_type": "markdown",
   "metadata": {},
   "source": [
    "### Feature Extraction"
   ]
  },
  {
   "cell_type": "code",
   "execution_count": 87,
   "metadata": {},
   "outputs": [],
   "source": [
    "from sklearn.feature_extraction.text import CountVectorizer\n",
    "from sklearn.feature_extraction.text import TfidfTransformer\n",
    "\n",
    "# Text processing: remove punction\n",
    "def text_process(sentence):\n",
    "    nopunc =[char for char in sentence if char not in string.punctuation]\n",
    "    nopunc=''.join(nopunc)\n",
    "    return [word for word in nopunc.split()]"
   ]
  },
  {
   "cell_type": "code",
   "execution_count": 88,
   "metadata": {},
   "outputs": [],
   "source": [
    "# bag of words\n",
    "corpus_sentence = pd.read_csv('corpus-sentence.txt', sep=\",\", header=None)\n",
    "corpus_sentence.columns = [\"sentence\"]\n",
    "bow_transformer = CountVectorizer(analyzer=text_process).fit(corpus_sentence[\"sentence\"])"
   ]
  },
  {
   "cell_type": "code",
   "execution_count": 89,
   "metadata": {},
   "outputs": [
    {
     "data": {
      "image/png": "[encoded data removed]",
      "text/plain": [
       "<Figure size 432x432 with 1 Axes>"
      ]
     },
     "metadata": {},
     "output_type": "display_data"
    }
   ],
   "source": [
    "data = upsampleImbalanceData(data)\n",
    "data[\"label\"].value_counts().plot(kind = 'pie', explode = [0, 0.1], figsize = (6, 6), autopct = '%1.1f%%', shadow = True)\n",
    "plt.ylabel(\"Bug vs No-Bug\")\n",
    "plt.legend([\"Non-Bug\", \"Bug\"])\n",
    "plt.show()"
   ]
  },
  {
   "cell_type": "code",
   "execution_count": 90,
   "metadata": {},
   "outputs": [],
   "source": [
    "features = bow_transformer.transform(data[\"sentence\"])\n",
    "# print(sentence_bow)\n",
    "# tfidf_transformer=TfidfTransformer().fit(sentence_bow)\n",
    "# features = tfidf_transformer.transform(sentence_bow)\n",
    "labels = data[\"label\"]"
   ]
  },
  {
   "cell_type": "markdown",
   "metadata": {},
   "source": [
    "### Trying Model in the First Batch"
   ]
  },
  {
   "cell_type": "code",
   "execution_count": 91,
   "metadata": {},
   "outputs": [],
   "source": [
    "from sklearn.linear_model import LogisticRegression\n",
    "from sklearn.svm import SVC\n",
    "from sklearn.naive_bayes import MultinomialNB\n",
    "from sklearn.tree import DecisionTreeClassifier\n",
    "from sklearn.neighbors import KNeighborsClassifier\n",
    "from sklearn.ensemble import RandomForestClassifier\n",
    "from sklearn.ensemble import AdaBoostClassifier\n",
    "from sklearn.ensemble import BaggingClassifier\n",
    "from sklearn.ensemble import ExtraTreesClassifier\n",
    "from sklearn.metrics import classification_report, confusion_matrix, accuracy_score, precision_score, recall_score, f1_score"
   ]
  },
  {
   "cell_type": "code",
   "execution_count": 92,
   "metadata": {},
   "outputs": [],
   "source": [
    "svc = SVC(kernel='sigmoid', gamma=1.0)\n",
    "knc = KNeighborsClassifier(n_neighbors=10)\n",
    "mnb = MultinomialNB(alpha=0.2)\n",
    "dtc = DecisionTreeClassifier(min_samples_split=7, random_state=111)\n",
    "lrc = LogisticRegression(solver='liblinear', penalty='l1')\n",
    "rfc = RandomForestClassifier(n_estimators=31, random_state=111)\n",
    "abc = AdaBoostClassifier(n_estimators=31, random_state=111)\n",
    "bc = BaggingClassifier(n_estimators=10, random_state=111)\n",
    "etc = ExtraTreesClassifier(n_estimators=10, random_state=111)"
   ]
  },
  {
   "cell_type": "code",
   "execution_count": 112,
   "metadata": {},
   "outputs": [],
   "source": [
    "# clfs = {'SVC' : svc,'KN' : knc, 'NB': mnb, 'DT': dtc, 'LR': lrc, 'RF': rfc, 'AdaBoost': abc, 'BgC': bc, 'ETC': etc}\n",
    "clfs = {'SVC' : svc, 'NB': mnb, 'AdaBoost': abc, 'BgC': bc}\n",
    "# clfs = {'AdaBoost': abc}"
   ]
  },
  {
   "cell_type": "code",
   "execution_count": 113,
   "metadata": {},
   "outputs": [],
   "source": [
    "def train_classifier(clf, feature_train, labels_train):    \n",
    "    clf.fit(feature_train, labels_train)\n",
    "    \n",
    "def predict_labels(clf, features):\n",
    "    return (clf.predict(features))"
   ]
  },
  {
   "cell_type": "code",
   "execution_count": 114,
   "metadata": {},
   "outputs": [
    {
     "name": "stdout",
     "output_type": "stream",
     "text": [
      "Classifier: SVC\n",
      "              precision    recall  f1-score   support\n",
      "\n",
      "           0       0.53      0.53      0.53     14847\n",
      "           1       0.53      0.53      0.53     14847\n",
      "\n",
      "    accuracy                           0.53     29694\n",
      "   macro avg       0.53      0.53      0.53     29694\n",
      "weighted avg       0.53      0.53      0.53     29694\n",
      "\n",
      "Classifier: NB\n",
      "              precision    recall  f1-score   support\n",
      "\n",
      "           0       1.00      0.96      0.98     14847\n",
      "           1       0.96      1.00      0.98     14847\n",
      "\n",
      "    accuracy                           0.98     29694\n",
      "   macro avg       0.98      0.98      0.98     29694\n",
      "weighted avg       0.98      0.98      0.98     29694\n",
      "\n",
      "Classifier: AdaBoost\n",
      "              precision    recall  f1-score   support\n",
      "\n",
      "           0       0.76      0.82      0.79     14847\n",
      "           1       0.81      0.74      0.77     14847\n",
      "\n",
      "    accuracy                           0.78     29694\n",
      "   macro avg       0.78      0.78      0.78     29694\n",
      "weighted avg       0.78      0.78      0.78     29694\n",
      "\n",
      "Classifier: BgC\n",
      "              precision    recall  f1-score   support\n",
      "\n",
      "           0       1.00      1.00      1.00     14847\n",
      "           1       1.00      1.00      1.00     14847\n",
      "\n",
      "    accuracy                           1.00     29694\n",
      "   macro avg       1.00      1.00      1.00     29694\n",
      "weighted avg       1.00      1.00      1.00     29694\n",
      "\n"
     ]
    }
   ],
   "source": [
    "pred_scores = []\n",
    "for k,v in clfs.items():\n",
    "    train_classifier(v, features, labels)\n",
    "    pred = predict_labels(v,features)\n",
    "    print(\"Classifier: \" + k)\n",
    "    print(classification_report(labels, pred))"
   ]
  },
  {
   "cell_type": "markdown",
   "metadata": {},
   "source": [
    "### Trying Model for the Next Batch until Finish"
   ]
  },
  {
   "cell_type": "code",
   "execution_count": 115,
   "metadata": {},
   "outputs": [
    {
     "name": "stdout",
     "output_type": "stream",
     "text": [
      "Classifier: SVC\n",
      "               Precision    Recall  F1-Score  Predicted  CorrectlyPredicted\n",
      "15000 - 16000   0.008529  0.500000  0.016771        469                   4\n",
      "16000 - 17000   0.012320  0.666667  0.024194        487                   6\n",
      "17000 - 18000   0.010101  0.714286  0.019920        495                   5\n",
      "18000 - 19000   0.016327  0.666667  0.031873        490                   8\n",
      "19000 - 20000   0.006608  0.750000  0.013100        454                   3\n",
      "Total Generated: 2395\n",
      "Total Bug: 26\n",
      "\n",
      "\n",
      "Classifier: NB\n",
      "               Precision    Recall  F1-Score  Predicted  CorrectlyPredicted\n",
      "15000 - 16000   0.000000  0.000000  0.000000         39                   0\n",
      "16000 - 17000   0.019608  0.111111  0.033333         51                   1\n",
      "17000 - 18000   0.000000  0.000000  0.000000         67                   0\n",
      "18000 - 19000   0.050000  0.166667  0.076923         40                   2\n",
      "19000 - 20000   0.027027  0.250000  0.048780         37                   1\n",
      "Total Generated: 234\n",
      "Total Bug: 4\n",
      "\n",
      "\n",
      "Classifier: AdaBoost\n",
      "               Precision    Recall  F1-Score  Predicted  CorrectlyPredicted\n",
      "15000 - 16000   0.032967  0.750000  0.063158        182                   6\n",
      "16000 - 17000   0.026042  0.555556  0.049751        192                   5\n",
      "17000 - 18000   0.014634  0.428571  0.028302        205                   3\n",
      "18000 - 19000   0.032609  0.500000  0.061224        184                   6\n",
      "19000 - 20000   0.016760  0.750000  0.032787        179                   3\n",
      "Total Generated: 942\n",
      "Total Bug: 23\n",
      "\n",
      "\n",
      "Classifier: BgC\n",
      "               Precision    Recall  F1-Score  Predicted  CorrectlyPredicted\n",
      "15000 - 16000   0.048780  0.250000  0.081633         41                   2\n",
      "16000 - 17000   0.030769  0.222222  0.054054         65                   2\n",
      "17000 - 18000   0.000000  0.000000  0.000000         42                   0\n",
      "18000 - 19000   0.025000  0.083333  0.038462         40                   1\n",
      "19000 - 20000   0.000000  0.000000  0.000000         48                   0\n",
      "Total Generated: 236\n",
      "Total Bug: 5\n",
      "\n",
      "\n"
     ]
    }
   ],
   "source": [
    "MAX_SIZE = 20000\n",
    "\n",
    "# classify the selected data\n",
    "for k,v in clfs.items():\n",
    "    lower_bound = FIRST_BATCH_SIZE\n",
    "    training_data = df[:FIRST_BATCH_SIZE].copy()\n",
    "    \n",
    "    print(\"Classifier: \" + k) \n",
    "    \n",
    "    columns = [\"Precision\", \"Recall\", \"F1-Score\", \"Predicted\", \"CorrectlyPredicted\"]\n",
    "    index = []\n",
    "    performance_data = []\n",
    "    \n",
    "    \n",
    "    while (lower_bound < MAX_SIZE) :\n",
    "        # set the upper bound size\n",
    "        upper_bound = lower_bound + BATCH_SIZE\n",
    "        if (upper_bound > MAX_SIZE) :\n",
    "            upper_bound = MAX_SIZE\n",
    "\n",
    "        # get the data to be selected\n",
    "        current_data = df[lower_bound:upper_bound].copy()\n",
    "        current_sentence = current_data[\"sentence\"]\n",
    "        current_labels = current_data[\"label\"]\n",
    "\n",
    "        # extract feature from the data\n",
    "        current_features = bow_transformer.transform(current_sentence)\n",
    "    \n",
    "        # predict the current data\n",
    "        pred = predict_labels(v,current_features)\n",
    "        \n",
    "        # see the classifier performance\n",
    "        unused_index = np.where(pred == NON_BUG_LABEL)\n",
    "        used_index = np.where(pred == BUG_LABEL)\n",
    "        bug_index = np.where(current_labels == BUG_LABEL)\n",
    "        non_bug_index = np.where(current_labels == NON_BUG_LABEL)\n",
    "        \n",
    "        correctly_predicted_test_case = np.intersect1d(used_index, bug_index)\n",
    "        missing_potential_test_case = np.intersect1d(unused_index, bug_index)\n",
    "        \n",
    "        batch = str(lower_bound) + \" - \" + str(upper_bound)\n",
    "        precision = precision_score(current_labels, pred)\n",
    "        recall = recall_score(current_labels, pred)\n",
    "        f1 = f1_score(current_labels, pred)\n",
    "        index.append(batch)\n",
    "        performance_data.append([precision, recall, f1, len(used_index[0]), len(correctly_predicted_test_case)])\n",
    "    \n",
    "        # add the predicted data to previous data\n",
    "        if (len(correctly_predicted_test_case) > 0) :\n",
    "            added_data = current_data.iloc[correctly_predicted_test_case,:]\n",
    "            training_data.append(added_data)\n",
    "\n",
    "            # handle imbalance data\n",
    "            training_data = upsampleImbalanceData(training_data)\n",
    "\n",
    "            # re-extract feature\n",
    "            features = bow_transformer.transform(training_data[\"sentence\"])\n",
    "            labels = training_data[\"label\"]\n",
    "\n",
    "            # re-train the model \n",
    "            train_classifier(v, features, labels)\n",
    "        \n",
    "        # update the lower bound\n",
    "        lower_bound = upper_bound\n",
    "    \n",
    "    performance = pd.DataFrame(performance_data, index=index, columns=columns)\n",
    "    print(performance)\n",
    "    print(\"Total Generated: \" + str(int(performance[\"Predicted\"].sum(axis=0))))\n",
    "    print(\"Total Bug: \" + str(int(performance[\"CorrectlyPredicted\"].sum(axis=0))))\n",
    "    print(\"\\n\")\n",
    "    "
   ]
  },
  {
   "cell_type": "code",
   "execution_count": null,
   "metadata": {},
   "outputs": [],
   "source": []
  },
  {
   "cell_type": "code",
   "execution_count": null,
   "metadata": {},
   "outputs": [],
   "source": []
  }
 ],
 "metadata": {
  "kernelspec": {
   "display_name": "Python 3",
   "language": "python",
   "name": "python3"
  },
  "language_info": {
   "codemirror_mode": {
    "name": "ipython",
    "version": 3
   },
   "file_extension": ".py",
   "mimetype": "text/x-python",
   "name": "python",
   "nbconvert_exporter": "python",
   "pygments_lexer": "ipython3",
   "version": "3.7.3"
  }
 },
 "nbformat": 4,
 "nbformat_minor": 4
}
