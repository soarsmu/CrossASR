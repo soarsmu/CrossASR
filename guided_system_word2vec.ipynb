{
 "cells": [
  {
   "cell_type": "markdown",
   "metadata": {},
   "source": [
    "# Guided Test Case Generation System Notebook"
   ]
  },
  {
   "cell_type": "code",
   "execution_count": 1,
   "metadata": {},
   "outputs": [],
   "source": [
    "# Basic libraries\n",
    "import os, sys\n",
    "import numpy as np\n",
    "import re\n",
    "import string\n",
    "from datetime import datetime\n",
    "import math\n",
    "import pandas as pd\n",
    "\n",
    "import utils\n",
    "\n",
    "import matplotlib.pyplot as plt\n",
    "import seaborn as sns\n",
    "%matplotlib inline\n",
    "\n",
    "\n",
    "# Speech\n",
    "import soundfile as sf # pip install pysoundfile\n",
    "import python_speech_features as speech_lib # pip install python_speech_features\n",
    "\n",
    "\n",
    "# Machine learning\n",
    "import nltk\n",
    "import xgboost\n",
    "from sklearn.utils import shuffle\n",
    "from sklearn.base import clone as clone_model\n",
    "from sklearn.utils import resample\n",
    "from sklearn.naive_bayes import GaussianNB\n",
    "from sklearn.neural_network import MLPClassifier\n",
    "from sklearn.linear_model import LogisticRegression\n",
    "from sklearn.svm import SVC\n",
    "from sklearn.naive_bayes import MultinomialNB\n",
    "from sklearn.tree import DecisionTreeClassifier\n",
    "from sklearn.neighbors import KNeighborsClassifier\n",
    "from sklearn.ensemble import RandomForestClassifier\n",
    "from sklearn.ensemble import AdaBoostClassifier\n",
    "from sklearn.ensemble import BaggingClassifier\n",
    "from sklearn.ensemble import ExtraTreesClassifier\n",
    "from sklearn.metrics import classification_report, confusion_matrix, accuracy_score, precision_score, recall_score, f1_score\n",
    "\n",
    "import joblib\n",
    "\n",
    "import tensorflow as tf\n",
    "\n",
    "\n",
    "%load_ext autoreload\n",
    "%autoreload 2\n",
    "np.set_printoptions(precision=4)"
   ]
  },
  {
   "cell_type": "markdown",
   "metadata": {},
   "source": [
    "### Read Data"
   ]
  },
  {
   "cell_type": "code",
   "execution_count": 2,
   "metadata": {},
   "outputs": [],
   "source": [
    "DEEPSPEECH = \"deepspeech\"\n",
    "ALEXA = \"alexa\"\n",
    "GCLOUD = \"gcloud\"\n",
    "CHROMESPEECH = \"gspeech\"\n",
    "WIT = \"wit\"\n",
    "WAV2LETTER = \"wav2letter\"\n",
    "PADDLEDEEPSPEECH = \"paddledeepspeech\"\n",
    "SR = [DEEPSPEECH, WIT, WAV2LETTER, PADDLEDEEPSPEECH]\n",
    "\n",
    "df = {}\n",
    "for sr in SR :\n",
    "    df[sr] = utils.read_data(\"training_data/\" + sr + \".txt\")\n",
    "\n",
    "BUG_LABEL = 1\n",
    "NON_BUG_LABEL = 0\n",
    "UNDETERMINED_LABEL = -1"
   ]
  },
  {
   "cell_type": "code",
   "execution_count": 3,
   "metadata": {},
   "outputs": [
    {
     "data": {
      "text/html": [
       "<div>\n",
       "<style scoped>\n",
       "    .dataframe tbody tr th:only-of-type {\n",
       "        vertical-align: middle;\n",
       "    }\n",
       "\n",
       "    .dataframe tbody tr th {\n",
       "        vertical-align: top;\n",
       "    }\n",
       "\n",
       "    .dataframe thead th {\n",
       "        text-align: right;\n",
       "    }\n",
       "</style>\n",
       "<table border=\"1\" class=\"dataframe\">\n",
       "  <thead>\n",
       "    <tr style=\"text-align: right;\">\n",
       "      <th></th>\n",
       "      <th>sentence</th>\n",
       "      <th>label</th>\n",
       "    </tr>\n",
       "  </thead>\n",
       "  <tbody>\n",
       "    <tr>\n",
       "      <th>0</th>\n",
       "      <td>had laid before her a pair of alternatives now...</td>\n",
       "      <td>-1</td>\n",
       "    </tr>\n",
       "    <tr>\n",
       "      <th>1</th>\n",
       "      <td>property erects a kind of barrier you can do a...</td>\n",
       "      <td>-1</td>\n",
       "    </tr>\n",
       "    <tr>\n",
       "      <th>2</th>\n",
       "      <td>i mean of course if you'll take a companion so...</td>\n",
       "      <td>-1</td>\n",
       "    </tr>\n",
       "    <tr>\n",
       "      <th>3</th>\n",
       "      <td>she'd keep people off very well i think</td>\n",
       "      <td>1</td>\n",
       "    </tr>\n",
       "    <tr>\n",
       "      <th>4</th>\n",
       "      <td>that it's a great deal better you should remai...</td>\n",
       "      <td>1</td>\n",
       "    </tr>\n",
       "  </tbody>\n",
       "</table>\n",
       "</div>"
      ],
      "text/plain": [
       "                                            sentence  label\n",
       "0  had laid before her a pair of alternatives now...     -1\n",
       "1  property erects a kind of barrier you can do a...     -1\n",
       "2  i mean of course if you'll take a companion so...     -1\n",
       "3            she'd keep people off very well i think      1\n",
       "4  that it's a great deal better you should remai...      1"
      ]
     },
     "execution_count": 3,
     "metadata": {},
     "output_type": "execute_result"
    }
   ],
   "source": [
    "df[WIT].head()"
   ]
  },
  {
   "cell_type": "markdown",
   "metadata": {},
   "source": [
    "### Number of Fail Test Case and Success Test Case"
   ]
  },
  {
   "cell_type": "code",
   "execution_count": 4,
   "metadata": {},
   "outputs": [
    {
     "name": "stdout",
     "output_type": "stream",
     "text": [
      "7475\n"
     ]
    }
   ],
   "source": [
    "fail_test_case = utils.get_fail_test_case(df)\n",
    "print(len(fail_test_case))"
   ]
  },
  {
   "cell_type": "code",
   "execution_count": 5,
   "metadata": {},
   "outputs": [
    {
     "name": "stdout",
     "output_type": "stream",
     "text": [
      "98\n"
     ]
    }
   ],
   "source": [
    "success_test_case = utils.get_success_test_case(df)\n",
    "print(len(success_test_case))"
   ]
  },
  {
   "cell_type": "markdown",
   "metadata": {},
   "source": [
    "### Data distribution"
   ]
  },
  {
   "cell_type": "code",
   "execution_count": 6,
   "metadata": {},
   "outputs": [
    {
     "name": "stdout",
     "output_type": "stream",
     "text": [
      "\n",
      "\n",
      "\n",
      "\n",
      "deepspeech\n"
     ]
    },
    {
     "data": {
      "image/png": "[encoded data removed]",
      "text/plain": [
       "<Figure size 432x432 with 1 Axes>"
      ]
     },
     "metadata": {},
     "output_type": "display_data"
    },
    {
     "name": "stdout",
     "output_type": "stream",
     "text": [
      "\n",
      "\n",
      "\n",
      "\n",
      "wit\n"
     ]
    },
    {
     "data": {
      "image/png": "[encoded data removed]",
      "text/plain": [
       "<Figure size 432x432 with 1 Axes>"
      ]
     },
     "metadata": {},
     "output_type": "display_data"
    },
    {
     "name": "stdout",
     "output_type": "stream",
     "text": [
      "\n",
      "\n",
      "\n",
      "\n",
      "wav2letter\n"
     ]
    },
    {
     "data": {
      "image/png": "[encoded data removed]",
      "text/plain": [
       "<Figure size 432x432 with 1 Axes>"
      ]
     },
     "metadata": {},
     "output_type": "display_data"
    },
    {
     "name": "stdout",
     "output_type": "stream",
     "text": [
      "\n",
      "\n",
      "\n",
      "\n",
      "paddledeepspeech\n"
     ]
    },
    {
     "data": {
      "image/png": "[encoded data removed]",
      "text/plain": [
       "<Figure size 432x432 with 1 Axes>"
      ]
     },
     "metadata": {},
     "output_type": "display_data"
    }
   ],
   "source": [
    "for key in df.keys() :\n",
    "    print(\"\\n\\n\\n\")\n",
    "    print(key)\n",
    "    # print(df[key].groupby(\"label\").describe())\n",
    "    df[key][\"label\"].value_counts().plot(kind = 'pie', explode = [0.1, 0.1, 0.1], figsize = (6, 6), autopct = '%1.1f%%', shadow = True)\n",
    "    plt.ylabel(\"Data Distibution\")\n",
    "    plt.legend([\"Undetermined Label\", \"Bug\", \"Non-Bug\"])\n",
    "    plt.show()"
   ]
  },
  {
   "cell_type": "markdown",
   "metadata": {},
   "source": [
    "we need to handle imbalance data"
   ]
  },
  {
   "cell_type": "markdown",
   "metadata": {},
   "source": [
    "### Handle Imbalance Data"
   ]
  },
  {
   "cell_type": "code",
   "execution_count": 7,
   "metadata": {},
   "outputs": [
    {
     "name": "stdout",
     "output_type": "stream",
     "text": [
      "Resample Size: 7362\n"
     ]
    },
    {
     "data": {
      "image/png": "[encoded data removed]",
      "text/plain": [
       "<Figure size 432x432 with 1 Axes>"
      ]
     },
     "metadata": {},
     "output_type": "display_data"
    }
   ],
   "source": [
    "RESAMPLE_SIZE = utils.getResampleSize(df)\n",
    "print(\"Resample Size: %d\" % RESAMPLE_SIZE)\n",
    "\n",
    "sample = utils.resampleToFixNumber(df[\"deepspeech\"], RESAMPLE_SIZE)\n",
    "sample[\"label\"].value_counts().plot(kind = 'pie', explode = [0.1, 0.1, 0.1], figsize = (6, 6), autopct = '%1.1f%%', shadow = True)\n",
    "plt.ylabel(\"Data Distibution\")\n",
    "plt.legend([\"Undetermined Label\", \"Non-Bug\", \"Bug\"])\n",
    "plt.show()"
   ]
  },
  {
   "cell_type": "markdown",
   "metadata": {},
   "source": [
    "### Feature Extraction"
   ]
  },
  {
   "cell_type": "code",
   "execution_count": 8,
   "metadata": {},
   "outputs": [],
   "source": [
    "NUM_CORES = 4\n",
    "EMBEDDING_SIZE = 13"
   ]
  },
  {
   "cell_type": "code",
   "execution_count": 9,
   "metadata": {},
   "outputs": [],
   "source": [
    "from gensim.models import Word2Vec\n",
    "\n",
    "corpus_sentence = pd.read_csv('corpus-sentence.txt', sep=\",\", header=None)\n",
    "corpus_sentence.columns = [\"sentence\"]\n",
    "tokenized_corpus = list(corpus_sentence['sentence'].apply(utils.text_process))\n",
    "\n",
    "w2v_model = Word2Vec(\n",
    "    sentences=tokenized_corpus,\n",
    "    size=EMBEDDING_SIZE,\n",
    "    min_count=1,\n",
    "    window=5,\n",
    "    workers=NUM_CORES,\n",
    "    seed=1337\n",
    ")\n",
    "\n",
    "w2v_model.save(\"model/word2vec.model\")\n",
    "\n",
    "# Show that similar words to 'program' print\n",
    "# w2v_model.wv.most_similar(positive='program')\n",
    "\n",
    "# Encode the documents using the new embedding\n",
    "encoded_docs = [[w2v_model.wv[word] for word in sentence] for sentence in tokenized_corpus]"
   ]
  },
  {
   "cell_type": "markdown",
   "metadata": {},
   "source": [
    "### Length variation on each sentence"
   ]
  },
  {
   "cell_type": "code",
   "execution_count": 10,
   "metadata": {},
   "outputs": [
    {
     "name": "stdout",
     "output_type": "stream",
     "text": [
      "42\n",
      "40\n"
     ]
    }
   ],
   "source": [
    "print(len(encoded_docs[0]))\n",
    "print(len(encoded_docs[1])) \n",
    "# print(encoded_docs[0]) "
   ]
  },
  {
   "cell_type": "code",
   "execution_count": 11,
   "metadata": {},
   "outputs": [
    {
     "data": {
      "text/plain": [
       "75"
      ]
     },
     "execution_count": 11,
     "metadata": {},
     "output_type": "execute_result"
    }
   ],
   "source": [
    "def max_length_sentence_from_corpus(encoded_docs):\n",
    "    max = 0\n",
    "    for encoded_sentence in encoded_docs :\n",
    "        if (len(encoded_sentence) > max) :\n",
    "            max = len(encoded_sentence)\n",
    "    return max\n",
    "\n",
    "\n",
    "MAX_LENGTH = max_length_sentence_from_corpus(encoded_docs)\n",
    "MAX_LENGTH"
   ]
  },
  {
   "cell_type": "code",
   "execution_count": 12,
   "metadata": {},
   "outputs": [],
   "source": [
    "# because the length of each sentence is various \n",
    "# and we use non-sequential machine learning model\n",
    "# we need to make padding for each sentences\n",
    "def create_padding_on_sentence(encoded_docs) :\n",
    "    padded_posts = []\n",
    "\n",
    "    for post in encoded_docs:\n",
    "\n",
    "        # Pad short posts with alternating min/max\n",
    "        if len(post) < MAX_LENGTH:\n",
    "\n",
    "            padding_size = MAX_LENGTH - len(post)\n",
    "\n",
    "            for _ in range(0, padding_size) :\n",
    "                post.append(np.zeros((EMBEDDING_SIZE)))\n",
    "\n",
    "\n",
    "        # Shorten long posts or those odd number length posts we padded to MAX_LENGTH\n",
    "        if len(post) > MAX_LENGTH:\n",
    "            post = post[:MAX_LENGTH]\n",
    "\n",
    "        # Add the post to our new list of padded posts\n",
    "        padded_posts.append(post)\n",
    "    \n",
    "    return padded_posts"
   ]
  },
  {
   "cell_type": "code",
   "execution_count": 13,
   "metadata": {},
   "outputs": [],
   "source": [
    "def flatten_docs(padded_docs) :\n",
    "    flatten = []\n",
    "    for sentence in padded_docs:\n",
    "        ps = []\n",
    "        for word in sentence :\n",
    "            for feature in word :\n",
    "                ps.append(feature)\n",
    "        flatten.append(ps)\n",
    "    return np.asarray(flatten)"
   ]
  },
  {
   "cell_type": "code",
   "execution_count": 14,
   "metadata": {},
   "outputs": [],
   "source": [
    "temp_data = utils.resampleToFixNumber(df[\"deepspeech\"], RESAMPLE_SIZE)\n",
    "temp_data = utils.shuffle_data(temp_data)"
   ]
  },
  {
   "cell_type": "code",
   "execution_count": 15,
   "metadata": {},
   "outputs": [
    {
     "data": {
      "text/html": [
       "<div>\n",
       "<style scoped>\n",
       "    .dataframe tbody tr th:only-of-type {\n",
       "        vertical-align: middle;\n",
       "    }\n",
       "\n",
       "    .dataframe tbody tr th {\n",
       "        vertical-align: top;\n",
       "    }\n",
       "\n",
       "    .dataframe thead th {\n",
       "        text-align: right;\n",
       "    }\n",
       "</style>\n",
       "<table border=\"1\" class=\"dataframe\">\n",
       "  <thead>\n",
       "    <tr style=\"text-align: right;\">\n",
       "      <th></th>\n",
       "      <th>sentence</th>\n",
       "      <th>label</th>\n",
       "    </tr>\n",
       "  </thead>\n",
       "  <tbody>\n",
       "    <tr>\n",
       "      <th>0</th>\n",
       "      <td>and doctor arabin had promised that no one els...</td>\n",
       "      <td>-1</td>\n",
       "    </tr>\n",
       "    <tr>\n",
       "      <th>1</th>\n",
       "      <td>when she should be launched and lying alongsid...</td>\n",
       "      <td>-1</td>\n",
       "    </tr>\n",
       "    <tr>\n",
       "      <th>2</th>\n",
       "      <td>the creature in fine as to whom spangles or sp...</td>\n",
       "      <td>-1</td>\n",
       "    </tr>\n",
       "    <tr>\n",
       "      <th>3</th>\n",
       "      <td>he heard the cry privilege of parliament privi...</td>\n",
       "      <td>0</td>\n",
       "    </tr>\n",
       "    <tr>\n",
       "      <th>4</th>\n",
       "      <td>he saw a lady a fashionable elegantly dressed ...</td>\n",
       "      <td>0</td>\n",
       "    </tr>\n",
       "  </tbody>\n",
       "</table>\n",
       "</div>"
      ],
      "text/plain": [
       "                                            sentence  label\n",
       "0  and doctor arabin had promised that no one els...     -1\n",
       "1  when she should be launched and lying alongsid...     -1\n",
       "2  the creature in fine as to whom spangles or sp...     -1\n",
       "3  he heard the cry privilege of parliament privi...      0\n",
       "4  he saw a lady a fashionable elegantly dressed ...      0"
      ]
     },
     "execution_count": 15,
     "metadata": {},
     "output_type": "execute_result"
    }
   ],
   "source": [
    "temp_data.head()"
   ]
  },
  {
   "cell_type": "code",
   "execution_count": 16,
   "metadata": {},
   "outputs": [],
   "source": [
    "def extract_feature(docs) :\n",
    "    tokenized_sentences = docs.apply(utils.text_process)\n",
    "    encoded_docs = [[w2v_model.wv[word] for word in sentence] for sentence in tokenized_sentences]\n",
    "    padded_docs = create_padding_on_sentence(encoded_docs)\n",
    "    flatten_array = flatten_docs(padded_docs)\n",
    "    return flatten_array"
   ]
  },
  {
   "cell_type": "code",
   "execution_count": 17,
   "metadata": {},
   "outputs": [
    {
     "data": {
      "text/plain": [
       "'and doctor arabin had promised that no one else should be in the house if mister crawley objected to society but this was not what he wanted the finery and grandeur of the deanery and the comfort of that warm snug library would silence him at once'"
      ]
     },
     "execution_count": 17,
     "metadata": {},
     "output_type": "execute_result"
    }
   ],
   "source": [
    "temp_data[\"sentence\"][0]"
   ]
  },
  {
   "cell_type": "code",
   "execution_count": 18,
   "metadata": {},
   "outputs": [],
   "source": [
    "flatten_array = extract_feature(temp_data['sentence'])"
   ]
  },
  {
   "cell_type": "code",
   "execution_count": 19,
   "metadata": {},
   "outputs": [],
   "source": [
    "# flatten_array[0]"
   ]
  },
  {
   "cell_type": "code",
   "execution_count": 26,
   "metadata": {},
   "outputs": [],
   "source": [
    "# https://www.kaggle.com/reiinakano/basic-nlp-bag-of-words-tf-idf-word2vec-lstm\n",
    "\n",
    "from sklearn.model_selection import cross_val_score\n",
    "from sklearn.model_selection import StratifiedKFold\n",
    "from sklearn.model_selection import train_test_split\n",
    "\n",
    "def evaluate_features(X, y, clf=None):\n",
    "    \"\"\"General helper function for evaluating effectiveness of passed features in ML model\n",
    "    \n",
    "    Prints out Log loss, accuracy, and confusion matrix with 3-fold stratified cross-validation\n",
    "    \n",
    "    Args:\n",
    "        X (array-like): Features array. Shape (n_samples, n_features)\n",
    "        \n",
    "        y (array-like): Labels array. Shape (n_samples,)\n",
    "        \n",
    "        clf: Classifier to use. If None, default Log reg is use.\n",
    "    \"\"\"\n",
    "    if clf is None:\n",
    "        clf = RandomForestClassifier(n_estimators=31, random_state=111)\n",
    "\n",
    "    \n",
    "    score = cross_val_score(clf, X, y, cv=StratifiedKFold(n_splits=5, random_state=8,shuffle=True), n_jobs=2, verbose=2)\n",
    "    return np.mean(score)"
   ]
  },
  {
   "cell_type": "code",
   "execution_count": 27,
   "metadata": {},
   "outputs": [
    {
     "name": "stderr",
     "output_type": "stream",
     "text": [
      "[Parallel(n_jobs=2)]: Using backend LokyBackend with 2 concurrent workers.\n",
      "[Parallel(n_jobs=2)]: Done   5 out of   5 | elapsed:  1.3min remaining:    0.0s\n",
      "[Parallel(n_jobs=2)]: Done   5 out of   5 | elapsed:  1.3min finished\n"
     ]
    },
    {
     "data": {
      "text/plain": [
       "0.8489541160213434"
      ]
     },
     "execution_count": 27,
     "metadata": {},
     "output_type": "execute_result"
    }
   ],
   "source": [
    "evaluate_features(flatten_array, temp_data[\"label\"])"
   ]
  },
  {
   "cell_type": "markdown",
   "metadata": {},
   "source": [
    "## Experiment"
   ]
  },
  {
   "cell_type": "markdown",
   "metadata": {},
   "source": [
    "### Prepare Model"
   ]
  },
  {
   "cell_type": "code",
   "execution_count": 22,
   "metadata": {},
   "outputs": [],
   "source": [
    "N_JOBS = 4\n",
    "\n",
    "svc = SVC(kernel='sigmoid', gamma=1.0)\n",
    "knc = KNeighborsClassifier(n_neighbors=10)\n",
    "mnb = MultinomialNB(alpha=0.2)\n",
    "dtc = DecisionTreeClassifier(min_samples_split=7, random_state=111)\n",
    "lrc = LogisticRegression(solver='lbfgs', n_jobs=N_JOBS)\n",
    "rfc = RandomForestClassifier(n_estimators=31, random_state=111, n_jobs=N_JOBS)\n",
    "abc = AdaBoostClassifier(n_estimators=31, random_state=111)\n",
    "bc = BaggingClassifier(n_estimators=10, random_state=111, n_jobs=N_JOBS)\n",
    "etc = ExtraTreesClassifier(n_estimators=10, random_state=111, n_jobs=N_JOBS)\n",
    "xgb = xgboost.XGBClassifier(max_depth=50, n_estimators=80, learning_rate=0.1, colsample_bytree=.7, gamma=0, reg_alpha=4, objective='binary:logistic', eta=0.3, silent=1, subsample=0.8)"
   ]
  },
  {
   "cell_type": "code",
   "execution_count": 23,
   "metadata": {},
   "outputs": [],
   "source": [
    "clfs = {'SVC' : svc,'KN' : knc, 'DT': dtc, 'LR': lrc, 'RF': rfc, 'AdaBoost': abc, 'BgC': bc, 'ETC': etc }"
   ]
  },
  {
   "cell_type": "markdown",
   "metadata": {},
   "source": [
    "### Model Evaluation"
   ]
  },
  {
   "cell_type": "code",
   "execution_count": 24,
   "metadata": {},
   "outputs": [],
   "source": [
    "features = {}\n",
    "labels = {}\n",
    "for k,v in df.items() :\n",
    "    data = utils.resampleToFixNumber(v, RESAMPLE_SIZE)\n",
    "    features[k] = extract_feature(data[\"sentence\"])\n",
    "    labels[k] = data[\"label\"]"
   ]
  },
  {
   "cell_type": "markdown",
   "metadata": {},
   "source": [
    "#### Performance"
   ]
  },
  {
   "cell_type": "code",
   "execution_count": 25,
   "metadata": {},
   "outputs": [
    {
     "name": "stderr",
     "output_type": "stream",
     "text": [
      "[Parallel(n_jobs=4)]: Using backend LokyBackend with 4 concurrent workers.\n"
     ]
    },
    {
     "ename": "KeyboardInterrupt",
     "evalue": "",
     "output_type": "error",
     "traceback": [
      "\u001b[0;31m---------------------------------------------------------------------------\u001b[0m",
      "\u001b[0;31mKeyboardInterrupt\u001b[0m                         Traceback (most recent call last)",
      "\u001b[0;32m<ipython-input-25-9550a08cbc93>\u001b[0m in \u001b[0;36m<module>\u001b[0;34m\u001b[0m\n\u001b[1;32m      2\u001b[0m     \u001b[0maccuracy\u001b[0m \u001b[0;34m=\u001b[0m \u001b[0;34m[\u001b[0m\u001b[0;34m]\u001b[0m\u001b[0;34m\u001b[0m\u001b[0;34m\u001b[0m\u001b[0m\n\u001b[1;32m      3\u001b[0m     \u001b[0;32mfor\u001b[0m \u001b[0mk\u001b[0m\u001b[0;34m,\u001b[0m\u001b[0mv\u001b[0m \u001b[0;32min\u001b[0m \u001b[0mdf\u001b[0m\u001b[0;34m.\u001b[0m\u001b[0mitems\u001b[0m\u001b[0;34m(\u001b[0m\u001b[0;34m)\u001b[0m \u001b[0;34m:\u001b[0m\u001b[0;34m\u001b[0m\u001b[0;34m\u001b[0m\u001b[0m\n\u001b[0;32m----> 4\u001b[0;31m         \u001b[0macc\u001b[0m \u001b[0;34m=\u001b[0m \u001b[0mevaluate_features\u001b[0m\u001b[0;34m(\u001b[0m\u001b[0mfeatures\u001b[0m\u001b[0;34m[\u001b[0m\u001b[0mk\u001b[0m\u001b[0;34m]\u001b[0m\u001b[0;34m,\u001b[0m \u001b[0mlabels\u001b[0m\u001b[0;34m[\u001b[0m\u001b[0mk\u001b[0m\u001b[0;34m]\u001b[0m\u001b[0;34m,\u001b[0m \u001b[0mclf\u001b[0m\u001b[0;34m)\u001b[0m\u001b[0;34m\u001b[0m\u001b[0;34m\u001b[0m\u001b[0m\n\u001b[0m\u001b[1;32m      5\u001b[0m         \u001b[0maccuracy\u001b[0m\u001b[0;34m.\u001b[0m\u001b[0mappend\u001b[0m\u001b[0;34m(\u001b[0m\u001b[0macc\u001b[0m\u001b[0;34m)\u001b[0m\u001b[0;34m\u001b[0m\u001b[0;34m\u001b[0m\u001b[0m\n\u001b[1;32m      6\u001b[0m \u001b[0;34m\u001b[0m\u001b[0m\n",
      "\u001b[0;32m<ipython-input-20-48265105e9dc>\u001b[0m in \u001b[0;36mevaluate_features\u001b[0;34m(X, y, clf)\u001b[0m\n\u001b[1;32m     22\u001b[0m \u001b[0;34m\u001b[0m\u001b[0m\n\u001b[1;32m     23\u001b[0m \u001b[0;34m\u001b[0m\u001b[0m\n\u001b[0;32m---> 24\u001b[0;31m     \u001b[0mscore\u001b[0m \u001b[0;34m=\u001b[0m \u001b[0mcross_val_score\u001b[0m\u001b[0;34m(\u001b[0m\u001b[0mclf\u001b[0m\u001b[0;34m,\u001b[0m \u001b[0mX\u001b[0m\u001b[0;34m,\u001b[0m \u001b[0my\u001b[0m\u001b[0;34m,\u001b[0m \u001b[0mcv\u001b[0m\u001b[0;34m=\u001b[0m\u001b[0mStratifiedKFold\u001b[0m\u001b[0;34m(\u001b[0m\u001b[0mrandom_state\u001b[0m\u001b[0;34m=\u001b[0m\u001b[0;36m8\u001b[0m\u001b[0;34m,\u001b[0m\u001b[0mshuffle\u001b[0m\u001b[0;34m=\u001b[0m\u001b[0;32mTrue\u001b[0m\u001b[0;34m)\u001b[0m\u001b[0;34m,\u001b[0m \u001b[0mn_jobs\u001b[0m\u001b[0;34m=\u001b[0m\u001b[0;36m4\u001b[0m\u001b[0;34m,\u001b[0m \u001b[0mverbose\u001b[0m\u001b[0;34m=\u001b[0m\u001b[0;36m2\u001b[0m\u001b[0;34m)\u001b[0m\u001b[0;34m\u001b[0m\u001b[0;34m\u001b[0m\u001b[0m\n\u001b[0m\u001b[1;32m     25\u001b[0m     \u001b[0mprint\u001b[0m\u001b[0;34m(\u001b[0m\u001b[0;34m'Accuracy: {}'\u001b[0m\u001b[0;34m.\u001b[0m\u001b[0mformat\u001b[0m\u001b[0;34m(\u001b[0m\u001b[0mnp\u001b[0m\u001b[0;34m.\u001b[0m\u001b[0mmean\u001b[0m\u001b[0;34m(\u001b[0m\u001b[0mscore\u001b[0m\u001b[0;34m)\u001b[0m\u001b[0;34m)\u001b[0m\u001b[0;34m)\u001b[0m\u001b[0;34m\u001b[0m\u001b[0;34m\u001b[0m\u001b[0m\n",
      "\u001b[0;32m~/env/lib/python3.7/site-packages/sklearn/model_selection/_validation.py\u001b[0m in \u001b[0;36mcross_val_score\u001b[0;34m(estimator, X, y, groups, scoring, cv, n_jobs, verbose, fit_params, pre_dispatch, error_score)\u001b[0m\n\u001b[1;32m    388\u001b[0m                                 \u001b[0mfit_params\u001b[0m\u001b[0;34m=\u001b[0m\u001b[0mfit_params\u001b[0m\u001b[0;34m,\u001b[0m\u001b[0;34m\u001b[0m\u001b[0;34m\u001b[0m\u001b[0m\n\u001b[1;32m    389\u001b[0m                                 \u001b[0mpre_dispatch\u001b[0m\u001b[0;34m=\u001b[0m\u001b[0mpre_dispatch\u001b[0m\u001b[0;34m,\u001b[0m\u001b[0;34m\u001b[0m\u001b[0;34m\u001b[0m\u001b[0m\n\u001b[0;32m--> 390\u001b[0;31m                                 error_score=error_score)\n\u001b[0m\u001b[1;32m    391\u001b[0m     \u001b[0;32mreturn\u001b[0m \u001b[0mcv_results\u001b[0m\u001b[0;34m[\u001b[0m\u001b[0;34m'test_score'\u001b[0m\u001b[0;34m]\u001b[0m\u001b[0;34m\u001b[0m\u001b[0;34m\u001b[0m\u001b[0m\n\u001b[1;32m    392\u001b[0m \u001b[0;34m\u001b[0m\u001b[0m\n",
      "\u001b[0;32m~/env/lib/python3.7/site-packages/sklearn/model_selection/_validation.py\u001b[0m in \u001b[0;36mcross_validate\u001b[0;34m(estimator, X, y, groups, scoring, cv, n_jobs, verbose, fit_params, pre_dispatch, return_train_score, return_estimator, error_score)\u001b[0m\n\u001b[1;32m    234\u001b[0m             \u001b[0mreturn_times\u001b[0m\u001b[0;34m=\u001b[0m\u001b[0;32mTrue\u001b[0m\u001b[0;34m,\u001b[0m \u001b[0mreturn_estimator\u001b[0m\u001b[0;34m=\u001b[0m\u001b[0mreturn_estimator\u001b[0m\u001b[0;34m,\u001b[0m\u001b[0;34m\u001b[0m\u001b[0;34m\u001b[0m\u001b[0m\n\u001b[1;32m    235\u001b[0m             error_score=error_score)\n\u001b[0;32m--> 236\u001b[0;31m         for train, test in cv.split(X, y, groups))\n\u001b[0m\u001b[1;32m    237\u001b[0m \u001b[0;34m\u001b[0m\u001b[0m\n\u001b[1;32m    238\u001b[0m     \u001b[0mzipped_scores\u001b[0m \u001b[0;34m=\u001b[0m \u001b[0mlist\u001b[0m\u001b[0;34m(\u001b[0m\u001b[0mzip\u001b[0m\u001b[0;34m(\u001b[0m\u001b[0;34m*\u001b[0m\u001b[0mscores\u001b[0m\u001b[0;34m)\u001b[0m\u001b[0;34m)\u001b[0m\u001b[0;34m\u001b[0m\u001b[0;34m\u001b[0m\u001b[0m\n",
      "\u001b[0;32m~/env/lib/python3.7/site-packages/joblib/parallel.py\u001b[0m in \u001b[0;36m__call__\u001b[0;34m(self, iterable)\u001b[0m\n\u001b[1;32m   1015\u001b[0m \u001b[0;34m\u001b[0m\u001b[0m\n\u001b[1;32m   1016\u001b[0m             \u001b[0;32mwith\u001b[0m \u001b[0mself\u001b[0m\u001b[0;34m.\u001b[0m\u001b[0m_backend\u001b[0m\u001b[0;34m.\u001b[0m\u001b[0mretrieval_context\u001b[0m\u001b[0;34m(\u001b[0m\u001b[0;34m)\u001b[0m\u001b[0;34m:\u001b[0m\u001b[0;34m\u001b[0m\u001b[0;34m\u001b[0m\u001b[0m\n\u001b[0;32m-> 1017\u001b[0;31m                 \u001b[0mself\u001b[0m\u001b[0;34m.\u001b[0m\u001b[0mretrieve\u001b[0m\u001b[0;34m(\u001b[0m\u001b[0;34m)\u001b[0m\u001b[0;34m\u001b[0m\u001b[0;34m\u001b[0m\u001b[0m\n\u001b[0m\u001b[1;32m   1018\u001b[0m             \u001b[0;31m# Make sure that we get a last message telling us we are done\u001b[0m\u001b[0;34m\u001b[0m\u001b[0;34m\u001b[0m\u001b[0;34m\u001b[0m\u001b[0m\n\u001b[1;32m   1019\u001b[0m             \u001b[0melapsed_time\u001b[0m \u001b[0;34m=\u001b[0m \u001b[0mtime\u001b[0m\u001b[0;34m.\u001b[0m\u001b[0mtime\u001b[0m\u001b[0;34m(\u001b[0m\u001b[0;34m)\u001b[0m \u001b[0;34m-\u001b[0m \u001b[0mself\u001b[0m\u001b[0;34m.\u001b[0m\u001b[0m_start_time\u001b[0m\u001b[0;34m\u001b[0m\u001b[0;34m\u001b[0m\u001b[0m\n",
      "\u001b[0;32m~/env/lib/python3.7/site-packages/joblib/parallel.py\u001b[0m in \u001b[0;36mretrieve\u001b[0;34m(self)\u001b[0m\n\u001b[1;32m    907\u001b[0m             \u001b[0;32mtry\u001b[0m\u001b[0;34m:\u001b[0m\u001b[0;34m\u001b[0m\u001b[0;34m\u001b[0m\u001b[0m\n\u001b[1;32m    908\u001b[0m                 \u001b[0;32mif\u001b[0m \u001b[0mgetattr\u001b[0m\u001b[0;34m(\u001b[0m\u001b[0mself\u001b[0m\u001b[0;34m.\u001b[0m\u001b[0m_backend\u001b[0m\u001b[0;34m,\u001b[0m \u001b[0;34m'supports_timeout'\u001b[0m\u001b[0;34m,\u001b[0m \u001b[0;32mFalse\u001b[0m\u001b[0;34m)\u001b[0m\u001b[0;34m:\u001b[0m\u001b[0;34m\u001b[0m\u001b[0;34m\u001b[0m\u001b[0m\n\u001b[0;32m--> 909\u001b[0;31m                     \u001b[0mself\u001b[0m\u001b[0;34m.\u001b[0m\u001b[0m_output\u001b[0m\u001b[0;34m.\u001b[0m\u001b[0mextend\u001b[0m\u001b[0;34m(\u001b[0m\u001b[0mjob\u001b[0m\u001b[0;34m.\u001b[0m\u001b[0mget\u001b[0m\u001b[0;34m(\u001b[0m\u001b[0mtimeout\u001b[0m\u001b[0;34m=\u001b[0m\u001b[0mself\u001b[0m\u001b[0;34m.\u001b[0m\u001b[0mtimeout\u001b[0m\u001b[0;34m)\u001b[0m\u001b[0;34m)\u001b[0m\u001b[0;34m\u001b[0m\u001b[0;34m\u001b[0m\u001b[0m\n\u001b[0m\u001b[1;32m    910\u001b[0m                 \u001b[0;32melse\u001b[0m\u001b[0;34m:\u001b[0m\u001b[0;34m\u001b[0m\u001b[0;34m\u001b[0m\u001b[0m\n\u001b[1;32m    911\u001b[0m                     \u001b[0mself\u001b[0m\u001b[0;34m.\u001b[0m\u001b[0m_output\u001b[0m\u001b[0;34m.\u001b[0m\u001b[0mextend\u001b[0m\u001b[0;34m(\u001b[0m\u001b[0mjob\u001b[0m\u001b[0;34m.\u001b[0m\u001b[0mget\u001b[0m\u001b[0;34m(\u001b[0m\u001b[0;34m)\u001b[0m\u001b[0;34m)\u001b[0m\u001b[0;34m\u001b[0m\u001b[0;34m\u001b[0m\u001b[0m\n",
      "\u001b[0;32m~/env/lib/python3.7/site-packages/joblib/_parallel_backends.py\u001b[0m in \u001b[0;36mwrap_future_result\u001b[0;34m(future, timeout)\u001b[0m\n\u001b[1;32m    560\u001b[0m         AsyncResults.get from multiprocessing.\"\"\"\n\u001b[1;32m    561\u001b[0m         \u001b[0;32mtry\u001b[0m\u001b[0;34m:\u001b[0m\u001b[0;34m\u001b[0m\u001b[0;34m\u001b[0m\u001b[0m\n\u001b[0;32m--> 562\u001b[0;31m             \u001b[0;32mreturn\u001b[0m \u001b[0mfuture\u001b[0m\u001b[0;34m.\u001b[0m\u001b[0mresult\u001b[0m\u001b[0;34m(\u001b[0m\u001b[0mtimeout\u001b[0m\u001b[0;34m=\u001b[0m\u001b[0mtimeout\u001b[0m\u001b[0;34m)\u001b[0m\u001b[0;34m\u001b[0m\u001b[0;34m\u001b[0m\u001b[0m\n\u001b[0m\u001b[1;32m    563\u001b[0m         \u001b[0;32mexcept\u001b[0m \u001b[0mLokyTimeoutError\u001b[0m\u001b[0;34m:\u001b[0m\u001b[0;34m\u001b[0m\u001b[0;34m\u001b[0m\u001b[0m\n\u001b[1;32m    564\u001b[0m             \u001b[0;32mraise\u001b[0m \u001b[0mTimeoutError\u001b[0m\u001b[0;34m(\u001b[0m\u001b[0;34m)\u001b[0m\u001b[0;34m\u001b[0m\u001b[0;34m\u001b[0m\u001b[0m\n",
      "\u001b[0;32m/Applications/Xcode.app/Contents/Developer/Library/Frameworks/Python3.framework/Versions/3.7/lib/python3.7/concurrent/futures/_base.py\u001b[0m in \u001b[0;36mresult\u001b[0;34m(self, timeout)\u001b[0m\n\u001b[1;32m    425\u001b[0m                 \u001b[0;32mreturn\u001b[0m \u001b[0mself\u001b[0m\u001b[0;34m.\u001b[0m\u001b[0m__get_result\u001b[0m\u001b[0;34m(\u001b[0m\u001b[0;34m)\u001b[0m\u001b[0;34m\u001b[0m\u001b[0;34m\u001b[0m\u001b[0m\n\u001b[1;32m    426\u001b[0m \u001b[0;34m\u001b[0m\u001b[0m\n\u001b[0;32m--> 427\u001b[0;31m             \u001b[0mself\u001b[0m\u001b[0;34m.\u001b[0m\u001b[0m_condition\u001b[0m\u001b[0;34m.\u001b[0m\u001b[0mwait\u001b[0m\u001b[0;34m(\u001b[0m\u001b[0mtimeout\u001b[0m\u001b[0;34m)\u001b[0m\u001b[0;34m\u001b[0m\u001b[0;34m\u001b[0m\u001b[0m\n\u001b[0m\u001b[1;32m    428\u001b[0m \u001b[0;34m\u001b[0m\u001b[0m\n\u001b[1;32m    429\u001b[0m             \u001b[0;32mif\u001b[0m \u001b[0mself\u001b[0m\u001b[0;34m.\u001b[0m\u001b[0m_state\u001b[0m \u001b[0;32min\u001b[0m \u001b[0;34m[\u001b[0m\u001b[0mCANCELLED\u001b[0m\u001b[0;34m,\u001b[0m \u001b[0mCANCELLED_AND_NOTIFIED\u001b[0m\u001b[0;34m]\u001b[0m\u001b[0;34m:\u001b[0m\u001b[0;34m\u001b[0m\u001b[0;34m\u001b[0m\u001b[0m\n",
      "\u001b[0;32m/Applications/Xcode.app/Contents/Developer/Library/Frameworks/Python3.framework/Versions/3.7/lib/python3.7/threading.py\u001b[0m in \u001b[0;36mwait\u001b[0;34m(self, timeout)\u001b[0m\n\u001b[1;32m    294\u001b[0m         \u001b[0;32mtry\u001b[0m\u001b[0;34m:\u001b[0m    \u001b[0;31m# restore state no matter what (e.g., KeyboardInterrupt)\u001b[0m\u001b[0;34m\u001b[0m\u001b[0;34m\u001b[0m\u001b[0m\n\u001b[1;32m    295\u001b[0m             \u001b[0;32mif\u001b[0m \u001b[0mtimeout\u001b[0m \u001b[0;32mis\u001b[0m \u001b[0;32mNone\u001b[0m\u001b[0;34m:\u001b[0m\u001b[0;34m\u001b[0m\u001b[0;34m\u001b[0m\u001b[0m\n\u001b[0;32m--> 296\u001b[0;31m                 \u001b[0mwaiter\u001b[0m\u001b[0;34m.\u001b[0m\u001b[0macquire\u001b[0m\u001b[0;34m(\u001b[0m\u001b[0;34m)\u001b[0m\u001b[0;34m\u001b[0m\u001b[0;34m\u001b[0m\u001b[0m\n\u001b[0m\u001b[1;32m    297\u001b[0m                 \u001b[0mgotit\u001b[0m \u001b[0;34m=\u001b[0m \u001b[0;32mTrue\u001b[0m\u001b[0;34m\u001b[0m\u001b[0;34m\u001b[0m\u001b[0m\n\u001b[1;32m    298\u001b[0m             \u001b[0;32melse\u001b[0m\u001b[0;34m:\u001b[0m\u001b[0;34m\u001b[0m\u001b[0;34m\u001b[0m\u001b[0m\n",
      "\u001b[0;31mKeyboardInterrupt\u001b[0m: "
     ]
    }
   ],
   "source": [
    "for clf_name, clf in clfs.items() :\n",
    "    accuracy = []\n",
    "    for k,v in df.items() :\n",
    "        acc = evaluate_features(features[k], labels[k], clf)\n",
    "        accuracy.append(acc)\n",
    "\n",
    "    print('Average accuracy %s: %.2f' % (clf_name, np.mean(accuracy)))"
   ]
  },
  {
   "cell_type": "markdown",
   "metadata": {},
   "source": [
    "### Trying Model in the First Batch"
   ]
  },
  {
   "cell_type": "code",
   "execution_count": 25,
   "metadata": {},
   "outputs": [],
   "source": [
    "def train_classifier(clf, feature_train, labels_train):    \n",
    "    clf.fit(feature_train, labels_train)\n",
    "    \n",
    "def predict_labels(clf, features):\n",
    "    return clf.predict(features)\n",
    "\n",
    "# intersection between 2 sets\n",
    "def intersection(lst1, lst2): \n",
    "    lst3 = [value for value in lst1 if value in lst2] \n",
    "    return lst3"
   ]
  },
  {
   "cell_type": "code",
   "execution_count": 26,
   "metadata": {},
   "outputs": [],
   "source": [
    "k = list(df.keys())[0]\n",
    "FIRST_BATCH_SIZE = math.ceil(len(df[k][\"label\"]) * 3 / 4 )\n",
    "# FIRST_BATCH_SIZE = math.ceil(len(df[k][\"label\"]) / 2 )\n",
    "BATCH_SIZE = math.ceil(len(df[k][\"label\"]) / 2 / 3)\n",
    "MAX_SIZE = len(df[k][\"label\"])\n",
    "\n",
    "features = {}\n",
    "labels = {}\n",
    "for k,v in df.items() :\n",
    "    data = v[:FIRST_BATCH_SIZE]\n",
    "    data = resampleToFixNumber(data, RESAMPLE_SIZE)\n",
    "    features[k] = extract_feature(data[\"sentence\"])\n",
    "    labels[k] = data[\"label\"]"
   ]
  },
  {
   "cell_type": "code",
   "execution_count": 30,
   "metadata": {},
   "outputs": [],
   "source": [
    "models = {}\n",
    "# selected_clfs = [\"SVC\", \"KN\", \"NB\", \"DT\", \"LR\", \"RF\", \"AdaBoost\", \"BgC\", \"ETC\", \"XGB\"]\n",
    "# selected_clfs = [\"SVC\", \"KN\", \"NB\", \"DT\", \"LR\", \"AdaBoost\", \"XGB\"]\n",
    "# selected_clfs = [\"RF\"]\n",
    "selected_clfs = [\"KN\", \"DT\", \"LR\", \"RF\", \"AdaBoost\", \"ETC\"]\n",
    "for k in selected_clfs :\n",
    "    per_sr_model = {}\n",
    "    for key_sr in features.keys() :\n",
    "        model = None\n",
    "        model = clone_model(clfs[k])\n",
    "        train_classifier(model, features[key_sr], labels[key_sr])\n",
    "        per_sr_model[key_sr] = model\n",
    "    models[k] = per_sr_model\n",
    "    \n",
    "for clf in models.keys() :\n",
    "    for sr in models[clf].keys():\n",
    "        filename = \"model/\" + clf + \"_\" + sr + \".sav\"\n",
    "        joblib.dump(models[clf][sr], filename)"
   ]
  },
  {
   "cell_type": "markdown",
   "metadata": {},
   "source": [
    "### Trying Model for the Next Batch until Finish"
   ]
  },
  {
   "cell_type": "code",
   "execution_count": 31,
   "metadata": {},
   "outputs": [
    {
     "name": "stdout",
     "output_type": "stream",
     "text": [
      "Classifier: KN\n",
      "               Predicted  CorrectlyPredictedBug  UndetectedBug  Precision  \\\n",
      "21405 - 26162       4102                   2380            380       0.58   \n",
      "26162 - 28539       2017                   1148            204       0.57   \n",
      "\n",
      "               Recall    F1  \n",
      "21405 - 26162    0.86  0.69  \n",
      "26162 - 28539    0.85  0.68  \n",
      "Total Generated: 6119\n",
      "Correctly Predicted Bug: 3528\n",
      "Undetected Bug: 584\n",
      "Total bug: 4112\n",
      "Precision: 0.57\n",
      "Recall: 0.86\n",
      "F1: 0.68\n",
      "\n",
      "\n",
      "Classifier: DT\n",
      "               Predicted  CorrectlyPredictedBug  UndetectedBug  Precision  \\\n",
      "21405 - 26162       3603                   2133            627       0.59   \n",
      "26162 - 28539       1817                   1070            282       0.59   \n",
      "\n",
      "               Recall    F1  \n",
      "21405 - 26162    0.77  0.67  \n",
      "26162 - 28539    0.79  0.68  \n",
      "Total Generated: 5420\n",
      "Correctly Predicted Bug: 3203\n",
      "Undetected Bug: 909\n",
      "Total bug: 4112\n",
      "Precision: 0.59\n",
      "Recall: 0.78\n",
      "F1: 0.68\n",
      "\n",
      "\n",
      "Classifier: LR\n",
      "               Predicted  CorrectlyPredictedBug  UndetectedBug  Precision  \\\n",
      "21405 - 26162       3842                   2263            497       0.59   \n",
      "26162 - 28539       1902                   1102            250       0.58   \n",
      "\n",
      "               Recall    F1  \n",
      "21405 - 26162    0.82  0.69  \n",
      "26162 - 28539    0.82  0.68  \n",
      "Total Generated: 5744\n",
      "Correctly Predicted Bug: 3365\n",
      "Undetected Bug: 747\n",
      "Total bug: 4112\n",
      "Precision: 0.58\n",
      "Recall: 0.82\n",
      "F1: 0.68\n",
      "\n",
      "\n",
      "Classifier: RF\n",
      "               Predicted  CorrectlyPredictedBug  UndetectedBug  Precision  \\\n",
      "21405 - 26162       2371                   1581           1179       0.67   \n",
      "26162 - 28539       1167                    769            583       0.66   \n",
      "\n",
      "               Recall    F1  \n",
      "21405 - 26162    0.57  0.62  \n",
      "26162 - 28539    0.57  0.61  \n",
      "Total Generated: 3538\n",
      "Correctly Predicted Bug: 2350\n",
      "Undetected Bug: 1762\n",
      "Total bug: 4112\n",
      "Precision: 0.66\n",
      "Recall: 0.57\n",
      "F1: 0.62\n",
      "\n",
      "\n",
      "Classifier: AdaBoost\n",
      "               Predicted  CorrectlyPredictedBug  UndetectedBug  Precision  \\\n",
      "21405 - 26162       2894                   1712           1048       0.59   \n",
      "26162 - 28539       1429                    869            483       0.61   \n",
      "\n",
      "               Recall    F1  \n",
      "21405 - 26162    0.62  0.60  \n",
      "26162 - 28539    0.64  0.62  \n",
      "Total Generated: 4323\n",
      "Correctly Predicted Bug: 2581\n",
      "Undetected Bug: 1531\n",
      "Total bug: 4112\n",
      "Precision: 0.60\n",
      "Recall: 0.63\n",
      "F1: 0.61\n",
      "\n",
      "\n",
      "Classifier: ETC\n",
      "               Predicted  CorrectlyPredictedBug  UndetectedBug  Precision  \\\n",
      "21405 - 26162       2248                   1433           1327       0.64   \n",
      "26162 - 28539       1104                    730            622       0.66   \n",
      "\n",
      "               Recall    F1  \n",
      "21405 - 26162    0.52  0.57  \n",
      "26162 - 28539    0.54  0.59  \n",
      "Total Generated: 3352\n",
      "Correctly Predicted Bug: 2163\n",
      "Undetected Bug: 1949\n",
      "Total bug: 4112\n",
      "Precision: 0.65\n",
      "Recall: 0.53\n",
      "F1: 0.58\n",
      "\n",
      "\n"
     ]
    }
   ],
   "source": [
    "performance_writer = open(\n",
    "        \"performance/word2vec_\" + str(datetime.now()) + \".txt\", \"w+\")\n",
    "\n",
    "\n",
    "for key_clf, v in models.items() :\n",
    "    # classify the selected data\n",
    "    training_data = {}\n",
    "    for key_sr, model in v.items():\n",
    "        training_data[key_sr] = df[key_sr][:FIRST_BATCH_SIZE]\n",
    "\n",
    "    lower_bound = FIRST_BATCH_SIZE\n",
    "\n",
    "    columns = [\"Predicted\", \"CorrectlyPredictedBug\", \"UndetectedBug\", \"Precision\", \"Recall\", \"F1\"]\n",
    "    index = []\n",
    "    performance_data = []\n",
    "\n",
    "    while (lower_bound < MAX_SIZE) :\n",
    "        # set the upper bound size\n",
    "        upper_bound = lower_bound + BATCH_SIZE\n",
    "        if (upper_bound > MAX_SIZE) :\n",
    "            upper_bound = MAX_SIZE\n",
    "        batch = str(lower_bound) + \" - \" + str(upper_bound)\n",
    "        index.append(batch)\n",
    "            \n",
    "        union_used_index = []\n",
    "        union_bug_index = []\n",
    "        bug_index_per_model = {}\n",
    "            \n",
    "        for key_sr, model in v.items():\n",
    "            # get the data to be selected\n",
    "            current_data = df[key_sr][lower_bound:upper_bound]\n",
    "            current_sentence = current_data[\"sentence\"]\n",
    "            current_labels = current_data[\"label\"]\n",
    "\n",
    "            # extract feature from the data\n",
    "            current_features = extract_feature(current_sentence)\n",
    "\n",
    "            # predict the current data\n",
    "            pred = predict_labels(model, current_features)\n",
    "\n",
    "            # see the classifier performance\n",
    "            used_index = np.where(pred == BUG_LABEL)\n",
    "            bug_index = np.where(current_labels == BUG_LABEL)\n",
    "            \n",
    "            union_used_index = list(set().union(union_used_index, used_index[0]))\n",
    "            union_bug_index = list(set().union(union_bug_index, bug_index[0]))\n",
    "            bug_index_per_model[key_sr] = bug_index[0]\n",
    "            \n",
    "\n",
    "        intersect = intersection(union_used_index, union_bug_index)\n",
    "        intersection_length = len(intersect)\n",
    "        undetected_bug = len(union_bug_index)-intersection_length\n",
    "        precision = 0\n",
    "        if (len(union_used_index) != 0) :\n",
    "            precision = round(intersection_length/len(union_used_index), 2)\n",
    "        recall = 0\n",
    "        if ((intersection_length + undetected_bug) != 0) :\n",
    "            recall = round(intersection_length/(intersection_length + undetected_bug), 2)\n",
    "        precision_recall = precision + recall\n",
    "        f1 = 0\n",
    "        if precision_recall != 0 :\n",
    "            f1 = round( 2 * precision * recall / (precision_recall), 2)\n",
    "        performance_data.append([len(union_used_index), intersection_length, undetected_bug, precision, recall, f1])\n",
    "        \n",
    "        # add the predicted data to previous data\n",
    "        if (len(union_used_index) > 0) :\n",
    "            for key_sr, bug_index in bug_index_per_model.items() :\n",
    "                intersection_index = intersection(union_used_index, bug_index)\n",
    "                added_data = current_data.iloc[intersection_index,:]\n",
    "                training_data[key_sr].append(added_data)\n",
    "                \n",
    "                # handle imbalance data\n",
    "                resampled_data = resampleToFixNumber(training_data[key_sr], RESAMPLE_SIZE)\n",
    "\n",
    "                # re-extract feature\n",
    "                features[key_sr] = extract_feature(resampled_data[\"sentence\"])\n",
    "                labels[key_sr] = resampled_data[\"label\"]\n",
    "\n",
    "                # re-train the model \n",
    "                train_classifier(model, features[key_sr], labels[key_sr])\n",
    "\n",
    "        # update the lower bound\n",
    "        lower_bound = upper_bound\n",
    "\n",
    "    performance = pd.DataFrame(performance_data, index=index, columns=columns)\n",
    "    print(\"Classifier: \" + key_clf) \n",
    "    print(performance)\n",
    "    generated = int(performance[\"Predicted\"].sum(axis=0))\n",
    "    correctly_predicted_bug = int(performance[\"CorrectlyPredictedBug\"].sum(axis=0))\n",
    "    undetected_bug =  int(performance[\"UndetectedBug\"].sum(axis=0))\n",
    "    precision = round(performance[\"Precision\"].mean(), 2)\n",
    "    recall = round(performance[\"Recall\"].mean(), 2)\n",
    "    f1 = round(performance[\"F1\"].mean(), 2)\n",
    "    print(\"Total Generated: %d\" % (generated))\n",
    "    print(\"Correctly Predicted Bug: %d\" % (correctly_predicted_bug))\n",
    "    print(\"Undetected Bug: %d\" % (undetected_bug))\n",
    "    print(\"Total bug: %d\" % (correctly_predicted_bug + undetected_bug) )\n",
    "    print(\"Precision: %.2f\" % (precision))\n",
    "    print(\"Recall: %.2f\" % (recall))\n",
    "    print(\"F1: %.2f\" % (f1))\n",
    "    print(\"\\n\")\n",
    "    \n",
    "    performance_writer.write(\"Classifier: %s\" % (key_clf))\n",
    "    performance_writer.write(\"\\n\" + str(performance))\n",
    "    performance_writer.write(\"\\nTotal Generated: %d\" % (generated))\n",
    "    performance_writer.write(\"\\nCorrectly Predicted Bug: %d\" % (correctly_predicted_bug))\n",
    "    performance_writer.write(\"\\nUndetected Bug: %d\" % (undetected_bug))\n",
    "    performance_writer.write(\"\\nTotal bug: %d\" % (correctly_predicted_bug + undetected_bug) )\n",
    "    performance_writer.write(\"\\nPrecision: %.2f\" % (precision))\n",
    "    performance_writer.write(\"\\nRecall: %.2f\" % (recall))\n",
    "    performance_writer.write(\"\\nF1: %.2f\" % (f1))\n",
    "    performance_writer.write(\"\\n\\n\")\n",
    "\n",
    "performance_writer.close()"
   ]
  },
  {
   "cell_type": "code",
   "execution_count": null,
   "metadata": {},
   "outputs": [],
   "source": []
  },
  {
   "cell_type": "code",
   "execution_count": null,
   "metadata": {},
   "outputs": [],
   "source": []
  },
  {
   "cell_type": "code",
   "execution_count": null,
   "metadata": {},
   "outputs": [],
   "source": []
  }
 ],
 "metadata": {
  "kernelspec": {
   "display_name": "Python 3",
   "language": "python",
   "name": "python3"
  },
  "language_info": {
   "codemirror_mode": {
    "name": "ipython",
    "version": 3
   },
   "file_extension": ".py",
   "mimetype": "text/x-python",
   "name": "python",
   "nbconvert_exporter": "python",
   "pygments_lexer": "ipython3",
   "version": "3.7.3"
  }
 },
 "nbformat": 4,
 "nbformat_minor": 4
}
