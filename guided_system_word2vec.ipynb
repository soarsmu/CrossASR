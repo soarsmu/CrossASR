{
 "cells": [
  {
   "cell_type": "markdown",
   "metadata": {},
   "source": [
    "# Guided Test Case Generation System Notebook"
   ]
  },
  {
   "cell_type": "code",
   "execution_count": 3,
   "metadata": {},
   "outputs": [],
   "source": [
    "# Basic libraries\n",
    "import os, sys\n",
    "import numpy as np\n",
    "import re\n",
    "import string\n",
    "from datetime import datetime\n",
    "import math\n",
    "import pandas as pd\n",
    "\n",
    "import utils\n",
    "\n",
    "import matplotlib.pyplot as plt\n",
    "import seaborn as sns\n",
    "%matplotlib inline\n",
    "\n",
    "\n",
    "# Speech\n",
    "import soundfile as sf # pip install pysoundfile\n",
    "import python_speech_features as speech_lib # pip install python_speech_features\n",
    "\n",
    "\n",
    "# Machine learning\n",
    "import nltk\n",
    "import xgboost\n",
    "from sklearn.utils import shuffle\n",
    "from sklearn.base import clone as clone_model\n",
    "from sklearn.utils import resample\n",
    "from sklearn.naive_bayes import GaussianNB\n",
    "from sklearn.neural_network import MLPClassifier\n",
    "from sklearn.linear_model import LogisticRegression\n",
    "from sklearn.svm import SVC\n",
    "from sklearn.naive_bayes import MultinomialNB\n",
    "from sklearn.tree import DecisionTreeClassifier\n",
    "from sklearn.neighbors import KNeighborsClassifier\n",
    "from sklearn.ensemble import RandomForestClassifier\n",
    "from sklearn.ensemble import AdaBoostClassifier\n",
    "from sklearn.ensemble import BaggingClassifier\n",
    "from sklearn.ensemble import ExtraTreesClassifier\n",
    "from sklearn.metrics import classification_report, confusion_matrix, accuracy_score, precision_score, recall_score, f1_score\n",
    "\n",
    "import joblib\n",
    "\n",
    "import tensorflow as tf\n",
    "\n",
    "\n",
    "%load_ext autoreload\n",
    "%autoreload 2\n",
    "np.set_printoptions(precision=4)"
   ]
  },
  {
   "cell_type": "markdown",
   "metadata": {},
   "source": [
    "### Read Data"
   ]
  },
  {
   "cell_type": "code",
   "execution_count": 4,
   "metadata": {},
   "outputs": [],
   "source": [
    "DEEPSPEECH = \"deepspeech\"\n",
    "ALEXA = \"alexa\"\n",
    "GCLOUD = \"gcloud\"\n",
    "CHROMESPEECH = \"gspeech\"\n",
    "WIT = \"wit\"\n",
    "WAV2LETTER = \"wav2letter\"\n",
    "PADDLEDEEPSPEECH = \"paddledeepspeech\"\n",
    "SR = [DEEPSPEECH, WIT, WAV2LETTER, PADDLEDEEPSPEECH]\n",
    "\n",
    "df = {}\n",
    "for sr in SR :\n",
    "    df[sr] = utils.read_data(\"training_data/\" + sr + \".txt\")\n"
   ]
  },
  {
   "cell_type": "code",
   "execution_count": 5,
   "metadata": {},
   "outputs": [
    {
     "data": {
      "text/html": [
       "<div>\n",
       "<style scoped>\n",
       "    .dataframe tbody tr th:only-of-type {\n",
       "        vertical-align: middle;\n",
       "    }\n",
       "\n",
       "    .dataframe tbody tr th {\n",
       "        vertical-align: top;\n",
       "    }\n",
       "\n",
       "    .dataframe thead th {\n",
       "        text-align: right;\n",
       "    }\n",
       "</style>\n",
       "<table border=\"1\" class=\"dataframe\">\n",
       "  <thead>\n",
       "    <tr style=\"text-align: right;\">\n",
       "      <th></th>\n",
       "      <th>sentence</th>\n",
       "    </tr>\n",
       "  </thead>\n",
       "  <tbody>\n",
       "    <tr>\n",
       "      <th>0</th>\n",
       "      <td></td>\n",
       "    </tr>\n",
       "  </tbody>\n",
       "</table>\n",
       "</div>"
      ],
      "text/plain": [
       "  sentence\n",
       "0         "
      ]
     },
     "execution_count": 5,
     "metadata": {},
     "output_type": "execute_result"
    }
   ],
   "source": [
    "d = pd.DataFrame([\"\"], columns=[\"sentence\"])\n",
    "d"
   ]
  },
  {
   "cell_type": "code",
   "execution_count": 17,
   "metadata": {},
   "outputs": [
    {
     "name": "stdout",
     "output_type": "stream",
     "text": [
      "['.DS_Store', 'paddledeepspeech.txt', 'wav2letter.txt', 'deepspeech.txt', 'wit.txt']\n",
      "training_data/paddledeepspeech.txt\n",
      "training_data/wav2letter.txt\n",
      "training_data/deepspeech.txt\n",
      "training_data/wit.txt\n"
     ]
    }
   ],
   "source": [
    "data = \"europarl-parallel-corpus-19962011/\"\n",
    "data = \"training_data/\"\n",
    "\n",
    "df = pd.DataFrame([\"\"], columns=[\"sentence\"])\n",
    "for (dirpath, _, filenames) in os.walk(data):\n",
    "    print(filenames)\n",
    "    for f in filenames :\n",
    "        if \"txt\" in f :\n",
    "            fpath = data + f\n",
    "            print(fpath)\n",
    "#             d = pd.read_csv(fpath, delimiter=',', columns=[\"sentence\", \"label\"])\n",
    "            d = utils.read_data(fpath)\n",
    "            df = pd.concat([df[\"sentence\"], d[\"sentence\"]])\n",
    "            df = pd.DataFrame(df, columns=[\"sentence\"])\n",
    "            \n",
    "df.to_csv(\"corpus/coba.txt\", index=False)"
   ]
  },
  {
   "cell_type": "code",
   "execution_count": 18,
   "metadata": {},
   "outputs": [
    {
     "data": {
      "text/html": [
       "<div>\n",
       "<style scoped>\n",
       "    .dataframe tbody tr th:only-of-type {\n",
       "        vertical-align: middle;\n",
       "    }\n",
       "\n",
       "    .dataframe tbody tr th {\n",
       "        vertical-align: top;\n",
       "    }\n",
       "\n",
       "    .dataframe thead th {\n",
       "        text-align: right;\n",
       "    }\n",
       "</style>\n",
       "<table border=\"1\" class=\"dataframe\">\n",
       "  <thead>\n",
       "    <tr style=\"text-align: right;\">\n",
       "      <th></th>\n",
       "      <th>sentence</th>\n",
       "    </tr>\n",
       "  </thead>\n",
       "  <tbody>\n",
       "    <tr>\n",
       "      <th>0</th>\n",
       "      <td></td>\n",
       "    </tr>\n",
       "    <tr>\n",
       "      <th>0</th>\n",
       "      <td>resumption of the session</td>\n",
       "    </tr>\n",
       "    <tr>\n",
       "      <th>1</th>\n",
       "      <td>i declare resumed the session of the european ...</td>\n",
       "    </tr>\n",
       "    <tr>\n",
       "      <th>2</th>\n",
       "      <td>although as you will have seen the dreaded mil...</td>\n",
       "    </tr>\n",
       "    <tr>\n",
       "      <th>3</th>\n",
       "      <td>you have requested a debate on this subject in...</td>\n",
       "    </tr>\n",
       "    <tr>\n",
       "      <th>...</th>\n",
       "      <td>...</td>\n",
       "    </tr>\n",
       "    <tr>\n",
       "      <th>995</th>\n",
       "      <td>the commission is in fact retaining not only t...</td>\n",
       "    </tr>\n",
       "    <tr>\n",
       "      <th>996</th>\n",
       "      <td>national states would thus become the secular ...</td>\n",
       "    </tr>\n",
       "    <tr>\n",
       "      <th>997</th>\n",
       "      <td>in conclusion i would say that while some meas...</td>\n",
       "    </tr>\n",
       "    <tr>\n",
       "      <th>998</th>\n",
       "      <td>mr president commissioner we have a basically ...</td>\n",
       "    </tr>\n",
       "    <tr>\n",
       "      <th>999</th>\n",
       "      <td>first of all there is a risk that the decentra...</td>\n",
       "    </tr>\n",
       "  </tbody>\n",
       "</table>\n",
       "<p>4001 rows × 1 columns</p>\n",
       "</div>"
      ],
      "text/plain": [
       "                                              sentence\n",
       "0                                                     \n",
       "0                            resumption of the session\n",
       "1    i declare resumed the session of the european ...\n",
       "2    although as you will have seen the dreaded mil...\n",
       "3    you have requested a debate on this subject in...\n",
       "..                                                 ...\n",
       "995  the commission is in fact retaining not only t...\n",
       "996  national states would thus become the secular ...\n",
       "997  in conclusion i would say that while some meas...\n",
       "998  mr president commissioner we have a basically ...\n",
       "999  first of all there is a risk that the decentra...\n",
       "\n",
       "[4001 rows x 1 columns]"
      ]
     },
     "execution_count": 18,
     "metadata": {},
     "output_type": "execute_result"
    }
   ],
   "source": [
    "df"
   ]
  },
  {
   "cell_type": "code",
   "execution_count": 20,
   "metadata": {},
   "outputs": [
    {
     "data": {
      "text/plain": [
       "0       in many ways the prerequisites differ from one...\n",
       "1       should flexibility of this kind result in ther...\n",
       "2       there has therefore been enough time for the c...\n",
       "3       this process will continue in accordance with ...\n",
       "4       the commission must track down the illegal aid...\n",
       "                              ...                        \n",
       "3996    mr president commissioner i would like to than...\n",
       "3997    this is especially necessary in relation to th...\n",
       "3998    by stimulating a diversity of investments the ...\n",
       "3999    commissioner we shall continue to raise the is...\n",
       "4000    two of the amendments tabled and adopted unani...\n",
       "Name: sentence, Length: 4001, dtype: object"
      ]
     },
     "execution_count": 20,
     "metadata": {},
     "output_type": "execute_result"
    }
   ],
   "source": [
    "df = df.reset_index(drop=True)\n",
    "d = df[\"sentence\"]\n",
    "np.random.shuffle(d)\n",
    "d"
   ]
  },
  {
   "cell_type": "code",
   "execution_count": 22,
   "metadata": {},
   "outputs": [
    {
     "data": {
      "text/plain": [
       "'all the same we must not content ourselves with enacting european law to ensure greater safety'"
      ]
     },
     "execution_count": 22,
     "metadata": {},
     "output_type": "execute_result"
    }
   ],
   "source": [
    "np.random.shuffle(d)\n",
    "d[0]"
   ]
  },
  {
   "cell_type": "code",
   "execution_count": 52,
   "metadata": {},
   "outputs": [],
   "source": [
    "d = pd.DataFrame([\"\"], columns=[\"sentence\"])\n",
    "\n",
    "# d = pd.concat([df[DEEPSPEECH][\"sentence\"], df[DEEPSPEECH][\"sentence\"]])\n",
    "for sr in SR :\n",
    "    d = pd.concat([df[sr][\"sentence\"], d[\"sentence\"]])\n",
    "    d = pd.DataFrame(d, columns=[\"sentence\"])"
   ]
  },
  {
   "cell_type": "code",
   "execution_count": 54,
   "metadata": {},
   "outputs": [
    {
     "data": {
      "text/html": [
       "<div>\n",
       "<style scoped>\n",
       "    .dataframe tbody tr th:only-of-type {\n",
       "        vertical-align: middle;\n",
       "    }\n",
       "\n",
       "    .dataframe tbody tr th {\n",
       "        vertical-align: top;\n",
       "    }\n",
       "\n",
       "    .dataframe thead th {\n",
       "        text-align: right;\n",
       "    }\n",
       "</style>\n",
       "<table border=\"1\" class=\"dataframe\">\n",
       "  <thead>\n",
       "    <tr style=\"text-align: right;\">\n",
       "      <th></th>\n",
       "      <th>sentence</th>\n",
       "    </tr>\n",
       "  </thead>\n",
       "  <tbody>\n",
       "    <tr>\n",
       "      <th>0</th>\n",
       "      <td>resumption of the session</td>\n",
       "    </tr>\n",
       "    <tr>\n",
       "      <th>1</th>\n",
       "      <td>i declare resumed the session of the european ...</td>\n",
       "    </tr>\n",
       "    <tr>\n",
       "      <th>2</th>\n",
       "      <td>although as you will have seen the dreaded mil...</td>\n",
       "    </tr>\n",
       "    <tr>\n",
       "      <th>3</th>\n",
       "      <td>you have requested a debate on this subject in...</td>\n",
       "    </tr>\n",
       "    <tr>\n",
       "      <th>4</th>\n",
       "      <td>in the meantime i should like to observe a min...</td>\n",
       "    </tr>\n",
       "    <tr>\n",
       "      <th>...</th>\n",
       "      <td>...</td>\n",
       "    </tr>\n",
       "    <tr>\n",
       "      <th>3996</th>\n",
       "      <td>national states would thus become the secular ...</td>\n",
       "    </tr>\n",
       "    <tr>\n",
       "      <th>3997</th>\n",
       "      <td>in conclusion i would say that while some meas...</td>\n",
       "    </tr>\n",
       "    <tr>\n",
       "      <th>3998</th>\n",
       "      <td>mr president commissioner we have a basically ...</td>\n",
       "    </tr>\n",
       "    <tr>\n",
       "      <th>3999</th>\n",
       "      <td>first of all there is a risk that the decentra...</td>\n",
       "    </tr>\n",
       "    <tr>\n",
       "      <th>4000</th>\n",
       "      <td></td>\n",
       "    </tr>\n",
       "  </tbody>\n",
       "</table>\n",
       "<p>4001 rows × 1 columns</p>\n",
       "</div>"
      ],
      "text/plain": [
       "                                               sentence\n",
       "0                             resumption of the session\n",
       "1     i declare resumed the session of the european ...\n",
       "2     although as you will have seen the dreaded mil...\n",
       "3     you have requested a debate on this subject in...\n",
       "4     in the meantime i should like to observe a min...\n",
       "...                                                 ...\n",
       "3996  national states would thus become the secular ...\n",
       "3997  in conclusion i would say that while some meas...\n",
       "3998  mr president commissioner we have a basically ...\n",
       "3999  first of all there is a risk that the decentra...\n",
       "4000                                                   \n",
       "\n",
       "[4001 rows x 1 columns]"
      ]
     },
     "execution_count": 54,
     "metadata": {},
     "output_type": "execute_result"
    }
   ],
   "source": [
    "d.reset_index(drop=True)"
   ]
  },
  {
   "cell_type": "code",
   "execution_count": 51,
   "metadata": {},
   "outputs": [
    {
     "data": {
      "text/html": [
       "<div>\n",
       "<style scoped>\n",
       "    .dataframe tbody tr th:only-of-type {\n",
       "        vertical-align: middle;\n",
       "    }\n",
       "\n",
       "    .dataframe tbody tr th {\n",
       "        vertical-align: top;\n",
       "    }\n",
       "\n",
       "    .dataframe thead th {\n",
       "        text-align: right;\n",
       "    }\n",
       "</style>\n",
       "<table border=\"1\" class=\"dataframe\">\n",
       "  <thead>\n",
       "    <tr style=\"text-align: right;\">\n",
       "      <th></th>\n",
       "      <th>sentence</th>\n",
       "      <th>label</th>\n",
       "    </tr>\n",
       "  </thead>\n",
       "  <tbody>\n",
       "    <tr>\n",
       "      <th>0</th>\n",
       "      <td>resumption of the session</td>\n",
       "      <td>1</td>\n",
       "    </tr>\n",
       "    <tr>\n",
       "      <th>1</th>\n",
       "      <td>i declare resumed the session of the european ...</td>\n",
       "      <td>0</td>\n",
       "    </tr>\n",
       "    <tr>\n",
       "      <th>2</th>\n",
       "      <td>although as you will have seen the dreaded mil...</td>\n",
       "      <td>1</td>\n",
       "    </tr>\n",
       "    <tr>\n",
       "      <th>3</th>\n",
       "      <td>you have requested a debate on this subject in...</td>\n",
       "      <td>1</td>\n",
       "    </tr>\n",
       "    <tr>\n",
       "      <th>4</th>\n",
       "      <td>in the meantime i should like to observe a min...</td>\n",
       "      <td>0</td>\n",
       "    </tr>\n",
       "  </tbody>\n",
       "</table>\n",
       "</div>"
      ],
      "text/plain": [
       "                                            sentence  label\n",
       "0                          resumption of the session      1\n",
       "1  i declare resumed the session of the european ...      0\n",
       "2  although as you will have seen the dreaded mil...      1\n",
       "3  you have requested a debate on this subject in...      1\n",
       "4  in the meantime i should like to observe a min...      0"
      ]
     },
     "execution_count": 51,
     "metadata": {},
     "output_type": "execute_result"
    }
   ],
   "source": [
    "df[DEEPSPEECH].head()"
   ]
  },
  {
   "cell_type": "code",
   "execution_count": 10,
   "metadata": {},
   "outputs": [
    {
     "data": {
      "text/plain": [
       "<matplotlib.axes._subplots.AxesSubplot at 0x13253b710>"
      ]
     },
     "execution_count": 10,
     "metadata": {},
     "output_type": "execute_result"
    },
    {
     "data": {
      "image/png": "[encoded data removed]",
      "text/plain": [
       "<Figure size 432x288 with 1 Axes>"
      ]
     },
     "metadata": {
      "needs_background": "light"
     },
     "output_type": "display_data"
    }
   ],
   "source": [
    "df[WIT][\"label\"].hist()"
   ]
  },
  {
   "cell_type": "markdown",
   "metadata": {},
   "source": [
    "### Data distribution"
   ]
  },
  {
   "cell_type": "code",
   "execution_count": 11,
   "metadata": {},
   "outputs": [
    {
     "name": "stdout",
     "output_type": "stream",
     "text": [
      "\n",
      "\n",
      "\n",
      "\n",
      "deepspeech\n"
     ]
    },
    {
     "data": {
      "image/png": "[encoded data removed]",
      "text/plain": [
       "<Figure size 432x432 with 1 Axes>"
      ]
     },
     "metadata": {},
     "output_type": "display_data"
    },
    {
     "name": "stdout",
     "output_type": "stream",
     "text": [
      "\n",
      "\n",
      "\n",
      "\n",
      "wit\n"
     ]
    },
    {
     "data": {
      "image/png": "[encoded data removed]",
      "text/plain": [
       "<Figure size 432x432 with 1 Axes>"
      ]
     },
     "metadata": {},
     "output_type": "display_data"
    },
    {
     "name": "stdout",
     "output_type": "stream",
     "text": [
      "\n",
      "\n",
      "\n",
      "\n",
      "wav2letter\n"
     ]
    },
    {
     "data": {
      "image/png": "[encoded data removed]",
      "text/plain": [
       "<Figure size 432x432 with 1 Axes>"
      ]
     },
     "metadata": {},
     "output_type": "display_data"
    },
    {
     "name": "stdout",
     "output_type": "stream",
     "text": [
      "\n",
      "\n",
      "\n",
      "\n",
      "paddledeepspeech\n"
     ]
    },
    {
     "data": {
      "image/png": "[encoded data removed]",
      "text/plain": [
       "<Figure size 432x432 with 1 Axes>"
      ]
     },
     "metadata": {},
     "output_type": "display_data"
    }
   ],
   "source": [
    "for key in df.keys() :\n",
    "    print(\"\\n\\n\\n\")\n",
    "    print(key)\n",
    "    # print(df[key].groupby(\"label\").describe())\n",
    "    df[key][\"label\"].value_counts().plot(kind = 'pie', explode = [0.1, 0.1, 0.1], figsize = (6, 6), autopct = '%1.1f%%', shadow = True)\n",
    "    plt.ylabel(\"Data Distibution\")\n",
    "    plt.legend([\"Undetermined Case\", \"Success Test Case\", \"Fail Test Case\"])\n",
    "    plt.show()"
   ]
  },
  {
   "cell_type": "markdown",
   "metadata": {},
   "source": [
    "we need to handle imbalance data"
   ]
  },
  {
   "cell_type": "markdown",
   "metadata": {},
   "source": [
    "### Handle Imbalance Data"
   ]
  },
  {
   "cell_type": "code",
   "execution_count": 7,
   "metadata": {},
   "outputs": [
    {
     "name": "stdout",
     "output_type": "stream",
     "text": [
      "Resample Size: 7362\n"
     ]
    },
    {
     "data": {
      "image/png": "[encoded data removed]",
      "text/plain": [
       "<Figure size 432x432 with 1 Axes>"
      ]
     },
     "metadata": {},
     "output_type": "display_data"
    }
   ],
   "source": [
    "RESAMPLE_SIZE = utils.getResampleSize(df)\n",
    "print(\"Resample Size: %d\" % RESAMPLE_SIZE)\n",
    "\n",
    "sample = utils.resampleToFixNumber(df[\"deepspeech\"], RESAMPLE_SIZE)\n",
    "sample[\"label\"].value_counts().plot(kind = 'pie', explode = [0.1, 0.1, 0.1], figsize = (6, 6), autopct = '%1.1f%%', shadow = True)\n",
    "plt.ylabel(\"Data Distibution\")\n",
    "plt.legend([\"Undetermined Label\", \"Non-Bug\", \"Bug\"])\n",
    "plt.show()"
   ]
  },
  {
   "cell_type": "markdown",
   "metadata": {},
   "source": [
    "### Feature Extraction"
   ]
  },
  {
   "cell_type": "code",
   "execution_count": 8,
   "metadata": {},
   "outputs": [],
   "source": [
    "NUM_CORES = 4\n",
    "EMBEDDING_SIZE = 13"
   ]
  },
  {
   "cell_type": "code",
   "execution_count": 9,
   "metadata": {},
   "outputs": [],
   "source": [
    "from gensim.models import Word2Vec\n",
    "\n",
    "corpus_sentence = pd.read_csv('corpus-sentence.txt', sep=\",\", header=None)\n",
    "corpus_sentence.columns = [\"sentence\"]\n",
    "tokenized_corpus = list(corpus_sentence['sentence'].apply(utils.text_process))\n",
    "\n",
    "w2v_model = Word2Vec(\n",
    "    sentences=tokenized_corpus,\n",
    "    size=EMBEDDING_SIZE,\n",
    "    min_count=1,\n",
    "    window=5,\n",
    "    workers=NUM_CORES,\n",
    "    seed=1337\n",
    ")\n",
    "\n",
    "w2v_model.save(\"model/word2vec.model\")\n",
    "\n",
    "# Show that similar words to 'program' print\n",
    "# w2v_model.wv.most_similar(positive='program')\n",
    "\n",
    "# Encode the documents using the new embedding\n",
    "encoded_docs = [[w2v_model.wv[word] for word in sentence] for sentence in tokenized_corpus]"
   ]
  },
  {
   "cell_type": "markdown",
   "metadata": {},
   "source": [
    "### Length variation on each sentence"
   ]
  },
  {
   "cell_type": "code",
   "execution_count": 10,
   "metadata": {},
   "outputs": [
    {
     "name": "stdout",
     "output_type": "stream",
     "text": [
      "42\n",
      "40\n"
     ]
    }
   ],
   "source": [
    "print(len(encoded_docs[0]))\n",
    "print(len(encoded_docs[1])) \n",
    "# print(encoded_docs[0]) "
   ]
  },
  {
   "cell_type": "code",
   "execution_count": 11,
   "metadata": {},
   "outputs": [
    {
     "data": {
      "text/plain": [
       "75"
      ]
     },
     "execution_count": 11,
     "metadata": {},
     "output_type": "execute_result"
    }
   ],
   "source": [
    "def max_length_sentence_from_corpus(encoded_docs):\n",
    "    max = 0\n",
    "    for encoded_sentence in encoded_docs :\n",
    "        if (len(encoded_sentence) > max) :\n",
    "            max = len(encoded_sentence)\n",
    "    return max\n",
    "\n",
    "\n",
    "MAX_LENGTH = max_length_sentence_from_corpus(encoded_docs)\n",
    "MAX_LENGTH"
   ]
  },
  {
   "cell_type": "code",
   "execution_count": 12,
   "metadata": {},
   "outputs": [],
   "source": [
    "# because the length of each sentence is various \n",
    "# and we use non-sequential machine learning model\n",
    "# we need to make padding for each sentences\n",
    "def create_padding_on_sentence(encoded_docs) :\n",
    "    padded_posts = []\n",
    "\n",
    "    for post in encoded_docs:\n",
    "\n",
    "        # Pad short posts with alternating min/max\n",
    "        if len(post) < MAX_LENGTH:\n",
    "\n",
    "            padding_size = MAX_LENGTH - len(post)\n",
    "\n",
    "            for _ in range(0, padding_size) :\n",
    "                post.append(np.zeros((EMBEDDING_SIZE)))\n",
    "\n",
    "\n",
    "        # Shorten long posts or those odd number length posts we padded to MAX_LENGTH\n",
    "        if len(post) > MAX_LENGTH:\n",
    "            post = post[:MAX_LENGTH]\n",
    "\n",
    "        # Add the post to our new list of padded posts\n",
    "        padded_posts.append(post)\n",
    "    \n",
    "    return padded_posts"
   ]
  },
  {
   "cell_type": "code",
   "execution_count": 13,
   "metadata": {},
   "outputs": [],
   "source": [
    "def flatten_docs(padded_docs) :\n",
    "    flatten = []\n",
    "    for sentence in padded_docs:\n",
    "        ps = []\n",
    "        for word in sentence :\n",
    "            for feature in word :\n",
    "                ps.append(feature)\n",
    "        flatten.append(ps)\n",
    "    return np.asarray(flatten)"
   ]
  },
  {
   "cell_type": "code",
   "execution_count": 14,
   "metadata": {},
   "outputs": [],
   "source": [
    "temp_data = utils.resampleToFixNumber(df[\"deepspeech\"], RESAMPLE_SIZE)\n",
    "temp_data = utils.shuffle_data(temp_data)"
   ]
  },
  {
   "cell_type": "code",
   "execution_count": 15,
   "metadata": {},
   "outputs": [
    {
     "data": {
      "text/html": [
       "<div>\n",
       "<style scoped>\n",
       "    .dataframe tbody tr th:only-of-type {\n",
       "        vertical-align: middle;\n",
       "    }\n",
       "\n",
       "    .dataframe tbody tr th {\n",
       "        vertical-align: top;\n",
       "    }\n",
       "\n",
       "    .dataframe thead th {\n",
       "        text-align: right;\n",
       "    }\n",
       "</style>\n",
       "<table border=\"1\" class=\"dataframe\">\n",
       "  <thead>\n",
       "    <tr style=\"text-align: right;\">\n",
       "      <th></th>\n",
       "      <th>sentence</th>\n",
       "      <th>label</th>\n",
       "    </tr>\n",
       "  </thead>\n",
       "  <tbody>\n",
       "    <tr>\n",
       "      <th>0</th>\n",
       "      <td>chapter seven going to nome one beautiful day ...</td>\n",
       "      <td>-1</td>\n",
       "    </tr>\n",
       "    <tr>\n",
       "      <th>1</th>\n",
       "      <td>don't be ugly and obstinate but think real har...</td>\n",
       "      <td>1</td>\n",
       "    </tr>\n",
       "    <tr>\n",
       "      <th>2</th>\n",
       "      <td>which had become perfectly level had the appea...</td>\n",
       "      <td>-1</td>\n",
       "    </tr>\n",
       "    <tr>\n",
       "      <th>3</th>\n",
       "      <td>has been wickedly deserted on the desert coast...</td>\n",
       "      <td>1</td>\n",
       "    </tr>\n",
       "    <tr>\n",
       "      <th>4</th>\n",
       "      <td>and no measure for the deep waters neither is ...</td>\n",
       "      <td>1</td>\n",
       "    </tr>\n",
       "  </tbody>\n",
       "</table>\n",
       "</div>"
      ],
      "text/plain": [
       "                                            sentence  label\n",
       "0  chapter seven going to nome one beautiful day ...     -1\n",
       "1  don't be ugly and obstinate but think real har...      1\n",
       "2  which had become perfectly level had the appea...     -1\n",
       "3  has been wickedly deserted on the desert coast...      1\n",
       "4  and no measure for the deep waters neither is ...      1"
      ]
     },
     "execution_count": 15,
     "metadata": {},
     "output_type": "execute_result"
    }
   ],
   "source": [
    "temp_data.head()"
   ]
  },
  {
   "cell_type": "code",
   "execution_count": 16,
   "metadata": {},
   "outputs": [],
   "source": [
    "def extract_feature(docs) :\n",
    "    tokenized_sentences = docs.apply(utils.text_process)\n",
    "    encoded_docs = [[w2v_model.wv[word] for word in sentence] for sentence in tokenized_sentences]\n",
    "    padded_docs = create_padding_on_sentence(encoded_docs)\n",
    "    flatten_array = flatten_docs(padded_docs)\n",
    "    return flatten_array"
   ]
  },
  {
   "cell_type": "code",
   "execution_count": 17,
   "metadata": {},
   "outputs": [
    {
     "data": {
      "text/plain": [
       "'chapter seven going to nome one beautiful day in the spring of nineteen hundred i sailed again for alaska this time for nome from san francisco'"
      ]
     },
     "execution_count": 17,
     "metadata": {},
     "output_type": "execute_result"
    }
   ],
   "source": [
    "temp_data[\"sentence\"][0]"
   ]
  },
  {
   "cell_type": "code",
   "execution_count": 18,
   "metadata": {},
   "outputs": [],
   "source": [
    "flatten_array = extract_feature(temp_data['sentence'])"
   ]
  },
  {
   "cell_type": "code",
   "execution_count": 19,
   "metadata": {},
   "outputs": [],
   "source": [
    "# flatten_array[0]"
   ]
  },
  {
   "cell_type": "code",
   "execution_count": 20,
   "metadata": {},
   "outputs": [],
   "source": [
    "# https://www.kaggle.com/reiinakano/basic-nlp-bag-of-words-tf-idf-word2vec-lstm\n",
    "\n",
    "from sklearn.model_selection import cross_val_score\n",
    "from sklearn.model_selection import StratifiedKFold\n",
    "from sklearn.model_selection import train_test_split\n",
    "\n",
    "def evaluate_features(X, y, clf=None):\n",
    "    \"\"\"General helper function for evaluating effectiveness of passed features in ML model\n",
    "    \n",
    "    Prints out Log loss, accuracy, and confusion matrix with 3-fold stratified cross-validation\n",
    "    \n",
    "    Args:\n",
    "        X (array-like): Features array. Shape (n_samples, n_features)\n",
    "        \n",
    "        y (array-like): Labels array. Shape (n_samples,)\n",
    "        \n",
    "        clf: Classifier to use. If None, default Log reg is use.\n",
    "    \"\"\"\n",
    "    if clf is None:\n",
    "        clf = RandomForestClassifier(n_estimators=31, random_state=111)\n",
    "\n",
    "    \n",
    "    score = cross_val_score(clf, X, y, cv=StratifiedKFold(n_splits=5, random_state=8,shuffle=True), n_jobs=2, verbose=2)\n",
    "    return np.mean(score)"
   ]
  },
  {
   "cell_type": "code",
   "execution_count": null,
   "metadata": {},
   "outputs": [],
   "source": [
    "evaluate_features(flatten_array, temp_data[\"label\"])"
   ]
  },
  {
   "cell_type": "markdown",
   "metadata": {},
   "source": [
    "## Experiment"
   ]
  },
  {
   "cell_type": "markdown",
   "metadata": {},
   "source": [
    "### Prepare Model"
   ]
  },
  {
   "cell_type": "code",
   "execution_count": 21,
   "metadata": {},
   "outputs": [],
   "source": [
    "N_JOBS = 4\n",
    "\n",
    "svc = SVC(kernel='sigmoid', gamma=1.0)\n",
    "knc = KNeighborsClassifier(n_neighbors=10)\n",
    "mnb = MultinomialNB(alpha=0.2)\n",
    "dtc = DecisionTreeClassifier(min_samples_split=7, random_state=111)\n",
    "lrc = LogisticRegression(solver='lbfgs', n_jobs=N_JOBS)\n",
    "rfc = RandomForestClassifier(n_estimators=31, random_state=111, n_jobs=N_JOBS)\n",
    "abc = AdaBoostClassifier(n_estimators=31, random_state=111)\n",
    "bc = BaggingClassifier(n_estimators=10, random_state=111, n_jobs=N_JOBS)\n",
    "etc = ExtraTreesClassifier(n_estimators=10, random_state=111, n_jobs=N_JOBS)\n",
    "xgb = xgboost.XGBClassifier(max_depth=50, n_estimators=80, learning_rate=0.1, colsample_bytree=.7, gamma=0, reg_alpha=4, objective='binary:logistic', eta=0.3, silent=1, subsample=0.8)"
   ]
  },
  {
   "cell_type": "code",
   "execution_count": 22,
   "metadata": {},
   "outputs": [],
   "source": [
    "clfs = {'SVC' : svc,'KN' : knc, 'DT': dtc, 'LR': lrc, 'RF': rfc, 'AdaBoost': abc, 'BgC': bc, 'ETC': etc }"
   ]
  },
  {
   "cell_type": "markdown",
   "metadata": {},
   "source": [
    "### Model Evaluation"
   ]
  },
  {
   "cell_type": "code",
   "execution_count": 23,
   "metadata": {},
   "outputs": [],
   "source": [
    "features = {}\n",
    "labels = {}\n",
    "for k,v in df.items() :\n",
    "    data = utils.resampleToFixNumber(v, RESAMPLE_SIZE)\n",
    "    features[k] = extract_feature(data[\"sentence\"])\n",
    "    labels[k] = data[\"label\"]"
   ]
  },
  {
   "cell_type": "markdown",
   "metadata": {},
   "source": [
    "#### Performance"
   ]
  },
  {
   "cell_type": "code",
   "execution_count": null,
   "metadata": {},
   "outputs": [],
   "source": [
    "for clf_name, clf in clfs.items() :\n",
    "    accuracy = []\n",
    "    for k,v in df.items() :\n",
    "        acc = evaluate_features(features[k], labels[k], clf)\n",
    "        accuracy.append(acc)\n",
    "\n",
    "    print('Average accuracy %s: %.2f' % (clf_name, np.mean(accuracy)))"
   ]
  },
  {
   "cell_type": "markdown",
   "metadata": {},
   "source": [
    "### Trying Model in the First Batch"
   ]
  },
  {
   "cell_type": "code",
   "execution_count": 24,
   "metadata": {},
   "outputs": [],
   "source": [
    "def train_classifier(clf, feature_train, labels_train):    \n",
    "    clf.fit(feature_train, labels_train)\n",
    "    \n",
    "def predict_labels(clf, features):\n",
    "    return clf.predict(features)\n",
    "\n",
    "# intersection between 2 sets\n",
    "def intersection(lst1, lst2): \n",
    "    lst3 = [value for value in lst1 if value in lst2] \n",
    "    return lst3"
   ]
  },
  {
   "cell_type": "code",
   "execution_count": 25,
   "metadata": {},
   "outputs": [],
   "source": [
    "k = list(df.keys())[0]\n",
    "FIRST_BATCH_SIZE = math.ceil(len(df[k][\"label\"]) * 3 / 4 )\n",
    "BATCH_SIZE = math.ceil(len(df[k][\"label\"]) / 2 / 3)\n",
    "MAX_SIZE = len(df[k][\"label\"])\n",
    "\n",
    "features = {}\n",
    "labels = {}\n",
    "for k,v in df.items() :\n",
    "    data = v[:FIRST_BATCH_SIZE]\n",
    "    data = utils.resampleToFixNumber(data, RESAMPLE_SIZE)\n",
    "    features[k] = extract_feature(data[\"sentence\"])\n",
    "    labels[k] = data[\"label\"]"
   ]
  },
  {
   "cell_type": "code",
   "execution_count": 26,
   "metadata": {},
   "outputs": [],
   "source": [
    "models = {}\n",
    "# selected_clfs = [\"SVC\", \"KN\", \"NB\", \"DT\", \"LR\", \"RF\", \"AdaBoost\", \"BgC\", \"ETC\", \"XGB\"]\n",
    "# selected_clfs = [\"SVC\", \"KN\", \"NB\", \"DT\", \"LR\", \"AdaBoost\", \"XGB\"]\n",
    "selected_clfs = [\"RF\"]\n",
    "# selected_clfs = [\"KN\", \"DT\", \"LR\", \"RF\", \"AdaBoost\", \"ETC\"]\n",
    "for k in selected_clfs :\n",
    "    per_sr_model = {}\n",
    "    for key_sr in features.keys() :\n",
    "        model = None\n",
    "        model = clone_model(clfs[k])\n",
    "        train_classifier(model, features[key_sr], labels[key_sr])\n",
    "        per_sr_model[key_sr] = model\n",
    "    models[k] = per_sr_model\n",
    "    \n",
    "# for clf in models.keys() :\n",
    "#     for sr in models[clf].keys():\n",
    "#         filename = \"model/\" + clf + \"_\" + sr + \".sav\"\n",
    "#         joblib.dump(models[clf][sr], filename)"
   ]
  },
  {
   "cell_type": "markdown",
   "metadata": {},
   "source": [
    "### Trying Model for the Next Batch until Finish"
   ]
  },
  {
   "cell_type": "code",
   "execution_count": 27,
   "metadata": {},
   "outputs": [
    {
     "ename": "KeyboardInterrupt",
     "evalue": "",
     "output_type": "error",
     "traceback": [
      "\u001b[0;31m---------------------------------------------------------------------------\u001b[0m",
      "\u001b[0;31mKeyboardInterrupt\u001b[0m                         Traceback (most recent call last)",
      "\u001b[0;32m<ipython-input-27-b3a277365eaa>\u001b[0m in \u001b[0;36m<module>\u001b[0;34m\u001b[0m\n\u001b[1;32m     78\u001b[0m \u001b[0;34m\u001b[0m\u001b[0m\n\u001b[1;32m     79\u001b[0m                 \u001b[0;31m# re-extract feature\u001b[0m\u001b[0;34m\u001b[0m\u001b[0;34m\u001b[0m\u001b[0;34m\u001b[0m\u001b[0m\n\u001b[0;32m---> 80\u001b[0;31m                 \u001b[0mfeatures\u001b[0m\u001b[0;34m[\u001b[0m\u001b[0mkey_sr\u001b[0m\u001b[0;34m]\u001b[0m \u001b[0;34m=\u001b[0m \u001b[0mextract_feature\u001b[0m\u001b[0;34m(\u001b[0m\u001b[0mresampled_data\u001b[0m\u001b[0;34m[\u001b[0m\u001b[0;34m\"sentence\"\u001b[0m\u001b[0;34m]\u001b[0m\u001b[0;34m)\u001b[0m\u001b[0;34m\u001b[0m\u001b[0;34m\u001b[0m\u001b[0m\n\u001b[0m\u001b[1;32m     81\u001b[0m                 \u001b[0mlabels\u001b[0m\u001b[0;34m[\u001b[0m\u001b[0mkey_sr\u001b[0m\u001b[0;34m]\u001b[0m \u001b[0;34m=\u001b[0m \u001b[0mresampled_data\u001b[0m\u001b[0;34m[\u001b[0m\u001b[0;34m\"label\"\u001b[0m\u001b[0;34m]\u001b[0m\u001b[0;34m\u001b[0m\u001b[0;34m\u001b[0m\u001b[0m\n\u001b[1;32m     82\u001b[0m \u001b[0;34m\u001b[0m\u001b[0m\n",
      "\u001b[0;32m<ipython-input-16-5679080c6518>\u001b[0m in \u001b[0;36mextract_feature\u001b[0;34m(docs)\u001b[0m\n\u001b[1;32m      1\u001b[0m \u001b[0;32mdef\u001b[0m \u001b[0mextract_feature\u001b[0m\u001b[0;34m(\u001b[0m\u001b[0mdocs\u001b[0m\u001b[0;34m)\u001b[0m \u001b[0;34m:\u001b[0m\u001b[0;34m\u001b[0m\u001b[0;34m\u001b[0m\u001b[0m\n\u001b[1;32m      2\u001b[0m     \u001b[0mtokenized_sentences\u001b[0m \u001b[0;34m=\u001b[0m \u001b[0mdocs\u001b[0m\u001b[0;34m.\u001b[0m\u001b[0mapply\u001b[0m\u001b[0;34m(\u001b[0m\u001b[0mutils\u001b[0m\u001b[0;34m.\u001b[0m\u001b[0mtext_process\u001b[0m\u001b[0;34m)\u001b[0m\u001b[0;34m\u001b[0m\u001b[0;34m\u001b[0m\u001b[0m\n\u001b[0;32m----> 3\u001b[0;31m     \u001b[0mencoded_docs\u001b[0m \u001b[0;34m=\u001b[0m \u001b[0;34m[\u001b[0m\u001b[0;34m[\u001b[0m\u001b[0mw2v_model\u001b[0m\u001b[0;34m.\u001b[0m\u001b[0mwv\u001b[0m\u001b[0;34m[\u001b[0m\u001b[0mword\u001b[0m\u001b[0;34m]\u001b[0m \u001b[0;32mfor\u001b[0m \u001b[0mword\u001b[0m \u001b[0;32min\u001b[0m \u001b[0msentence\u001b[0m\u001b[0;34m]\u001b[0m \u001b[0;32mfor\u001b[0m \u001b[0msentence\u001b[0m \u001b[0;32min\u001b[0m \u001b[0mtokenized_sentences\u001b[0m\u001b[0;34m]\u001b[0m\u001b[0;34m\u001b[0m\u001b[0;34m\u001b[0m\u001b[0m\n\u001b[0m\u001b[1;32m      4\u001b[0m     \u001b[0mpadded_docs\u001b[0m \u001b[0;34m=\u001b[0m \u001b[0mcreate_padding_on_sentence\u001b[0m\u001b[0;34m(\u001b[0m\u001b[0mencoded_docs\u001b[0m\u001b[0;34m)\u001b[0m\u001b[0;34m\u001b[0m\u001b[0;34m\u001b[0m\u001b[0m\n\u001b[1;32m      5\u001b[0m     \u001b[0mflatten_array\u001b[0m \u001b[0;34m=\u001b[0m \u001b[0mflatten_docs\u001b[0m\u001b[0;34m(\u001b[0m\u001b[0mpadded_docs\u001b[0m\u001b[0;34m)\u001b[0m\u001b[0;34m\u001b[0m\u001b[0;34m\u001b[0m\u001b[0m\n",
      "\u001b[0;32m<ipython-input-16-5679080c6518>\u001b[0m in \u001b[0;36m<listcomp>\u001b[0;34m(.0)\u001b[0m\n\u001b[1;32m      1\u001b[0m \u001b[0;32mdef\u001b[0m \u001b[0mextract_feature\u001b[0m\u001b[0;34m(\u001b[0m\u001b[0mdocs\u001b[0m\u001b[0;34m)\u001b[0m \u001b[0;34m:\u001b[0m\u001b[0;34m\u001b[0m\u001b[0;34m\u001b[0m\u001b[0m\n\u001b[1;32m      2\u001b[0m     \u001b[0mtokenized_sentences\u001b[0m \u001b[0;34m=\u001b[0m \u001b[0mdocs\u001b[0m\u001b[0;34m.\u001b[0m\u001b[0mapply\u001b[0m\u001b[0;34m(\u001b[0m\u001b[0mutils\u001b[0m\u001b[0;34m.\u001b[0m\u001b[0mtext_process\u001b[0m\u001b[0;34m)\u001b[0m\u001b[0;34m\u001b[0m\u001b[0;34m\u001b[0m\u001b[0m\n\u001b[0;32m----> 3\u001b[0;31m     \u001b[0mencoded_docs\u001b[0m \u001b[0;34m=\u001b[0m \u001b[0;34m[\u001b[0m\u001b[0;34m[\u001b[0m\u001b[0mw2v_model\u001b[0m\u001b[0;34m.\u001b[0m\u001b[0mwv\u001b[0m\u001b[0;34m[\u001b[0m\u001b[0mword\u001b[0m\u001b[0;34m]\u001b[0m \u001b[0;32mfor\u001b[0m \u001b[0mword\u001b[0m \u001b[0;32min\u001b[0m \u001b[0msentence\u001b[0m\u001b[0;34m]\u001b[0m \u001b[0;32mfor\u001b[0m \u001b[0msentence\u001b[0m \u001b[0;32min\u001b[0m \u001b[0mtokenized_sentences\u001b[0m\u001b[0;34m]\u001b[0m\u001b[0;34m\u001b[0m\u001b[0;34m\u001b[0m\u001b[0m\n\u001b[0m\u001b[1;32m      4\u001b[0m     \u001b[0mpadded_docs\u001b[0m \u001b[0;34m=\u001b[0m \u001b[0mcreate_padding_on_sentence\u001b[0m\u001b[0;34m(\u001b[0m\u001b[0mencoded_docs\u001b[0m\u001b[0;34m)\u001b[0m\u001b[0;34m\u001b[0m\u001b[0;34m\u001b[0m\u001b[0m\n\u001b[1;32m      5\u001b[0m     \u001b[0mflatten_array\u001b[0m \u001b[0;34m=\u001b[0m \u001b[0mflatten_docs\u001b[0m\u001b[0;34m(\u001b[0m\u001b[0mpadded_docs\u001b[0m\u001b[0;34m)\u001b[0m\u001b[0;34m\u001b[0m\u001b[0;34m\u001b[0m\u001b[0m\n",
      "\u001b[0;32m<ipython-input-16-5679080c6518>\u001b[0m in \u001b[0;36m<listcomp>\u001b[0;34m(.0)\u001b[0m\n\u001b[1;32m      1\u001b[0m \u001b[0;32mdef\u001b[0m \u001b[0mextract_feature\u001b[0m\u001b[0;34m(\u001b[0m\u001b[0mdocs\u001b[0m\u001b[0;34m)\u001b[0m \u001b[0;34m:\u001b[0m\u001b[0;34m\u001b[0m\u001b[0;34m\u001b[0m\u001b[0m\n\u001b[1;32m      2\u001b[0m     \u001b[0mtokenized_sentences\u001b[0m \u001b[0;34m=\u001b[0m \u001b[0mdocs\u001b[0m\u001b[0;34m.\u001b[0m\u001b[0mapply\u001b[0m\u001b[0;34m(\u001b[0m\u001b[0mutils\u001b[0m\u001b[0;34m.\u001b[0m\u001b[0mtext_process\u001b[0m\u001b[0;34m)\u001b[0m\u001b[0;34m\u001b[0m\u001b[0;34m\u001b[0m\u001b[0m\n\u001b[0;32m----> 3\u001b[0;31m     \u001b[0mencoded_docs\u001b[0m \u001b[0;34m=\u001b[0m \u001b[0;34m[\u001b[0m\u001b[0;34m[\u001b[0m\u001b[0mw2v_model\u001b[0m\u001b[0;34m.\u001b[0m\u001b[0mwv\u001b[0m\u001b[0;34m[\u001b[0m\u001b[0mword\u001b[0m\u001b[0;34m]\u001b[0m \u001b[0;32mfor\u001b[0m \u001b[0mword\u001b[0m \u001b[0;32min\u001b[0m \u001b[0msentence\u001b[0m\u001b[0;34m]\u001b[0m \u001b[0;32mfor\u001b[0m \u001b[0msentence\u001b[0m \u001b[0;32min\u001b[0m \u001b[0mtokenized_sentences\u001b[0m\u001b[0;34m]\u001b[0m\u001b[0;34m\u001b[0m\u001b[0;34m\u001b[0m\u001b[0m\n\u001b[0m\u001b[1;32m      4\u001b[0m     \u001b[0mpadded_docs\u001b[0m \u001b[0;34m=\u001b[0m \u001b[0mcreate_padding_on_sentence\u001b[0m\u001b[0;34m(\u001b[0m\u001b[0mencoded_docs\u001b[0m\u001b[0;34m)\u001b[0m\u001b[0;34m\u001b[0m\u001b[0;34m\u001b[0m\u001b[0m\n\u001b[1;32m      5\u001b[0m     \u001b[0mflatten_array\u001b[0m \u001b[0;34m=\u001b[0m \u001b[0mflatten_docs\u001b[0m\u001b[0;34m(\u001b[0m\u001b[0mpadded_docs\u001b[0m\u001b[0;34m)\u001b[0m\u001b[0;34m\u001b[0m\u001b[0;34m\u001b[0m\u001b[0m\n",
      "\u001b[0;31mKeyboardInterrupt\u001b[0m: "
     ]
    }
   ],
   "source": [
    "performance_writer = open(\n",
    "        \"performance/word2vec_\" + str(datetime.now()) + \".txt\", \"w+\")\n",
    "\n",
    "\n",
    "for key_clf, v in models.items() :\n",
    "    # classify the selected data\n",
    "    training_data = {}\n",
    "    for key_sr, model in v.items():\n",
    "        training_data[key_sr] = df[key_sr][:FIRST_BATCH_SIZE]\n",
    "\n",
    "    lower_bound = FIRST_BATCH_SIZE\n",
    "\n",
    "    columns = [\"True\", \"Positive\", \"TP\", \"Precision\", \"Recall\", \"F1\"]\n",
    "    index = []\n",
    "    performance_data = []\n",
    "\n",
    "    while (lower_bound < MAX_SIZE) :\n",
    "        # set the upper bound size\n",
    "        upper_bound = lower_bound + BATCH_SIZE\n",
    "        if (upper_bound > MAX_SIZE) :\n",
    "            upper_bound = MAX_SIZE\n",
    "        batch = str(lower_bound) + \" - \" + str(upper_bound)\n",
    "        index.append(batch)\n",
    "            \n",
    "        \n",
    "        df_per_batch = {}\n",
    "            \n",
    "        for key_sr, model in v.items():\n",
    "            # get the data to be selected\n",
    "            current_data = df[key_sr][lower_bound:upper_bound]\n",
    "            \n",
    "            # get the feature and label\n",
    "            current_features = extract_feature(current_data[\"sentence\"])\n",
    "            current_labels = current_data[\"label\"]\n",
    "\n",
    "            # predict the current data\n",
    "            pred = predict_labels(model, current_features)\n",
    "            \n",
    "            d = {\n",
    "                 \"label\" : current_data[\"label\"].values,\n",
    "                 \"prediction\" : pred\n",
    "                }\n",
    "            \n",
    "            \n",
    "            df_per_batch[key_sr] = pd.DataFrame(data=d)\n",
    "\n",
    "        \n",
    "        predicted_fail_test_case = utils.get_fail_test_case(df_per_batch, \"prediction\")\n",
    "        actual_fail_test_case = utils.get_fail_test_case(df_per_batch, \"label\")\n",
    "        \n",
    "        correctly_predicted_fail_test_case = utils.intersection(predicted_fail_test_case, actual_fail_test_case)\n",
    "        \n",
    "        \n",
    "        precision = 0\n",
    "        if (len(predicted_fail_test_case) != 0) :\n",
    "            precision = round(len(correctly_predicted_fail_test_case)/len(predicted_fail_test_case), 2)\n",
    "        recall = 0\n",
    "        if (len(actual_fail_test_case) != 0) :\n",
    "            recall = round(len(correctly_predicted_fail_test_case)/len(actual_fail_test_case), 2)\n",
    "        precision_add_recall = precision + recall\n",
    "        f1 = 0\n",
    "        if precision_add_recall != 0 :\n",
    "            f1 = round( 2 * precision * recall / (precision_add_recall), 2)\n",
    "        performance_data.append(\n",
    "            [len(actual_fail_test_case), \n",
    "             len(predicted_fail_test_case), \n",
    "             len(correctly_predicted_fail_test_case), \n",
    "             precision, recall, f1])\n",
    "        \n",
    "        # add the predicted data to previous data\n",
    "        if (len(correctly_predicted_fail_test_case) > 0) :\n",
    "            for key_sr in df_per_batch.keys() :\n",
    "                added_data = current_data.iloc[correctly_predicted_fail_test_case,:]\n",
    "                training_data[key_sr].append(added_data)\n",
    "                \n",
    "                # handle imbalance data\n",
    "                resampled_data = utils.resampleToFixNumber(training_data[key_sr], RESAMPLE_SIZE)\n",
    "\n",
    "                # re-extract feature\n",
    "                features[key_sr] = extract_feature(resampled_data[\"sentence\"])\n",
    "                labels[key_sr] = resampled_data[\"label\"]\n",
    "\n",
    "                # re-train the model \n",
    "                train_classifier(model, features[key_sr], labels[key_sr])\n",
    "\n",
    "        # update the lower bound\n",
    "        lower_bound = upper_bound\n",
    "\n",
    "    performance = pd.DataFrame(performance_data, index=index, columns=columns)\n",
    "    \n",
    "    print(\"Classifier: \" + key_clf) \n",
    "    print(performance)\n",
    "    actual_fail_test_case =  int(performance[\"True\"].sum(axis=0))\n",
    "    predicted_fail_test_case = int(performance[\"Positive\"].sum(axis=0))\n",
    "    correctly_predicted_fail_test_case = int(performance[\"TP\"].sum(axis=0))\n",
    "    precision = round(performance[\"Precision\"].mean(), 2)\n",
    "    recall = round(performance[\"Recall\"].mean(), 2)\n",
    "    f1 = round(performance[\"F1\"].mean(), 2)\n",
    "    \n",
    "    print(\"Actual Fail Test Case: %d\" % (actual_fail_test_case))\n",
    "    print(\"Predicted Fail Test Case: %d\" % (predicted_fail_test_case))\n",
    "    print(\"Correctly Predicted Fail Test Case: %d\" % (correctly_predicted_fail_test_case))\n",
    "    print(\"Precision: %.2f\" % (precision))\n",
    "    print(\"Recall: %.2f\" % (recall))\n",
    "    print(\"F1: %.2f\" % (f1))\n",
    "    print(\"\\n\")\n",
    "    \n",
    "    performance_writer.write(\"Classifier: %s\" % (key_clf))\n",
    "    performance_writer.write(\"\\n\" + str(performance))\n",
    "    performance_writer.write(\"\\nActual Fail Test Case: %d\" % (actual_fail_test_case))\n",
    "    performance_writer.write(\"\\nPredicted Fail Test Case: %d\" % (predicted_fail_test_case))\n",
    "    performance_writer.write(\"\\nCorrectly Predicted Fail Test Case: %d\" % (correctly_predicted_fail_test_case))\n",
    "    performance_writer.write(\"\\nPrecision: %.2f\" % (precision))\n",
    "    performance_writer.write(\"\\nRecall: %.2f\" % (recall))\n",
    "    performance_writer.write(\"\\nF1: %.2f\" % (f1))\n",
    "    performance_writer.write(\"\\n\\n\")\n",
    "\n",
    "performance_writer.close()"
   ]
  },
  {
   "cell_type": "code",
   "execution_count": null,
   "metadata": {},
   "outputs": [],
   "source": []
  },
  {
   "cell_type": "code",
   "execution_count": null,
   "metadata": {},
   "outputs": [],
   "source": []
  },
  {
   "cell_type": "code",
   "execution_count": null,
   "metadata": {},
   "outputs": [],
   "source": []
  }
 ],
 "metadata": {
  "kernelspec": {
   "display_name": "Python 3",
   "language": "python",
   "name": "python3"
  },
  "language_info": {
   "codemirror_mode": {
    "name": "ipython",
    "version": 3
   },
   "file_extension": ".py",
   "mimetype": "text/x-python",
   "name": "python",
   "nbconvert_exporter": "python",
   "pygments_lexer": "ipython3",
   "version": "3.7.3"
  }
 },
 "nbformat": 4,
 "nbformat_minor": 4
}
