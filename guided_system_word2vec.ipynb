{
 "cells": [
  {
   "cell_type": "markdown",
   "metadata": {},
   "source": [
    "# Guided Test Case Generation System Notebook"
   ]
  },
  {
   "cell_type": "code",
   "execution_count": 6,
   "metadata": {},
   "outputs": [
    {
     "name": "stdout",
     "output_type": "stream",
     "text": [
      "The autoreload extension is already loaded. To reload it, use:\n",
      "  %reload_ext autoreload\n"
     ]
    }
   ],
   "source": [
    "# Basic libraries\n",
    "import os, sys\n",
    "import numpy as np\n",
    "import re\n",
    "import string\n",
    "from datetime import datetime\n",
    "import math\n",
    "import pandas as pd\n",
    "\n",
    "import matplotlib.pyplot as plt\n",
    "import seaborn as sns\n",
    "%matplotlib inline\n",
    "\n",
    "\n",
    "# Speech\n",
    "import soundfile as sf # pip install pysoundfile\n",
    "import python_speech_features as speech_lib # pip install python_speech_features\n",
    "\n",
    "\n",
    "# Machine learning\n",
    "import nltk\n",
    "import xgboost\n",
    "from sklearn.utils import shuffle\n",
    "from sklearn.base import clone as clone_model\n",
    "from sklearn.utils import resample\n",
    "from sklearn.naive_bayes import GaussianNB\n",
    "from sklearn.neural_network import MLPClassifier\n",
    "from sklearn.linear_model import LogisticRegression\n",
    "from sklearn.svm import SVC\n",
    "from sklearn.naive_bayes import MultinomialNB\n",
    "from sklearn.tree import DecisionTreeClassifier\n",
    "from sklearn.neighbors import KNeighborsClassifier\n",
    "from sklearn.ensemble import RandomForestClassifier\n",
    "from sklearn.ensemble import AdaBoostClassifier\n",
    "from sklearn.ensemble import BaggingClassifier\n",
    "from sklearn.ensemble import ExtraTreesClassifier\n",
    "from sklearn.metrics import classification_report, confusion_matrix, accuracy_score, precision_score, recall_score, f1_score\n",
    "\n",
    "import joblib\n",
    "\n",
    "import tensorflow as tf\n",
    "\n",
    "\n",
    "%load_ext autoreload\n",
    "%autoreload 2\n",
    "np.set_printoptions(precision=4)"
   ]
  },
  {
   "cell_type": "markdown",
   "metadata": {},
   "source": [
    "### Read Data"
   ]
  },
  {
   "cell_type": "code",
   "execution_count": 14,
   "metadata": {},
   "outputs": [],
   "source": [
    "def read_data(fpath) :\n",
    "    df = pd.read_csv(fpath, sep=\",\", header=None)\n",
    "    df.columns = [\"sentence\", \"label\"]\n",
    "    return df\n",
    "\n",
    "df = {\n",
    "    \"deepspeech\": read_data(\"training_data/deepspeech.txt\"),\n",
    "    \"paddledeepspeech\" : read_data(\"training_data/paddledeepspeech.txt\"),\n",
    "    \"wav2letter\": read_data(\"training_data/wav2letter.txt\"),\n",
    "    \"wit\": read_data(\"training_data/wit.txt\")\n",
    "}\n",
    "\n",
    "# shuffle data\n",
    "# for key in df.keys() :\n",
    "#     df[key] = df[key].sample(frac=1).reset_index(drop=True)\n",
    "\n",
    "corpus_filepath = \"corpus-sentence.txt\"\n",
    "\n",
    "BUG_LABEL = 1\n",
    "NON_BUG_LABEL = 0\n",
    "UNDETERMINED_LABEL = -1"
   ]
  },
  {
   "cell_type": "code",
   "execution_count": 15,
   "metadata": {},
   "outputs": [
    {
     "data": {
      "text/html": [
       "<div>\n",
       "<style scoped>\n",
       "    .dataframe tbody tr th:only-of-type {\n",
       "        vertical-align: middle;\n",
       "    }\n",
       "\n",
       "    .dataframe tbody tr th {\n",
       "        vertical-align: top;\n",
       "    }\n",
       "\n",
       "    .dataframe thead th {\n",
       "        text-align: right;\n",
       "    }\n",
       "</style>\n",
       "<table border=\"1\" class=\"dataframe\">\n",
       "  <thead>\n",
       "    <tr style=\"text-align: right;\">\n",
       "      <th></th>\n",
       "      <th>sentence</th>\n",
       "      <th>label</th>\n",
       "    </tr>\n",
       "  </thead>\n",
       "  <tbody>\n",
       "    <tr>\n",
       "      <th>0</th>\n",
       "      <td>had laid before her a pair of alternatives now...</td>\n",
       "      <td>-1</td>\n",
       "    </tr>\n",
       "    <tr>\n",
       "      <th>1</th>\n",
       "      <td>property erects a kind of barrier you can do a...</td>\n",
       "      <td>-1</td>\n",
       "    </tr>\n",
       "    <tr>\n",
       "      <th>2</th>\n",
       "      <td>i mean of course if you'll take a companion so...</td>\n",
       "      <td>-1</td>\n",
       "    </tr>\n",
       "    <tr>\n",
       "      <th>3</th>\n",
       "      <td>she'd keep people off very well i think</td>\n",
       "      <td>1</td>\n",
       "    </tr>\n",
       "    <tr>\n",
       "      <th>4</th>\n",
       "      <td>that it's a great deal better you should remai...</td>\n",
       "      <td>1</td>\n",
       "    </tr>\n",
       "  </tbody>\n",
       "</table>\n",
       "</div>"
      ],
      "text/plain": [
       "                                            sentence  label\n",
       "0  had laid before her a pair of alternatives now...     -1\n",
       "1  property erects a kind of barrier you can do a...     -1\n",
       "2  i mean of course if you'll take a companion so...     -1\n",
       "3            she'd keep people off very well i think      1\n",
       "4  that it's a great deal better you should remai...      1"
      ]
     },
     "execution_count": 15,
     "metadata": {},
     "output_type": "execute_result"
    }
   ],
   "source": [
    "df[\"deepspeech\"].head()"
   ]
  },
  {
   "cell_type": "code",
   "execution_count": 16,
   "metadata": {},
   "outputs": [],
   "source": [
    "# intersection between two sets\n",
    "def intersection(lst1, lst2): \n",
    "    lst3 = [value for value in lst1 if value in lst2] \n",
    "    return lst3\n",
    "\n",
    "bugs = []\n",
    "for key in df.keys() :\n",
    "    index = np.where(df[key][\"label\"] == BUG_LABEL)\n",
    "    bugs.append(index[0])\n",
    "    \n",
    "non_bugs = []\n",
    "for key in df.keys() :\n",
    "    index = np.where(df[key][\"label\"] == NON_BUG_LABEL)\n",
    "    non_bugs.append(index[0])"
   ]
  },
  {
   "cell_type": "code",
   "execution_count": 17,
   "metadata": {},
   "outputs": [
    {
     "name": "stdout",
     "output_type": "stream",
     "text": [
      "number of success test case: 113\n",
      "number of undetermined test case: 20966\n",
      "number of fail test case: 7460\n"
     ]
    }
   ],
   "source": [
    "success_test_case = non_bugs[0]\n",
    "\n",
    "for i in range(1, len(non_bugs)) :\n",
    "#     print(\"success test case: \" + str(success_test_case))\n",
    "#     print(i)\n",
    "    success_test_case = intersection(success_test_case, non_bugs[i])\n",
    "\n",
    "undetermined_test_case = np.where(df[\"deepspeech\"][\"label\"] == UNDETERMINED_LABEL)[0]\n",
    "\n",
    "print(\"number of success test case: \" + str(len(success_test_case)))\n",
    "print(\"number of undetermined test case: \" + str(len(undetermined_test_case)))\n",
    "number_of_fail_test_case = len(df[\"deepspeech\"][\"label\"]) - len(success_test_case) - len(undetermined_test_case)\n",
    "print(\"number of fail test case: \" + str(number_of_fail_test_case))"
   ]
  },
  {
   "cell_type": "markdown",
   "metadata": {},
   "source": [
    "### Data distribution"
   ]
  },
  {
   "cell_type": "code",
   "execution_count": 18,
   "metadata": {},
   "outputs": [
    {
     "name": "stdout",
     "output_type": "stream",
     "text": [
      "\n",
      "\n",
      "\n",
      "\n",
      "deepspeech\n"
     ]
    },
    {
     "data": {
      "image/png": "[encoded data removed]",
      "text/plain": [
       "<Figure size 432x432 with 1 Axes>"
      ]
     },
     "metadata": {},
     "output_type": "display_data"
    },
    {
     "name": "stdout",
     "output_type": "stream",
     "text": [
      "\n",
      "\n",
      "\n",
      "\n",
      "paddledeepspeech\n"
     ]
    },
    {
     "data": {
      "image/png": "[encoded data removed]",
      "text/plain": [
       "<Figure size 432x432 with 1 Axes>"
      ]
     },
     "metadata": {},
     "output_type": "display_data"
    },
    {
     "name": "stdout",
     "output_type": "stream",
     "text": [
      "\n",
      "\n",
      "\n",
      "\n",
      "wav2letter\n"
     ]
    },
    {
     "data": {
      "image/png": "[encoded data removed]",
      "text/plain": [
       "<Figure size 432x432 with 1 Axes>"
      ]
     },
     "metadata": {},
     "output_type": "display_data"
    },
    {
     "name": "stdout",
     "output_type": "stream",
     "text": [
      "\n",
      "\n",
      "\n",
      "\n",
      "wit\n"
     ]
    },
    {
     "data": {
      "image/png": "[encoded data removed]",
      "text/plain": [
       "<Figure size 432x432 with 1 Axes>"
      ]
     },
     "metadata": {},
     "output_type": "display_data"
    }
   ],
   "source": [
    "for key in df.keys() :\n",
    "    print(\"\\n\\n\\n\")\n",
    "    print(key)\n",
    "    # print(df[key].groupby(\"label\").describe())\n",
    "    df[key][\"label\"].value_counts().plot(kind = 'pie', explode = [0.1, 0.1, 0.1], figsize = (6, 6), autopct = '%1.1f%%', shadow = True)\n",
    "    plt.ylabel(\"Data Distibution\")\n",
    "    plt.legend([\"Undetermined Label\", \"Bug\", \"Non-Bug\"])\n",
    "    plt.show()"
   ]
  },
  {
   "cell_type": "markdown",
   "metadata": {},
   "source": [
    "we need to handle imbalance data"
   ]
  },
  {
   "cell_type": "markdown",
   "metadata": {},
   "source": [
    "### Handle Imbalance Data\n",
    "\n",
    "Upsample the small data"
   ]
  },
  {
   "cell_type": "code",
   "execution_count": 5,
   "metadata": {},
   "outputs": [
    {
     "name": "stdout",
     "output_type": "stream",
     "text": [
      "Resample Size: 7362\n"
     ]
    },
    {
     "data": {
      "image/png": "[encoded data removed]",
      "text/plain": [
       "<Figure size 432x432 with 1 Axes>"
      ]
     },
     "metadata": {},
     "output_type": "display_data"
    }
   ],
   "source": [
    "def upsampleMinority(df):\n",
    "    # Separate majority and minority classes\n",
    "    df_majority = df[df.label==NON_BUG_LABEL]\n",
    "    df_minority = df[df.label==BUG_LABEL]\n",
    "\n",
    "    # Upsample minority class\n",
    "    df_minority_upsampled = resample(df_minority, \n",
    "                                     replace=True,     # sample with replacement\n",
    "                                     n_samples=len(df_majority),    # to match majority class\n",
    "                                     random_state=123) # reproducible results\n",
    "\n",
    "    # Combine majority class with upsampled minority class\n",
    "    df_upsampled = pd.concat([df_majority, df_minority_upsampled])\n",
    "\n",
    "    return df_upsampled.copy()\n",
    "\n",
    "def downsampleMajority(df) :\n",
    "    # Separate majority and minority classes\n",
    "    df_majority = df[df.label==NON_BUG_LABEL]\n",
    "    df_minority = df[df.label==BUG_LABEL]\n",
    "\n",
    "    # Downsample majority class\n",
    "    df_majority_downsampled = resample(df_majority, \n",
    "                                     replace=True,     # sample with replacement\n",
    "                                     n_samples=len(df_minority),    # to match minority class\n",
    "                                     random_state=123) # reproducible results\n",
    "\n",
    "    # Combine majority class with upsampled minority class\n",
    "    df_resampled = pd.concat([df_majority_downsampled, df_minority])\n",
    "\n",
    "    return df_resampled.copy()\n",
    "\n",
    "def resampleToFixNumber(df, n):\n",
    "    # Separate majority and minority classes\n",
    "    df_non_bug = df[df.label==NON_BUG_LABEL]\n",
    "    df_bug = df[df.label==BUG_LABEL]\n",
    "    df_undetermined = df[df.label==UNDETERMINED_LABEL]\n",
    "\n",
    "    df_non_bug = resample(df_non_bug, \n",
    "                     replace=True,     # sample with replacement\n",
    "                     n_samples=n,    # to match minority class\n",
    "                     random_state=123) # reproducible results\n",
    "    \n",
    "    df_bug = resample(df_bug, \n",
    "                     replace=True,     # sample with replacement\n",
    "                     n_samples=n,    # to match majority class\n",
    "                     random_state=123) # reproducible results\n",
    "    \n",
    "    df_undetermined = resample(df_undetermined, \n",
    "                     replace=True,     # sample with replacement\n",
    "                     n_samples=n,    # to match majority class\n",
    "                     random_state=123) # reproducible results\n",
    "\n",
    "    \n",
    "    # Combine majority class with upsampled minority class\n",
    "    df_resampled = pd.concat([df_undetermined, df_bug, df_non_bug])\n",
    "\n",
    "    return df_resampled.copy()\n",
    "\n",
    "def getResampleSize(df) :\n",
    "    size = 0\n",
    "    for k in df.keys() :\n",
    "        df_bug = df[k][df[k].label==BUG_LABEL]\n",
    "        if (len(df_bug[\"label\"]) > size) :\n",
    "            size = len(df_bug[\"label\"])\n",
    "    \n",
    "    return size\n",
    "\n",
    "RESAMPLE_SIZE = getResampleSize(df)\n",
    "print(\"Resample Size: %d\" % RESAMPLE_SIZE)\n",
    "\n",
    "sample = resampleToFixNumber(df[\"deepspeech\"], RESAMPLE_SIZE)\n",
    "sample[\"label\"].value_counts().plot(kind = 'pie', explode = [0.1, 0.1, 0.1], figsize = (6, 6), autopct = '%1.1f%%', shadow = True)\n",
    "plt.ylabel(\"Data Distibution\")\n",
    "plt.legend([\"Undetermined Label\", \"Non-Bug\", \"Bug\"])\n",
    "plt.show()"
   ]
  },
  {
   "cell_type": "markdown",
   "metadata": {},
   "source": [
    "### Feature Extraction"
   ]
  },
  {
   "cell_type": "code",
   "execution_count": 6,
   "metadata": {},
   "outputs": [],
   "source": [
    "from sklearn.feature_extraction.text import CountVectorizer\n",
    "from sklearn.feature_extraction.text import TfidfTransformer\n",
    "\n",
    "import string\n",
    "\n",
    "def remove_punctuation(sentence) :\n",
    "    return sentence.translate(str.maketrans('', '', string.punctuation))\n",
    "\n",
    "# Text processing: remove punction\n",
    "def text_process(sentence):\n",
    "    nopunc =[char for char in sentence if char not in string.punctuation]\n",
    "    nopunc=''.join(nopunc)\n",
    "    return [word for word in nopunc.split()]"
   ]
  },
  {
   "cell_type": "code",
   "execution_count": 7,
   "metadata": {},
   "outputs": [],
   "source": [
    "NUM_CORES = 4\n",
    "EMBEDDING_SIZE = 13"
   ]
  },
  {
   "cell_type": "code",
   "execution_count": 8,
   "metadata": {},
   "outputs": [],
   "source": [
    "from gensim.models import Word2Vec\n",
    "\n",
    "corpus_sentence = pd.read_csv('corpus-sentence.txt', sep=\",\", header=None)\n",
    "corpus_sentence.columns = [\"sentence\"]\n",
    "tokenized_corpus = list(corpus_sentence['sentence'].apply(text_process))\n",
    "\n",
    "w2v_model = Word2Vec(\n",
    "    sentences=tokenized_corpus,\n",
    "    size=EMBEDDING_SIZE,\n",
    "    min_count=1,\n",
    "    window=5,\n",
    "    workers=NUM_CORES,\n",
    "    seed=1337\n",
    ")\n",
    "\n",
    "w2v_model.save(\"model/word2vec.model\")\n",
    "\n",
    "# Show that similar words to 'program' print\n",
    "# w2v_model.wv.most_similar(positive='program')\n",
    "\n",
    "# Encode the documents using the new embedding\n",
    "encoded_docs = [[w2v_model.wv[word] for word in sentence] for sentence in tokenized_corpus]"
   ]
  },
  {
   "cell_type": "markdown",
   "metadata": {},
   "source": [
    "### Length variation on each sentence"
   ]
  },
  {
   "cell_type": "code",
   "execution_count": 9,
   "metadata": {},
   "outputs": [
    {
     "name": "stdout",
     "output_type": "stream",
     "text": [
      "42\n",
      "40\n"
     ]
    }
   ],
   "source": [
    "print(len(encoded_docs[0]))\n",
    "print(len(encoded_docs[1])) \n",
    "# print(encoded_docs[0]) "
   ]
  },
  {
   "cell_type": "code",
   "execution_count": 10,
   "metadata": {},
   "outputs": [
    {
     "data": {
      "text/plain": [
       "75"
      ]
     },
     "execution_count": 10,
     "metadata": {},
     "output_type": "execute_result"
    }
   ],
   "source": [
    "def max_length_sentence_from_corpus(encoded_docs):\n",
    "    max = 0\n",
    "    for encoded_sentence in encoded_docs :\n",
    "        if (len(encoded_sentence) > max) :\n",
    "            max = len(encoded_sentence)\n",
    "    return max\n",
    "\n",
    "\n",
    "MAX_LENGTH = max_length_sentence_from_corpus(encoded_docs)\n",
    "MAX_LENGTH"
   ]
  },
  {
   "cell_type": "code",
   "execution_count": 11,
   "metadata": {},
   "outputs": [],
   "source": [
    "# because the length of each sentence is various \n",
    "# and we use non-sequential machine learning model\n",
    "# we need to make padding for each sentences\n",
    "def create_padding_on_sentence(encoded_docs) :\n",
    "    padded_posts = []\n",
    "\n",
    "    for post in encoded_docs:\n",
    "\n",
    "        # Pad short posts with alternating min/max\n",
    "        if len(post) < MAX_LENGTH:\n",
    "\n",
    "            padding_size = MAX_LENGTH - len(post)\n",
    "\n",
    "            for _ in range(0, padding_size) :\n",
    "                post.append(np.zeros((EMBEDDING_SIZE)))\n",
    "\n",
    "\n",
    "        # Shorten long posts or those odd number length posts we padded to MAX_LENGTH\n",
    "        if len(post) > MAX_LENGTH:\n",
    "            post = post[:MAX_LENGTH]\n",
    "\n",
    "        # Add the post to our new list of padded posts\n",
    "        padded_posts.append(post)\n",
    "    \n",
    "    return padded_posts"
   ]
  },
  {
   "cell_type": "code",
   "execution_count": 12,
   "metadata": {},
   "outputs": [],
   "source": [
    "def flatten_docs(padded_docs) :\n",
    "    flatten = []\n",
    "    for sentence in padded_docs:\n",
    "        ps = []\n",
    "        for word in sentence :\n",
    "            for feature in word :\n",
    "                ps.append(feature)\n",
    "        flatten.append(ps)\n",
    "    return np.asarray(flatten)"
   ]
  },
  {
   "cell_type": "code",
   "execution_count": 13,
   "metadata": {},
   "outputs": [],
   "source": [
    "temp_data = resampleToFixNumber(df[\"deepspeech\"], RESAMPLE_SIZE)\n",
    "temp_data = shuffle(temp_data)\n",
    "temp_data = temp_data.reset_index(drop=True)"
   ]
  },
  {
   "cell_type": "code",
   "execution_count": 14,
   "metadata": {},
   "outputs": [
    {
     "data": {
      "text/html": [
       "<div>\n",
       "<style scoped>\n",
       "    .dataframe tbody tr th:only-of-type {\n",
       "        vertical-align: middle;\n",
       "    }\n",
       "\n",
       "    .dataframe tbody tr th {\n",
       "        vertical-align: top;\n",
       "    }\n",
       "\n",
       "    .dataframe thead th {\n",
       "        text-align: right;\n",
       "    }\n",
       "</style>\n",
       "<table border=\"1\" class=\"dataframe\">\n",
       "  <thead>\n",
       "    <tr style=\"text-align: right;\">\n",
       "      <th></th>\n",
       "      <th>sentence</th>\n",
       "      <th>label</th>\n",
       "    </tr>\n",
       "  </thead>\n",
       "  <tbody>\n",
       "    <tr>\n",
       "      <th>0</th>\n",
       "      <td>you cannot tell a man by the lobster he eats b...</td>\n",
       "      <td>1</td>\n",
       "    </tr>\n",
       "    <tr>\n",
       "      <th>1</th>\n",
       "      <td>uncle roger unlocked and flung open the front ...</td>\n",
       "      <td>1</td>\n",
       "    </tr>\n",
       "    <tr>\n",
       "      <th>2</th>\n",
       "      <td>and two and twenty thousand horsemen besides t...</td>\n",
       "      <td>1</td>\n",
       "    </tr>\n",
       "    <tr>\n",
       "      <th>3</th>\n",
       "      <td>after a couple of minutes unbroken silence hen...</td>\n",
       "      <td>-1</td>\n",
       "    </tr>\n",
       "    <tr>\n",
       "      <th>4</th>\n",
       "      <td>his cousin was a very brilliant girl</td>\n",
       "      <td>0</td>\n",
       "    </tr>\n",
       "  </tbody>\n",
       "</table>\n",
       "</div>"
      ],
      "text/plain": [
       "                                            sentence  label\n",
       "0  you cannot tell a man by the lobster he eats b...      1\n",
       "1  uncle roger unlocked and flung open the front ...      1\n",
       "2  and two and twenty thousand horsemen besides t...      1\n",
       "3  after a couple of minutes unbroken silence hen...     -1\n",
       "4               his cousin was a very brilliant girl      0"
      ]
     },
     "execution_count": 14,
     "metadata": {},
     "output_type": "execute_result"
    }
   ],
   "source": [
    "temp_data.head()"
   ]
  },
  {
   "cell_type": "code",
   "execution_count": 15,
   "metadata": {},
   "outputs": [],
   "source": [
    "def extract_feature(docs) :\n",
    "    tokenized_sentences = docs.apply(text_process)\n",
    "    encoded_docs = [[w2v_model.wv[word] for word in sentence] for sentence in tokenized_sentences]\n",
    "    padded_docs = create_padding_on_sentence(encoded_docs)\n",
    "    flatten_array = flatten_docs(padded_docs)\n",
    "    return flatten_array"
   ]
  },
  {
   "cell_type": "code",
   "execution_count": 16,
   "metadata": {},
   "outputs": [
    {
     "data": {
      "text/plain": [
       "'you cannot tell a man by the lobster he eats but you can tell something about him by the literature he reads for instance i once occupied a carriage on an eastern line'"
      ]
     },
     "execution_count": 16,
     "metadata": {},
     "output_type": "execute_result"
    }
   ],
   "source": [
    "temp_data[\"sentence\"][0]"
   ]
  },
  {
   "cell_type": "code",
   "execution_count": 17,
   "metadata": {},
   "outputs": [],
   "source": [
    "flatten_array = extract_feature(temp_data['sentence'])"
   ]
  },
  {
   "cell_type": "code",
   "execution_count": 18,
   "metadata": {},
   "outputs": [],
   "source": [
    "# flatten_array[0]"
   ]
  },
  {
   "cell_type": "code",
   "execution_count": 19,
   "metadata": {},
   "outputs": [],
   "source": [
    "# https://www.kaggle.com/reiinakano/basic-nlp-bag-of-words-tf-idf-word2vec-lstm\n",
    "\n",
    "from sklearn.ensemble import RandomForestClassifier\n",
    "\n",
    "from sklearn.model_selection import cross_val_predict\n",
    "from sklearn.model_selection import StratifiedKFold\n",
    "from sklearn.model_selection import train_test_split\n",
    "\n",
    "from sklearn.metrics import log_loss\n",
    "from sklearn.metrics import accuracy_score\n",
    "from sklearn.metrics import plot_confusion_matrix\n",
    "\n",
    "import scikitplot.metrics as skplt\n",
    "\n",
    "def evaluate_features(X, y, clf=None):\n",
    "    \"\"\"General helper function for evaluating effectiveness of passed features in ML model\n",
    "    \n",
    "    Prints out Log loss, accuracy, and confusion matrix with 3-fold stratified cross-validation\n",
    "    \n",
    "    Args:\n",
    "        X (array-like): Features array. Shape (n_samples, n_features)\n",
    "        \n",
    "        y (array-like): Labels array. Shape (n_samples,)\n",
    "        \n",
    "        clf: Classifier to use. If None, default Log reg is use.\n",
    "    \"\"\"\n",
    "    if clf is None:\n",
    "        clf = RandomForestClassifier(n_estimators=31, random_state=111)\n",
    "\n",
    "    \n",
    "    probas = cross_val_predict(clf, X, y, cv=StratifiedKFold(random_state=8,shuffle=True), n_jobs=4, method='predict_proba', verbose=2)\n",
    "#     print(probas)\n",
    "    pred_indices = np.argmax(probas, axis=1)\n",
    "    classes = np.unique(y)\n",
    "    preds = classes[pred_indices]\n",
    "    print('Log loss: {}'.format(log_loss(y, probas)))\n",
    "    print('Accuracy: {}'.format(accuracy_score(y, preds)))\n",
    "    skplt.plot_confusion_matrix(y, preds)"
   ]
  },
  {
   "cell_type": "code",
   "execution_count": 20,
   "metadata": {},
   "outputs": [
    {
     "name": "stderr",
     "output_type": "stream",
     "text": [
      "[Parallel(n_jobs=4)]: Using backend LokyBackend with 4 concurrent workers.\n",
      "[Parallel(n_jobs=4)]: Done   5 out of   5 | elapsed:   25.5s finished\n"
     ]
    },
    {
     "name": "stdout",
     "output_type": "stream",
     "text": [
      "Log loss: 0.417494293516595\n",
      "Accuracy: 0.84773159467536\n"
     ]
    },
    {
     "data": {
      "image/png": "[encoded data removed]",
      "text/plain": [
       "<Figure size 432x288 with 2 Axes>"
      ]
     },
     "metadata": {
      "needs_background": "light"
     },
     "output_type": "display_data"
    }
   ],
   "source": [
    "evaluate_features(flatten_array, temp_data[\"label\"])"
   ]
  },
  {
   "cell_type": "markdown",
   "metadata": {},
   "source": [
    "## Experiment"
   ]
  },
  {
   "cell_type": "markdown",
   "metadata": {},
   "source": [
    "### Trying Model in the First Batch"
   ]
  },
  {
   "cell_type": "code",
   "execution_count": 21,
   "metadata": {},
   "outputs": [],
   "source": [
    "N_JOBS = 4\n",
    "\n",
    "svc = SVC(kernel='sigmoid', gamma=1.0)\n",
    "knc = KNeighborsClassifier(n_neighbors=10)\n",
    "mnb = MultinomialNB(alpha=0.2)\n",
    "dtc = DecisionTreeClassifier(min_samples_split=7, random_state=111)\n",
    "lrc = LogisticRegression(solver='lbfgs', n_jobs=N_JOBS)\n",
    "rfc = RandomForestClassifier(n_estimators=31, random_state=111, n_jobs=N_JOBS)\n",
    "abc = AdaBoostClassifier(n_estimators=31, random_state=111)\n",
    "bc = BaggingClassifier(n_estimators=10, random_state=111, n_jobs=N_JOBS)\n",
    "etc = ExtraTreesClassifier(n_estimators=10, random_state=111, n_jobs=N_JOBS)\n",
    "xgb = xgboost.XGBClassifier(max_depth=50, n_estimators=80, learning_rate=0.1, colsample_bytree=.7, gamma=0, reg_alpha=4, objective='binary:logistic', eta=0.3, silent=1, subsample=0.8)"
   ]
  },
  {
   "cell_type": "code",
   "execution_count": 22,
   "metadata": {},
   "outputs": [],
   "source": [
    "clfs = {'SVC' : svc,'KN' : knc, 'NB': mnb, 'DT': dtc, 'LR': lrc, 'RF': rfc, 'AdaBoost': abc, 'BgC': bc, 'ETC': etc, 'XGB': xgb }"
   ]
  },
  {
   "cell_type": "code",
   "execution_count": 23,
   "metadata": {},
   "outputs": [],
   "source": [
    "def train_classifier(clf, feature_train, labels_train):    \n",
    "    clf.fit(feature_train, labels_train)\n",
    "    \n",
    "def predict_labels(clf, features):\n",
    "    return clf.predict(features)\n",
    "\n",
    "# intersection between 2 sets\n",
    "def intersection(lst1, lst2): \n",
    "    lst3 = [value for value in lst1 if value in lst2] \n",
    "    return lst3"
   ]
  },
  {
   "cell_type": "code",
   "execution_count": 29,
   "metadata": {},
   "outputs": [],
   "source": [
    "k = list(df.keys())[0]\n",
    "FIRST_BATCH_SIZE = math.ceil(len(df[k][\"label\"]) * 3 / 4 )\n",
    "# FIRST_BATCH_SIZE = math.ceil(len(df[k][\"label\"]) / 2 )\n",
    "BATCH_SIZE = math.ceil(len(df[k][\"label\"]) / 2 / 3)\n",
    "MAX_SIZE = len(df[k][\"label\"])\n",
    "\n",
    "features = {}\n",
    "labels = {}\n",
    "for k,v in df.items() :\n",
    "    data = v[:FIRST_BATCH_SIZE]\n",
    "    data = resampleToFixNumber(data, RESAMPLE_SIZE)\n",
    "    features[k] = extract_feature(data[\"sentence\"])\n",
    "    labels[k] = data[\"label\"]"
   ]
  },
  {
   "cell_type": "code",
   "execution_count": 30,
   "metadata": {},
   "outputs": [],
   "source": [
    "models = {}\n",
    "# selected_clfs = [\"SVC\", \"KN\", \"NB\", \"DT\", \"LR\", \"RF\", \"AdaBoost\", \"BgC\", \"ETC\", \"XGB\"]\n",
    "# selected_clfs = [\"SVC\", \"KN\", \"NB\", \"DT\", \"LR\", \"AdaBoost\", \"XGB\"]\n",
    "# selected_clfs = [\"RF\"]\n",
    "selected_clfs = [\"KN\", \"DT\", \"LR\", \"RF\", \"AdaBoost\", \"ETC\"]\n",
    "for k in selected_clfs :\n",
    "    per_sr_model = {}\n",
    "    for key_sr in features.keys() :\n",
    "        model = None\n",
    "        model = clone_model(clfs[k])\n",
    "        train_classifier(model, features[key_sr], labels[key_sr])\n",
    "        per_sr_model[key_sr] = model\n",
    "    models[k] = per_sr_model\n",
    "    \n",
    "for clf in models.keys() :\n",
    "    for sr in models[clf].keys():\n",
    "        filename = \"model/\" + clf + \"_\" + sr + \".sav\"\n",
    "        joblib.dump(models[clf][sr], filename)"
   ]
  },
  {
   "cell_type": "markdown",
   "metadata": {},
   "source": [
    "### Trying Model for the Next Batch until Finish"
   ]
  },
  {
   "cell_type": "code",
   "execution_count": 31,
   "metadata": {},
   "outputs": [
    {
     "name": "stdout",
     "output_type": "stream",
     "text": [
      "Classifier: KN\n",
      "               Predicted  CorrectlyPredictedBug  UndetectedBug  Precision  \\\n",
      "21405 - 26162       4102                   2380            380       0.58   \n",
      "26162 - 28539       2017                   1148            204       0.57   \n",
      "\n",
      "               Recall    F1  \n",
      "21405 - 26162    0.86  0.69  \n",
      "26162 - 28539    0.85  0.68  \n",
      "Total Generated: 6119\n",
      "Correctly Predicted Bug: 3528\n",
      "Undetected Bug: 584\n",
      "Total bug: 4112\n",
      "Precision: 0.57\n",
      "Recall: 0.86\n",
      "F1: 0.68\n",
      "\n",
      "\n",
      "Classifier: DT\n",
      "               Predicted  CorrectlyPredictedBug  UndetectedBug  Precision  \\\n",
      "21405 - 26162       3603                   2133            627       0.59   \n",
      "26162 - 28539       1817                   1070            282       0.59   \n",
      "\n",
      "               Recall    F1  \n",
      "21405 - 26162    0.77  0.67  \n",
      "26162 - 28539    0.79  0.68  \n",
      "Total Generated: 5420\n",
      "Correctly Predicted Bug: 3203\n",
      "Undetected Bug: 909\n",
      "Total bug: 4112\n",
      "Precision: 0.59\n",
      "Recall: 0.78\n",
      "F1: 0.68\n",
      "\n",
      "\n",
      "Classifier: LR\n",
      "               Predicted  CorrectlyPredictedBug  UndetectedBug  Precision  \\\n",
      "21405 - 26162       3842                   2263            497       0.59   \n",
      "26162 - 28539       1902                   1102            250       0.58   \n",
      "\n",
      "               Recall    F1  \n",
      "21405 - 26162    0.82  0.69  \n",
      "26162 - 28539    0.82  0.68  \n",
      "Total Generated: 5744\n",
      "Correctly Predicted Bug: 3365\n",
      "Undetected Bug: 747\n",
      "Total bug: 4112\n",
      "Precision: 0.58\n",
      "Recall: 0.82\n",
      "F1: 0.68\n",
      "\n",
      "\n",
      "Classifier: RF\n",
      "               Predicted  CorrectlyPredictedBug  UndetectedBug  Precision  \\\n",
      "21405 - 26162       2371                   1581           1179       0.67   \n",
      "26162 - 28539       1167                    769            583       0.66   \n",
      "\n",
      "               Recall    F1  \n",
      "21405 - 26162    0.57  0.62  \n",
      "26162 - 28539    0.57  0.61  \n",
      "Total Generated: 3538\n",
      "Correctly Predicted Bug: 2350\n",
      "Undetected Bug: 1762\n",
      "Total bug: 4112\n",
      "Precision: 0.66\n",
      "Recall: 0.57\n",
      "F1: 0.62\n",
      "\n",
      "\n",
      "Classifier: AdaBoost\n",
      "               Predicted  CorrectlyPredictedBug  UndetectedBug  Precision  \\\n",
      "21405 - 26162       2894                   1712           1048       0.59   \n",
      "26162 - 28539       1429                    869            483       0.61   \n",
      "\n",
      "               Recall    F1  \n",
      "21405 - 26162    0.62  0.60  \n",
      "26162 - 28539    0.64  0.62  \n",
      "Total Generated: 4323\n",
      "Correctly Predicted Bug: 2581\n",
      "Undetected Bug: 1531\n",
      "Total bug: 4112\n",
      "Precision: 0.60\n",
      "Recall: 0.63\n",
      "F1: 0.61\n",
      "\n",
      "\n",
      "Classifier: ETC\n",
      "               Predicted  CorrectlyPredictedBug  UndetectedBug  Precision  \\\n",
      "21405 - 26162       2248                   1433           1327       0.64   \n",
      "26162 - 28539       1104                    730            622       0.66   \n",
      "\n",
      "               Recall    F1  \n",
      "21405 - 26162    0.52  0.57  \n",
      "26162 - 28539    0.54  0.59  \n",
      "Total Generated: 3352\n",
      "Correctly Predicted Bug: 2163\n",
      "Undetected Bug: 1949\n",
      "Total bug: 4112\n",
      "Precision: 0.65\n",
      "Recall: 0.53\n",
      "F1: 0.58\n",
      "\n",
      "\n"
     ]
    }
   ],
   "source": [
    "performance_writer = open(\n",
    "        \"performance/word2vec_\" + str(datetime.now()) + \".txt\", \"w+\")\n",
    "\n",
    "\n",
    "for key_clf, v in models.items() :\n",
    "    # classify the selected data\n",
    "    training_data = {}\n",
    "    for key_sr, model in v.items():\n",
    "        training_data[key_sr] = df[key_sr][:FIRST_BATCH_SIZE]\n",
    "\n",
    "    lower_bound = FIRST_BATCH_SIZE\n",
    "\n",
    "    columns = [\"Predicted\", \"CorrectlyPredictedBug\", \"UndetectedBug\", \"Precision\", \"Recall\", \"F1\"]\n",
    "    index = []\n",
    "    performance_data = []\n",
    "\n",
    "    while (lower_bound < MAX_SIZE) :\n",
    "        # set the upper bound size\n",
    "        upper_bound = lower_bound + BATCH_SIZE\n",
    "        if (upper_bound > MAX_SIZE) :\n",
    "            upper_bound = MAX_SIZE\n",
    "        batch = str(lower_bound) + \" - \" + str(upper_bound)\n",
    "        index.append(batch)\n",
    "            \n",
    "        union_used_index = []\n",
    "        union_bug_index = []\n",
    "        bug_index_per_model = {}\n",
    "            \n",
    "        for key_sr, model in v.items():\n",
    "            # get the data to be selected\n",
    "            current_data = df[key_sr][lower_bound:upper_bound]\n",
    "            current_sentence = current_data[\"sentence\"]\n",
    "            current_labels = current_data[\"label\"]\n",
    "\n",
    "            # extract feature from the data\n",
    "            current_features = extract_feature(current_sentence)\n",
    "\n",
    "            # predict the current data\n",
    "            pred = predict_labels(model, current_features)\n",
    "\n",
    "            # see the classifier performance\n",
    "            used_index = np.where(pred == BUG_LABEL)\n",
    "            bug_index = np.where(current_labels == BUG_LABEL)\n",
    "            \n",
    "            union_used_index = list(set().union(union_used_index, used_index[0]))\n",
    "            union_bug_index = list(set().union(union_bug_index, bug_index[0]))\n",
    "            bug_index_per_model[key_sr] = bug_index[0]\n",
    "            \n",
    "\n",
    "        intersect = intersection(union_used_index, union_bug_index)\n",
    "        intersection_length = len(intersect)\n",
    "        undetected_bug = len(union_bug_index)-intersection_length\n",
    "        precision = 0\n",
    "        if (len(union_used_index) != 0) :\n",
    "            precision = round(intersection_length/len(union_used_index), 2)\n",
    "        recall = 0\n",
    "        if ((intersection_length + undetected_bug) != 0) :\n",
    "            recall = round(intersection_length/(intersection_length + undetected_bug), 2)\n",
    "        precision_recall = precision + recall\n",
    "        f1 = 0\n",
    "        if precision_recall != 0 :\n",
    "            f1 = round( 2 * precision * recall / (precision_recall), 2)\n",
    "        performance_data.append([len(union_used_index), intersection_length, undetected_bug, precision, recall, f1])\n",
    "        \n",
    "        # add the predicted data to previous data\n",
    "        if (len(union_used_index) > 0) :\n",
    "            for key_sr, bug_index in bug_index_per_model.items() :\n",
    "                intersection_index = intersection(union_used_index, bug_index)\n",
    "                added_data = current_data.iloc[intersection_index,:]\n",
    "                training_data[key_sr].append(added_data)\n",
    "                \n",
    "                # handle imbalance data\n",
    "                resampled_data = resampleToFixNumber(training_data[key_sr], RESAMPLE_SIZE)\n",
    "\n",
    "                # re-extract feature\n",
    "                features[key_sr] = extract_feature(resampled_data[\"sentence\"])\n",
    "                labels[key_sr] = resampled_data[\"label\"]\n",
    "\n",
    "                # re-train the model \n",
    "                train_classifier(model, features[key_sr], labels[key_sr])\n",
    "\n",
    "        # update the lower bound\n",
    "        lower_bound = upper_bound\n",
    "\n",
    "    performance = pd.DataFrame(performance_data, index=index, columns=columns)\n",
    "    print(\"Classifier: \" + key_clf) \n",
    "    print(performance)\n",
    "    generated = int(performance[\"Predicted\"].sum(axis=0))\n",
    "    correctly_predicted_bug = int(performance[\"CorrectlyPredictedBug\"].sum(axis=0))\n",
    "    undetected_bug =  int(performance[\"UndetectedBug\"].sum(axis=0))\n",
    "    precision = round(performance[\"Precision\"].mean(), 2)\n",
    "    recall = round(performance[\"Recall\"].mean(), 2)\n",
    "    f1 = round(performance[\"F1\"].mean(), 2)\n",
    "    print(\"Total Generated: %d\" % (generated))\n",
    "    print(\"Correctly Predicted Bug: %d\" % (correctly_predicted_bug))\n",
    "    print(\"Undetected Bug: %d\" % (undetected_bug))\n",
    "    print(\"Total bug: %d\" % (correctly_predicted_bug + undetected_bug) )\n",
    "    print(\"Precision: %.2f\" % (precision))\n",
    "    print(\"Recall: %.2f\" % (recall))\n",
    "    print(\"F1: %.2f\" % (f1))\n",
    "    print(\"\\n\")\n",
    "    \n",
    "    performance_writer.write(\"Classifier: %s\" % (key_clf))\n",
    "    performance_writer.write(\"\\n\" + str(performance))\n",
    "    performance_writer.write(\"\\nTotal Generated: %d\" % (generated))\n",
    "    performance_writer.write(\"\\nCorrectly Predicted Bug: %d\" % (correctly_predicted_bug))\n",
    "    performance_writer.write(\"\\nUndetected Bug: %d\" % (undetected_bug))\n",
    "    performance_writer.write(\"\\nTotal bug: %d\" % (correctly_predicted_bug + undetected_bug) )\n",
    "    performance_writer.write(\"\\nPrecision: %.2f\" % (precision))\n",
    "    performance_writer.write(\"\\nRecall: %.2f\" % (recall))\n",
    "    performance_writer.write(\"\\nF1: %.2f\" % (f1))\n",
    "    performance_writer.write(\"\\n\\n\")\n",
    "\n",
    "performance_writer.close()"
   ]
  },
  {
   "cell_type": "code",
   "execution_count": null,
   "metadata": {},
   "outputs": [],
   "source": []
  },
  {
   "cell_type": "code",
   "execution_count": null,
   "metadata": {},
   "outputs": [],
   "source": []
  },
  {
   "cell_type": "code",
   "execution_count": null,
   "metadata": {},
   "outputs": [],
   "source": []
  }
 ],
 "metadata": {
  "kernelspec": {
   "display_name": "Python 3",
   "language": "python",
   "name": "python3"
  },
  "language_info": {
   "codemirror_mode": {
    "name": "ipython",
    "version": 3
   },
   "file_extension": ".py",
   "mimetype": "text/x-python",
   "name": "python",
   "nbconvert_exporter": "python",
   "pygments_lexer": "ipython3",
   "version": "3.7.3"
  }
 },
 "nbformat": 4,
 "nbformat_minor": 4
}
